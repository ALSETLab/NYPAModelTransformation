{
 "cells": [
  {
   "cell_type": "code",
   "execution_count": 7,
   "metadata": {},
   "outputs": [
    {
     "ename": "ModuleNotFoundError",
     "evalue": "No module named 'dymola'",
     "output_type": "error",
     "traceback": [
      "\u001b[0;31m---------------------------------------------------------------------------\u001b[0m",
      "\u001b[0;31mModuleNotFoundError\u001b[0m                       Traceback (most recent call last)",
      "\u001b[0;32m<ipython-input-7-74f6f57ccf33>\u001b[0m in \u001b[0;36m<module>\u001b[0;34m\u001b[0m\n\u001b[1;32m      1\u001b[0m \u001b[0;32mimport\u001b[0m \u001b[0mplatform\u001b[0m\u001b[0;34m\u001b[0m\u001b[0;34m\u001b[0m\u001b[0m\n\u001b[0;32m----> 2\u001b[0;31m \u001b[0;32mfrom\u001b[0m \u001b[0mdymola\u001b[0m\u001b[0;34m.\u001b[0m\u001b[0mdymola_interface\u001b[0m \u001b[0;32mimport\u001b[0m \u001b[0mDymolaInterface\u001b[0m\u001b[0;34m\u001b[0m\u001b[0;34m\u001b[0m\u001b[0m\n\u001b[0m\u001b[1;32m      3\u001b[0m \u001b[0;32mfrom\u001b[0m \u001b[0mdymola\u001b[0m\u001b[0;34m.\u001b[0m\u001b[0mdymola_exception\u001b[0m \u001b[0;32mimport\u001b[0m \u001b[0mDymolaException\u001b[0m\u001b[0;34m\u001b[0m\u001b[0;34m\u001b[0m\u001b[0m\n\u001b[1;32m      4\u001b[0m \u001b[0;32mfrom\u001b[0m \u001b[0mmodelicares\u001b[0m \u001b[0;32mimport\u001b[0m \u001b[0mSimRes\u001b[0m\u001b[0;34m\u001b[0m\u001b[0;34m\u001b[0m\u001b[0m\n\u001b[1;32m      5\u001b[0m \u001b[0;32mimport\u001b[0m \u001b[0mpandas\u001b[0m \u001b[0;32mas\u001b[0m \u001b[0mpd\u001b[0m\u001b[0;34m\u001b[0m\u001b[0;34m\u001b[0m\u001b[0m\n",
      "\u001b[0;31mModuleNotFoundError\u001b[0m: No module named 'dymola'"
     ]
    }
   ],
   "source": [
    "import platform\n",
    "from dymola.dymola_interface import DymolaInterface\n",
    "from dymola.dymola_exception import DymolaException\n",
    "from modelicares import SimRes\n",
    "import pandas as pd\n",
    "import numpy as np\n",
    "#import matplotlib.pyplot as plt"
   ]
  },
  {
   "cell_type": "code",
   "execution_count": 4,
   "metadata": {},
   "outputs": [
    {
     "ename": "NameError",
     "evalue": "name 'DymolaInterface' is not defined",
     "output_type": "error",
     "traceback": [
      "\u001b[0;31m---------------------------------------------------------------------------\u001b[0m",
      "\u001b[0;31mNameError\u001b[0m                                 Traceback (most recent call last)",
      "\u001b[0;32m<ipython-input-4-cc9e37a4ae1b>\u001b[0m in \u001b[0;36m<module>\u001b[0;34m\u001b[0m\n\u001b[0;32m----> 1\u001b[0;31m \u001b[0mdymola\u001b[0m \u001b[0;34m=\u001b[0m \u001b[0mDymolaInterface\u001b[0m\u001b[0;34m(\u001b[0m\u001b[0;34m\"/opt/dymola-2019-x86_64/bin64/dymola.sh\"\u001b[0m\u001b[0;34m)\u001b[0m\u001b[0;34m\u001b[0m\u001b[0;34m\u001b[0m\u001b[0m\n\u001b[0m\u001b[1;32m      2\u001b[0m \u001b[0mdymola\u001b[0m\u001b[0;34m.\u001b[0m\u001b[0mopenModel\u001b[0m\u001b[0;34m(\u001b[0m\u001b[0;34m\"/home/dorads/Documents/Manuel/PythonTesting-master/OpenIPSL-master/OpenIPSL/package.mo\"\u001b[0m\u001b[0;34m)\u001b[0m \u001b[0;31m#OpenIPSL library\u001b[0m\u001b[0;34m\u001b[0m\u001b[0;34m\u001b[0m\u001b[0m\n",
      "\u001b[0;31mNameError\u001b[0m: name 'DymolaInterface' is not defined"
     ]
    }
   ],
   "source": [
    "dymola = DymolaInterface(\"/opt/dymola-2019-x86_64/bin64/dymola.sh\")\n",
    "dymola.openModel(\"/home/dorads/Documents/Manuel/PythonTesting-master/OpenIPSL-master/OpenIPSL/package.mo\") #OpenIPSL library"
   ]
  },
  {
   "cell_type": "code",
   "execution_count": 5,
   "metadata": {},
   "outputs": [
    {
     "ename": "NameError",
     "evalue": "name 'DymolaException' is not defined",
     "output_type": "error",
     "traceback": [
      "\u001b[0;31m---------------------------------------------------------------------------\u001b[0m",
      "\u001b[0;31mNameError\u001b[0m                                 Traceback (most recent call last)",
      "\u001b[0;32m<ipython-input-5-52a57806bc81>\u001b[0m in \u001b[0;36m<module>\u001b[0;34m\u001b[0m\n\u001b[1;32m      1\u001b[0m \u001b[0;32mtry\u001b[0m\u001b[0;34m:\u001b[0m\u001b[0;34m\u001b[0m\u001b[0;34m\u001b[0m\u001b[0m\n\u001b[0;32m----> 2\u001b[0;31m     \u001b[0mdymola\u001b[0m\u001b[0;34m.\u001b[0m\u001b[0mcd\u001b[0m\u001b[0;34m(\u001b[0m\u001b[0;34m\"/home/dorads/Documents/Manuel/PythonTesting-master/WorkingDir\"\u001b[0m\u001b[0;34m)\u001b[0m\u001b[0;34m\u001b[0m\u001b[0;34m\u001b[0m\u001b[0m\n\u001b[0m\u001b[1;32m      3\u001b[0m     \u001b[0mresultPath\u001b[0m \u001b[0;34m=\u001b[0m \u001b[0;34m\"/home/dorads/Documents/Manuel/PythonTesting-master/WorkingDir/EXAC1\"\u001b[0m\u001b[0;34m\u001b[0m\u001b[0;34m\u001b[0m\u001b[0m\n",
      "\u001b[0;31mNameError\u001b[0m: name 'dymola' is not defined",
      "\nDuring handling of the above exception, another exception occurred:\n",
      "\u001b[0;31mNameError\u001b[0m                                 Traceback (most recent call last)",
      "\u001b[0;32m<ipython-input-5-52a57806bc81>\u001b[0m in \u001b[0;36m<module>\u001b[0;34m\u001b[0m\n\u001b[1;32m     40\u001b[0m \u001b[0;34m\u001b[0m\u001b[0m\n\u001b[1;32m     41\u001b[0m \u001b[0;34m\u001b[0m\u001b[0m\n\u001b[0;32m---> 42\u001b[0;31m \u001b[0;32mexcept\u001b[0m \u001b[0mDymolaException\u001b[0m \u001b[0;32mas\u001b[0m \u001b[0mex\u001b[0m\u001b[0;34m:\u001b[0m\u001b[0;34m\u001b[0m\u001b[0;34m\u001b[0m\u001b[0m\n\u001b[0m\u001b[1;32m     43\u001b[0m     \u001b[0mprint\u001b[0m\u001b[0;34m(\u001b[0m\u001b[0;34m(\u001b[0m\u001b[0;34m\"Error: \"\u001b[0m \u001b[0;34m+\u001b[0m \u001b[0mstr\u001b[0m\u001b[0;34m(\u001b[0m\u001b[0mex\u001b[0m\u001b[0;34m)\u001b[0m\u001b[0;34m)\u001b[0m\u001b[0;34m)\u001b[0m\u001b[0;34m\u001b[0m\u001b[0;34m\u001b[0m\u001b[0m\n\u001b[1;32m     44\u001b[0m \u001b[0;32mfinally\u001b[0m\u001b[0;34m:\u001b[0m\u001b[0;34m\u001b[0m\u001b[0;34m\u001b[0m\u001b[0m\n",
      "\u001b[0;31mNameError\u001b[0m: name 'DymolaException' is not defined"
     ]
    }
   ],
   "source": [
    "#This is to use with BabyGrid computer with Dymola 2019\n",
    "try:\n",
    "    dymola.cd(\"/home/dorads/Documents/Manuel/PythonTesting-master/WorkingDir\")\n",
    "    resultPath = \"/home/dorads/Documents/Manuel/PythonTesting-master/WorkingDir/EXAC1\"\n",
    "    # Call a function in Dymola and check its return value\n",
    "    result = dymola.simulateModel(\"OpenIPSL.Examples.Controls.PSSE.ES.EXAC1\", \n",
    "                                  numberOfIntervals = 5000,\n",
    "                                 resultFile = resultPath)\n",
    "\n",
    "    if not result:\n",
    "        print(\"Simulation failed. Below is the translation log.\")\n",
    "        log = dymola.getLastErrorLog()\n",
    "        print(log)\n",
    "        exit(1)\n",
    "        \n",
    "    print(\"Simulation OK\")\n",
    "    sim = SimRes(\"/home/dorads/Documents/Manuel/PythonTesting-master/WorkingDir/EXAC1.mat\")\n",
    "    #n = dymola.readTrajectorySize(\"/home/dorads/Documents/Manuel/PythonTesting-master/WorkingDir/EXAC1.mat\")\n",
    "    #print(n)\n",
    "    #print(\"Read OK\")\n",
    "    \n",
    "    variables = ['Time', 'gENROE.delta','gENROE.PELEC', 'eXAC1_1.EFD','gENROE.SPEED', 'GEN1.V', 'LOAD.V', 'GEN2.V', 'FAULT.V' ]\n",
    "    \n",
    "    df_variables = pd.DataFrame([], columns = variables)\n",
    "    print(df_variables.shape)\n",
    "    \n",
    "    for var in variables:\n",
    "        df_variables.drop(var, axis = 1, inplace = True)\n",
    "        df_variables[var] = np.array(sim[var].values())\n",
    "        \n",
    "\n",
    "    #varnames = {\"Time\",\"gENROE.delta\",\"gENROE.PELEC\"}\n",
    "    #print(varnames)\n",
    "    print(\"Vars OK\")\n",
    "    \n",
    "    df_variables.to_csv('data.csv', index = False)\n",
    "    #trajectories = dymola.readTrajectory(\"/home/dorads/Documents/Manuel/PythonTesting-master/WorkingDir/EXAC1.mat\",  {\"Time\",\"gENROE.delta\",\"gENROE.PELEC\"}, n)\n",
    "    #print(\"Trajectories OK\")\n",
    "    #dymola.DataFiles.writeCSVmatrix(\"EXAC1.csv\",varnames,transpose(trajectories))\n",
    "    print(\"Write OK\")\n",
    "\n",
    "    \n",
    "except DymolaException as ex:\n",
    "    print((\"Error: \" + str(ex)))\n",
    "finally:\n",
    "    pass\n",
    "    #if dymola is not None:\n",
    "        #dymola.close()\n",
    "        #dymola = None"
   ]
  },
  {
   "cell_type": "code",
   "execution_count": null,
   "metadata": {},
   "outputs": [],
   "source": []
  },
  {
   "cell_type": "code",
   "execution_count": null,
   "metadata": {},
   "outputs": [],
   "source": []
  },
  {
   "cell_type": "code",
   "execution_count": null,
   "metadata": {},
   "outputs": [],
   "source": []
  },
  {
   "cell_type": "code",
   "execution_count": null,
   "metadata": {},
   "outputs": [],
   "source": []
  }
 ],
 "metadata": {
  "kernelspec": {
   "display_name": "Python 3",
   "language": "python",
   "name": "python3"
  },
  "language_info": {
   "codemirror_mode": {
    "name": "ipython",
    "version": 3
   },
   "file_extension": ".py",
   "mimetype": "text/x-python",
   "name": "python",
   "nbconvert_exporter": "python",
   "pygments_lexer": "ipython3",
   "version": "3.7.4"
  }
 },
 "nbformat": 4,
 "nbformat_minor": 4
}
