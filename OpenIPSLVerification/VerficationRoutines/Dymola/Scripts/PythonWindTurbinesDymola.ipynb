{
 "cells": [
  {
   "cell_type": "code",
   "execution_count": 1,
   "metadata": {},
   "outputs": [],
   "source": [
    "import platform\n",
    "from dymola.dymola_interface import DymolaInterface\n",
    "from dymola.dymola_exception import DymolaException\n",
    "from modelicares import SimRes\n",
    "import pandas as pd\n",
    "import numpy as np\n",
    "import os\n",
    "import shutil"
   ]
  },
  {
   "cell_type": "code",
   "execution_count": null,
   "metadata": {},
   "outputs": [],
   "source": [
    "#This is intended to be used in the manuelnvro Dell using Dymola 2020"
   ]
  },
  {
   "cell_type": "code",
   "execution_count": 2,
   "metadata": {},
   "outputs": [
    {
     "name": "stdout",
     "output_type": "stream",
     "text": [
      "Dymola Wind Turbine Simulation Start...\n",
      "\n"
     ]
    }
   ],
   "source": [
    "#Setting Dymola Interface\n",
    "dymola = DymolaInterface(\"/opt/dymola-2020-x86_64/bin64/dymola.sh\")\n",
    "#Setting OpenIPSL library\n",
    "dymola.openModel(\"/home/manuelnvro/dev/Gitted/PythonTesting/OpenIPSL-master/OpenIPSL/package.mo\") \n",
    "print(\"Dymola Wind Turbine Simulation Start...\\n\")"
   ]
  },
  {
   "cell_type": "code",
   "execution_count": 14,
   "metadata": {},
   "outputs": [],
   "source": [
    "#Creation of matrix with names, paths and variables\n",
    "psss = { 'names' : [\"WT4E1\",\"WT4G1\"],\n",
    "            'path' : [\"OpenIPSL.Examples.Wind.PSSE.WT4E1\",\"OpenIPSL.Examples.Wind.PSSE.WT4G1\"],\n",
    "            'delta' : ['gENROE.delta'],\n",
    "           'pelec' : ['gENROE.PELEC'],\n",
    "            'speed': ['gENROE.SPEED'],\n",
    "           'vothsg' : [\"pSS2A.VOTHSG\",\"pSS2B.VOTHSG\"]}"
   ]
  },
  {
   "cell_type": "code",
   "execution_count": 15,
   "metadata": {},
   "outputs": [],
   "source": [
    "#Delete old results\n",
    "shutil.rmtree('/home/manuelnvro/dev/Gitted/PythonTesting/WorkingDir/Dymola/PowerSystemStabilizers/')\n",
    "#Create Wind Turbine folder\n",
    "os.makedirs('/home/manuelnvro/dev/Gitted/PythonTesting/WorkingDir/Dymola/PowerSystemStabilizers/')\n",
    "os.chdir(f\"/home/manuelnvro/dev/Gitted/PythonTesting/WorkingDir/Dymola/PowerSystemStabilizers/\")\n",
    "for pssNumber, pssName in enumerate(psss['names']):\n",
    "    os.makedirs(f'{pssName}')"
   ]
  },
  {
   "cell_type": "code",
   "execution_count": 16,
   "metadata": {},
   "outputs": [
    {
     "name": "stdout",
     "output_type": "stream",
     "text": [
      "PSS2A Simulation Start...\n",
      "PSS2A Simulation OK...\n",
      ".csv Writing Start...\n",
      "Verifying if it is a GENROU model...\n",
      "PSS2A Variables OK...\n",
      "PSS2A Write OK...\n",
      "Delete OK...\n",
      "\n",
      "PSS2B Simulation Start...\n",
      "PSS2B Simulation OK...\n",
      ".csv Writing Start...\n",
      "Verifying if it is a GENROU model...\n",
      "PSS2B Variables OK...\n",
      "PSS2B Write OK...\n",
      "Delete OK...\n",
      "\n",
      "Turbine Power System Stabilizers Simulation OK...\n"
     ]
    }
   ],
   "source": [
    "#For loop that will iterate between Wind Turbines, simulate, and create the .csv fileurb\n",
    "for pssNumber, pssName in enumerate(psss['names']):\n",
    "    try:\n",
    "        print(f\"{pssName} Simulation Start...\")\n",
    "        dymola.cd(\"/home/manuelnvro/dev/Gitted/PythonTesting/WorkingDir/Dymola/PowerSystemStabilizers/\" + pssName)\n",
    "        resultPath = f\"/home/manuelnvro/dev/Gitted/PythonTesting/WorkingDir/Dymola/PowerSystemStabilizers/{pssName}/\" + pssName \n",
    "        result = dymola.simulateModel(psss['path'][pssNumber], \n",
    "                                  stopTime=10.0,\n",
    "                                  numberOfIntervals = 5000,\n",
    "                                  resultFile = resultPath)\n",
    "        if not result:\n",
    "            print(\"Simulation failed or model was not found. Below is the translation log:\\n\")\n",
    "            log = dymola.getLastErrorLog()\n",
    "            print(log)\n",
    "            try:\n",
    "                os.chdir(f\"/home/manuelnvro/dev/Gitted/PythonTesting/WorkingDir/Dymola/PowerSystemStabilizers/{pssName}/\")\n",
    "                os.remove(\"dsin.txt\")\n",
    "            except:\n",
    "                pass\n",
    "        else:\n",
    "            print(f\"{pssName} Simulation OK...\")\n",
    "            print(\".csv Writing Start...\") \n",
    "            sim = SimRes(f\"/home/manuelnvro/dev/Gitted/PythonTesting/WorkingDir/Dymola/PowerSystemStabilizers/{pssName}/{pssName}.mat\")\n",
    "            try:\n",
    "                print('Verifying if it is a GENROU model...')\n",
    "                #Selecting Variables\n",
    "                variables = ['Time', psss['delta'][0], psss['pelec'][0], psss['speed'][0], psss['vothsg'][pssNumber], 'GEN1.V', 'LOAD.V', 'GEN2.V', 'FAULT.V' ]\n",
    "                df_variables = pd.DataFrame([], columns = variables)\n",
    "                #print(variables)\n",
    "                #print(tgovernorName)\n",
    "                #print(tgovernors['path'][tgovernorNumber])\n",
    "                for var in variables:\n",
    "                    df_variables.drop(var, axis = 1, inplace = True)\n",
    "                    df_variables[var] = np.array(sim[var].values())\n",
    "                print(f\"{pssName} Variables OK...\")\n",
    "                #Changing current directory\n",
    "                os.chdir(f\"/home/manuelnvro/dev/Gitted/PythonTesting/WorkingDir/Dymola/PowerSystemStabilizers/\")\n",
    "                df_variables.to_csv(f'{pssName}.csv', index = False)          \n",
    "                print(f\"{pssName} Write OK...\")\n",
    "            except:\n",
    "                print(\"Check generator model of the example model...\")\n",
    "        try:\n",
    "            shutil.rmtree(f\"/home/manuelnvro/dev/Gitted/PythonTesting/WorkingDir/Dymola/PowerSystemStabilizers/{pssName}/\")\n",
    "            print(\"Delete OK...\\n\")\n",
    "        except:\n",
    "            pass\n",
    "    except DymolaException as ex:\n",
    "        print(\"Error: \" + str(ex))\n",
    "print('Turbine Power System Stabilizers Simulation OK...')"
   ]
  },
  {
   "cell_type": "code",
   "execution_count": null,
   "metadata": {},
   "outputs": [],
   "source": []
  }
 ],
 "metadata": {
  "kernelspec": {
   "display_name": "Python 3",
   "language": "python",
   "name": "python3"
  },
  "language_info": {
   "codemirror_mode": {
    "name": "ipython",
    "version": 3
   },
   "file_extension": ".py",
   "mimetype": "text/x-python",
   "name": "python",
   "nbconvert_exporter": "python",
   "pygments_lexer": "ipython3",
   "version": "3.7.4"
  }
 },
 "nbformat": 4,
 "nbformat_minor": 2
}
