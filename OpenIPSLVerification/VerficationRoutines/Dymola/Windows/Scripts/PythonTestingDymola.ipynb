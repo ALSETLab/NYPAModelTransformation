{
 "cells": [
  {
   "cell_type": "code",
   "execution_count": 11,
   "metadata": {},
   "outputs": [],
   "source": [
    "import platform\n",
    "from dymola.dymola_interface import DymolaInterface\n",
    "from dymola.dymola_exception import DymolaException\n",
    "#from modelicares import SimRes\n",
    "import pandas as pd\n",
    "import numpy as np\n",
    "import os"
   ]
  },
  {
   "cell_type": "code",
   "execution_count": 3,
   "metadata": {},
   "outputs": [],
   "source": [
    "#This is intended to be used in the PSSE Server"
   ]
  },
  {
   "cell_type": "code",
   "execution_count": 13,
   "metadata": {},
   "outputs": [
    {
     "name": "stdout",
     "output_type": "stream",
     "text": [
      "Dymola Simulation Start...\n"
     ]
    }
   ],
   "source": [
    "#Opening Dymoola\n",
    "from dymola.dymola_interface import DymolaInterface\n",
    "from dymola.dymola_exception import DymolaException\n",
    "dymola = DymolaInterface()\n",
    "#Setting OpenIPSL library\n",
    "dymola.openModel(\"C:\\\\Users\\\\ALSETPSSE\\\\Desktop\\\\ManuelFiles\\\\dev\\\\PythonTesting\\\\OpenIPSL-master\\\\OpenIPSL\\\\package.mo\") \n",
    "print(\"Dymola Simulation Start...\")"
   ]
  },
  {
   "cell_type": "code",
   "execution_count": 14,
   "metadata": {},
   "outputs": [
    {
     "name": "stdout",
     "output_type": "stream",
     "text": [
      "Simulation OK\n"
     ]
    },
    {
     "ename": "NameError",
     "evalue": "name 'SimRes' is not defined",
     "output_type": "error",
     "traceback": [
      "\u001b[1;31m\u001b[0m",
      "\u001b[1;31mNameError\u001b[0mTraceback (most recent call last)",
      "\u001b[1;32m<ipython-input-14-3003256d4a27>\u001b[0m in \u001b[0;36m<module>\u001b[1;34m()\u001b[0m\n\u001b[0;32m     17\u001b[0m     \u001b[0mdymola\u001b[0m\u001b[1;33m.\u001b[0m\u001b[0mclose\u001b[0m\u001b[1;33m(\u001b[0m\u001b[1;33m)\u001b[0m\u001b[1;33m\u001b[0m\u001b[0m\n\u001b[0;32m     18\u001b[0m     \u001b[1;31m#Selecting result file\u001b[0m\u001b[1;33m\u001b[0m\u001b[1;33m\u001b[0m\u001b[0m\n\u001b[1;32m---> 19\u001b[1;33m     \u001b[0msim\u001b[0m \u001b[1;33m=\u001b[0m \u001b[0mSimRes\u001b[0m\u001b[1;33m(\u001b[0m\u001b[1;34m\"C:\\\\Users\\\\ALSETPSSE\\\\Desktop\\\\ManuelFiles\\\\dev\\\\PythonTesting\\\\Windows\\\\WorkingDir\\\\Dymola\\\\EXAC1.mat\"\u001b[0m\u001b[1;33m)\u001b[0m\u001b[1;33m\u001b[0m\u001b[0m\n\u001b[0m\u001b[0;32m     20\u001b[0m     \u001b[1;31m#Selecting Variables\u001b[0m\u001b[1;33m\u001b[0m\u001b[1;33m\u001b[0m\u001b[0m\n\u001b[0;32m     21\u001b[0m     \u001b[0mvariables\u001b[0m \u001b[1;33m=\u001b[0m \u001b[1;33m[\u001b[0m\u001b[1;34m'Time'\u001b[0m\u001b[1;33m,\u001b[0m \u001b[1;34m'gENROE.delta'\u001b[0m\u001b[1;33m,\u001b[0m\u001b[1;34m'gENROE.PELEC'\u001b[0m\u001b[1;33m,\u001b[0m \u001b[1;34m'eXAC1_1.EFD'\u001b[0m\u001b[1;33m,\u001b[0m\u001b[1;34m'gENROE.SPEED'\u001b[0m\u001b[1;33m,\u001b[0m \u001b[1;34m'GEN1.V'\u001b[0m\u001b[1;33m,\u001b[0m \u001b[1;34m'LOAD.V'\u001b[0m\u001b[1;33m,\u001b[0m \u001b[1;34m'GEN2.V'\u001b[0m\u001b[1;33m,\u001b[0m \u001b[1;34m'FAULT.V'\u001b[0m \u001b[1;33m]\u001b[0m\u001b[1;33m\u001b[0m\u001b[0m\n",
      "\u001b[1;31mNameError\u001b[0m: name 'SimRes' is not defined"
     ]
    }
   ],
   "source": [
    "try:\n",
    "    #Set WorkingDir\n",
    "    dymola.cd(\"C:\\\\Users\\\\ALSETPSSE\\\\Desktop\\\\ManuelFiles\\\\dev\\\\PythonTesting\\\\Windows\\\\WorkingDir\\\\Dymola\")\n",
    "    resultPath = \"C:\\\\Users\\\\ALSETPSSE\\\\Desktop\\\\ManuelFiles\\\\dev\\\\PythonTesting\\\\Windows\\\\WorkingDir\\Dymola\\\\EXAC1\"\n",
    "    #Dymola Simulation\n",
    "    result = dymola.simulateModel(\"OpenIPSL.Examples.Controls.PSSE.ES.EXAC1\", \n",
    "                                  stopTime=10.0,\n",
    "                                  numberOfIntervals = 5000,\n",
    "                                 resultFile = resultPath)\n",
    "    if not result:\n",
    "        print(\"Simulation failed. Below is the translation log.\")\n",
    "        log = dymola.getLastErrorLog()\n",
    "        print(log)\n",
    "        exit(1)       \n",
    "    print(\"Simulation OK\")\n",
    "    #Close Dymola\n",
    "    dymola.close()\n",
    "    #Selecting result file\n",
    "    sim = SimRes(\"C:\\\\Users\\\\ALSETPSSE\\\\Desktop\\\\ManuelFiles\\\\dev\\\\PythonTesting\\\\Windows\\\\WorkingDir\\\\Dymola\\\\EXAC1.mat\")\n",
    "    #Selecting Variables\n",
    "    variables = ['Time', 'gENROE.delta','gENROE.PELEC', 'eXAC1_1.EFD','gENROE.SPEED', 'GEN1.V', 'LOAD.V', 'GEN2.V', 'FAULT.V' ]\n",
    "    df_variables = pd.DataFrame([], columns = variables)\n",
    "    for var in variables:\n",
    "        df_variables.drop(var, axis = 1, inplace = True)\n",
    "        df_variables[var] = np.array(sim[var].values())\n",
    "    print(\"Vars OK\")\n",
    "    #Changing current directory\n",
    "    os.chdir(\"C:\\\\Users\\\\ALSETPSSE\\\\Desktop\\\\ManuelFiles\\\\dev\\\\PythonTesting\\\\Windows\\\\PythonTesting\\\\ResultData\\\\\")\n",
    "    #Creating .csv house\n",
    "    df_variables.to_csv('dataDymola.csv', index = False)\n",
    "    print(\"Write OK\")\n",
    "except DymolaException as ex:\n",
    "    print((\"Error: \" + str(ex)))"
   ]
  },
  {
   "cell_type": "code",
   "execution_count": null,
   "metadata": {},
   "outputs": [],
   "source": []
  }
 ],
 "metadata": {
  "kernelspec": {
   "display_name": "Python 2",
   "language": "python",
   "name": "python2"
  },
  "language_info": {
   "codemirror_mode": {
    "name": "ipython",
    "version": 2
   },
   "file_extension": ".py",
   "mimetype": "text/x-python",
   "name": "python",
   "nbconvert_exporter": "python",
   "pygments_lexer": "ipython2",
   "version": "2.7.16"
  }
 },
 "nbformat": 4,
 "nbformat_minor": 2
}
