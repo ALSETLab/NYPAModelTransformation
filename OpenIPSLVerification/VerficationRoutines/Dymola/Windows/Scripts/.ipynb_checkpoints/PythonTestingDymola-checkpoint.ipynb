{
 "cells": [
  {
   "cell_type": "code",
   "execution_count": 1,
   "metadata": {},
   "outputs": [
    {
     "ename": "ImportError",
     "evalue": "No module named modelicares",
     "output_type": "error",
     "traceback": [
      "\u001b[1;31m\u001b[0m",
      "\u001b[1;31mImportError\u001b[0mTraceback (most recent call last)",
      "\u001b[1;32m<ipython-input-1-70ecb05ff4cd>\u001b[0m in \u001b[0;36m<module>\u001b[1;34m()\u001b[0m\n\u001b[0;32m      2\u001b[0m \u001b[1;32mfrom\u001b[0m \u001b[0mdymola\u001b[0m\u001b[1;33m.\u001b[0m\u001b[0mdymola_interface\u001b[0m \u001b[1;32mimport\u001b[0m \u001b[0mDymolaInterface\u001b[0m\u001b[1;33m\u001b[0m\u001b[0m\n\u001b[0;32m      3\u001b[0m \u001b[1;32mfrom\u001b[0m \u001b[0mdymola\u001b[0m\u001b[1;33m.\u001b[0m\u001b[0mdymola_exception\u001b[0m \u001b[1;32mimport\u001b[0m \u001b[0mDymolaException\u001b[0m\u001b[1;33m\u001b[0m\u001b[0m\n\u001b[1;32m----> 4\u001b[1;33m \u001b[1;32mfrom\u001b[0m \u001b[0mmodelicares\u001b[0m \u001b[1;32mimport\u001b[0m \u001b[0mSimRes\u001b[0m\u001b[1;33m\u001b[0m\u001b[0m\n\u001b[0m\u001b[0;32m      5\u001b[0m \u001b[1;32mimport\u001b[0m \u001b[0mpandas\u001b[0m \u001b[1;32mas\u001b[0m \u001b[0mpd\u001b[0m\u001b[1;33m\u001b[0m\u001b[0m\n\u001b[0;32m      6\u001b[0m \u001b[1;32mimport\u001b[0m \u001b[0mnumpy\u001b[0m \u001b[1;32mas\u001b[0m \u001b[0mnp\u001b[0m\u001b[1;33m\u001b[0m\u001b[0m\n",
      "\u001b[1;31mImportError\u001b[0m: No module named modelicares"
     ]
    }
   ],
   "source": [
    "import platform\n",
    "from dymola.dymola_interface import DymolaInterface\n",
    "from dymola.dymola_exception import DymolaException\n",
    "from modelicares import SimRes\n",
    "import pandas as pd\n",
    "import numpy as np\n",
    "import os"
   ]
  },
  {
   "cell_type": "code",
   "execution_count": 3,
   "metadata": {},
   "outputs": [],
   "source": [
    "#This is intended to be used in the manuelnvro Dell using Dymola 2020."
   ]
  },
  {
   "cell_type": "code",
   "execution_count": 4,
   "metadata": {},
   "outputs": [
    {
     "data": {
      "text/plain": [
       "True"
      ]
     },
     "execution_count": 4,
     "metadata": {},
     "output_type": "execute_result"
    }
   ],
   "source": [
    "#Setting Dymola Interface\n",
    "dymola = DymolaInterface(\"/opt/dymola-2020-x86_64/bin64/dymola.sh\")\n",
    "#Setting OpenIPSL library\n",
    "dymola.openModel(\"/home/manuelnvro/dev/Gitted/PythonTesting/OpenIPSL-master/OpenIPSL/package.mo\") \n",
    "print(\"Dymola Simulation Start...\")"
   ]
  },
  {
   "cell_type": "code",
   "execution_count": 5,
   "metadata": {},
   "outputs": [
    {
     "name": "stdout",
     "output_type": "stream",
     "text": [
      "Simulation OK\n",
      "Vars OK\n",
      "Write OK\n"
     ]
    }
   ],
   "source": [
    "try:\n",
    "    #Set WorkingDir\n",
    "    dymola.cd(\"/home/manuelnvro/dev/Gitted/PythonTesting/WorkingDir/Dymola\")\n",
    "    resultPath = \"/home/manuelnvro/dev/Gitted/PythonTesting/WorkingDir/Dymola/EXAC1\"\n",
    "    #Dymola Simulation\n",
    "    result = dymola.simulateModel(\"OpenIPSL.Examples.Controls.PSSE.ES.EXAC1\", \n",
    "                                  stopTime=10.0,\n",
    "                                  numberOfIntervals = 5000,\n",
    "                                 resultFile = resultPath)\n",
    "    if not result:\n",
    "        print(\"Simulation failed. Below is the translation log.\")\n",
    "        log = dymola.getLastErrorLog()\n",
    "        print(log)\n",
    "        exit(1)       \n",
    "    print(\"Simulation OK\")\n",
    "    #Close Dymola\n",
    "    dymola.close()\n",
    "    #Selecting result file\n",
    "    sim = SimRes(\"/home/manuelnvro/dev/Gitted/PythonTesting/WorkingDir/Dymola/EXAC1.mat\")\n",
    "    #Selecting Variables\n",
    "    variables = ['Time', 'gENROE.delta','gENROE.PELEC', 'eXAC1_1.EFD','gENROE.SPEED', 'GEN1.V', 'LOAD.V', 'GEN2.V', 'FAULT.V' ]\n",
    "    df_variables = pd.DataFrame([], columns = variables)\n",
    "    for var in variables:\n",
    "        df_variables.drop(var, axis = 1, inplace = True)\n",
    "        df_variables[var] = np.array(sim[var].values())\n",
    "    print(\"Vars OK\")\n",
    "    #Changing current directory\n",
    "    os.chdir(\"/home/manuelnvro/dev/Gitted/PythonTesting/ResultData/\")\n",
    "    #Creating .csv house\n",
    "    df_variables.to_csv('dataDymola.csv', index = False)\n",
    "    print(\"Write OK\")\n",
    "except DymolaException as ex:\n",
    "    print((\"Error: \" + str(ex)))"
   ]
  },
  {
   "cell_type": "code",
   "execution_count": null,
   "metadata": {},
   "outputs": [],
   "source": []
  }
 ],
 "metadata": {
  "kernelspec": {
   "display_name": "Python 2",
   "language": "python",
   "name": "python2"
  },
  "language_info": {
   "codemirror_mode": {
    "name": "ipython",
    "version": 2
   },
   "file_extension": ".py",
   "mimetype": "text/x-python",
   "name": "python",
   "nbconvert_exporter": "python",
   "pygments_lexer": "ipython2",
   "version": "2.7.16"
  }
 },
 "nbformat": 4,
 "nbformat_minor": 2
}
