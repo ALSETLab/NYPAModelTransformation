{
 "cells": [
  {
   "cell_type": "code",
   "execution_count": 56,
   "metadata": {},
   "outputs": [
    {
     "name": "stderr",
     "output_type": "stream",
     "text": [
      "2020-04-30 20:14:16,914 - OMPython - INFO - OMC Server is up and running at file:////tmp/openmodelica.manuelnvro.port.08ac37d8632a43449732c458a2b37401 pid=23357\n"
     ]
    }
   ],
   "source": [
    "from OMPython import OMCSessionZMQ\n",
    "omc = OMCSessionZMQ()\n",
    "from modelicares import SimRes\n",
    "import pandas as pd\n",
    "import numpy as np\n",
    "import os\n",
    "import shutil\n",
    "import git"
   ]
  },
  {
   "cell_type": "code",
   "execution_count": 57,
   "metadata": {},
   "outputs": [],
   "source": [
    "#By default, the code runs in manuelnvro Dell using Dymola 2020. To change the computer change the following folders.\n",
    "#OpenIPSL Location\n",
    "OpenIPSL = \"/home/manuelnvro/dev/Gitted/NYPAModelTransformation/OpenIPSLVerification/VerificationRoutines/OpenModelica/OpenIPSL/\"\n",
    "#GitHub Location\n",
    "GitHubOpenIPSL = \"https://github.com/marcelofcastro/OpenIPSL.git\"\n",
    "OpenIPSLPackage = \"/home/manuelnvro/dev/Gitted/NYPAModelTransformation/OpenIPSLVerification/VerificationRoutines/OpenModelica/OpenIPSL/OpenIPSL/package.mo\"\n",
    "OpenModelica = \"/home/manuelnvro/dev/Gitted/NYPAModelTransformation/OpenIPSLVerification/VerificationRoutines/OpenModelica/\"\n",
    "#Working Directory\n",
    "FWindTurbinesWorkingDir = \"/home/manuelnvro/dev/Gitted/NYPAModelTransformation/OpenIPSLVerification/VerificationRoutines/OpenModelica/WorkingDir/Fault/WindTurbines/\"\n",
    "#Load Variation Folder Locations\n",
    "LoadVariationSource = \"/home/manuelnvro/dev/Gitted/NYPAModelTransformation/OpenIPSLVerification/VerificationRoutines/OpenModelica/Scripts/LoadVariation/AuxiliaryModels/Load_variation.mo\"\n",
    "LoadVariationDestinationPath = \"/home/manuelnvro/dev/Gitted/NYPAModelTransformation/OpenIPSLVerification/VerificationRoutines/OpenModelica/OpenIPSL/OpenIPSL/Electrical/Loads/PSSE/\"\n",
    "LoadVariationDestination = \"/home/manuelnvro/dev/Gitted/NYPAModelTransformation/OpenIPSLVerification/VerificationRoutines/OpenModelica/OpenIPSL/OpenIPSL/Electrical/Loads/PSSE/Load_variation.mo\"\n",
    "# Power Fault Folder Locations\n",
    "PowerFaultSource = \"/home/manuelnvro/dev/Gitted/NYPAModelTransformation/OpenIPSLVerification/VerificationRoutines/OpenModelica/Scripts/LoadVariation/AuxiliaryModels/PwFault.mo\"\n",
    "PowerFaultDestinationPath = \"/home/manuelnvro/dev/Gitted/NYPAModelTransformation/OpenIPSLVerification/VerificationRoutines/OpenModelica/OpenIPSL/OpenIPSL/Electrical/Events/\"\n",
    "PowerFaultDestination = \"/home/manuelnvro/dev/Gitted/NYPAModelTransformation/OpenIPSLVerification/VerificationRoutines/OpenModelica/OpenIPSL/OpenIPSL/Electrical/Events/PwFault.mo\""
   ]
  },
  {
   "cell_type": "code",
   "execution_count": 58,
   "metadata": {},
   "outputs": [
    {
     "name": "stdout",
     "output_type": "stream",
     "text": [
      "OpenModelica 1.16.0~dev-311-gd37a91d\n",
      "Open Modelica Exciters Simulation Start...\n"
     ]
    }
   ],
   "source": [
    "print(omc.sendExpression(\"getVersion()\"))\n",
    "print(\"Open Modelica Exciters Simulation Start...\")"
   ]
  },
  {
   "cell_type": "code",
   "execution_count": 59,
   "metadata": {},
   "outputs": [
    {
     "name": "stdout",
     "output_type": "stream",
     "text": [
      "Pulling latest OpenIPSL library version...\n",
      "\n"
     ]
    },
    {
     "data": {
      "text/plain": [
       "''"
      ]
     },
     "execution_count": 59,
     "metadata": {},
     "output_type": "execute_result"
    }
   ],
   "source": [
    "#Deleting old OpenIPSL library version\n",
    "shutil.rmtree(f\"\"+OpenIPSL+\"\")\n",
    "#Pulling latest OpenIPSL library version\n",
    "print('Pulling latest OpenIPSL library version...\\n')\n",
    "git.Git(\"\"+OpenModelica+\"\").clone(\"\"+GitHubOpenIPSL+\"\")"
   ]
  },
  {
   "cell_type": "code",
   "execution_count": 60,
   "metadata": {},
   "outputs": [],
   "source": [
    "#Creation of matrix with names, paths and variables\n",
    "wturbines = { 'names' : [\"WT4G1\",\"WT4E1\"],\n",
    "            'path' : [\"OpenIPSL.Examples.Wind.PSSE.WT4G.WT4G1\",\"OpenIPSL.Examples.Wind.PSSE.WT4G.WT4E1\"],\n",
    "            'p' : ['wT4G1.P', 'wT4E1.P'],\n",
    "           'q' : ['wT4G1.Q', 'wT4E1.Q']}"
   ]
  },
  {
   "cell_type": "code",
   "execution_count": 63,
   "metadata": {},
   "outputs": [],
   "source": [
    "#Delete old results\n",
    "shutil.rmtree(''+FWindTurbinesWorkingDir+'')\n",
    "#Create folder\n",
    "os.makedirs(''+FWindTurbinesWorkingDir+'')\n",
    "os.chdir(f\"\"+FWindTurbinesWorkingDir+\"\")\n",
    "for wturbineNumber, wturbineName in enumerate(wturbines['names']):\n",
    "    os.makedirs(f'{wturbineName}')"
   ]
  },
  {
   "cell_type": "code",
   "execution_count": 64,
   "metadata": {},
   "outputs": [
    {
     "name": "stdout",
     "output_type": "stream",
     "text": [
      "Fault WT4G1 Simulation Start...\n",
      "WT4G1 Simulation Finished...\n",
      "WT4G1 Simulation OK...\n",
      ".csv Writing Start...\n",
      "['Time', 'wT4G1.P', 'wT4G1.Q', 'GEN1.V', 'FAULT.V', 'GEN2.V']\n",
      "WT4G1 Variables OK...\n",
      "WT4G1 Write OK...\n",
      "Fault WT4E1 Simulation Start...\n",
      "WT4E1 simulation error or model not found...\n",
      "WT4E1 Simulation OK...\n",
      ".csv Writing Start...\n",
      "['Time', 'wT4E1.P', 'wT4E1.Q', 'wT4G1.P', 'wT4G1.Q', 'GEN1.V', 'FAULT.V', 'GEN2.V']\n",
      "Variable Error...\n",
      "\n",
      "Fault Wind Turbines Examples Open Modelica Simulation OK...\n"
     ]
    }
   ],
   "source": [
    "#For loop that will iterate between machines, simulate, and create the .csv file\n",
    "for wturbineNumber, wturbineName in enumerate(wturbines['names']):\n",
    "    print(f\"Fault {wturbineName} Simulation Start...\")\n",
    "    try:\n",
    "        omc.sendExpression(f\"cd(\\\"{FWindTurbinesWorkingDir}\" + wturbineName +\"\\\")\")\n",
    "        omc.sendExpression(f\"loadFile(\\\"{OpenIPSLPackage}\\\")\")\n",
    "        omc.sendExpression(\"instantiateModel(OpenIPSL)\")\n",
    "        omc.sendExpression(f\"simulate(OpenIPSL.Examples.Wind.PSSE.WT4G.{wturbineName}, stopTime=10.0,method=\\\"dassl\\\",numberOfIntervals=500,tolerance=1e-04)\")\n",
    "        sim = SimRes(\"\"+FWindTurbinesWorkingDir+f\"{wturbineName}/OpenIPSL.Examples.Wind.PSSE.WT4G.{wturbineName}_res.mat\")\n",
    "        print(f\"{wturbineName} Simulation Finished...\")\n",
    "    except:\n",
    "        print(f\"{wturbineName} simulation error or model not found...\")\n",
    "    try:\n",
    "        print(f\"{wturbineName} Simulation OK...\")\n",
    "        print(\".csv Writing Start...\")    \n",
    "        if wturbineName == 'WT4E1':\n",
    "            variables = ['Time', wturbines['p'][wturbineNumber], wturbines['q'][wturbineNumber], 'wT4G1.P', 'wT4G1.Q', 'GEN1.V', 'FAULT.V', 'GEN2.V']\n",
    "        else:\n",
    "            variables = ['Time', wturbines['p'][wturbineNumber], wturbines['q'][wturbineNumber], 'GEN1.V', 'FAULT.V', 'GEN2.V']\n",
    "        df_variables = pd.DataFrame([], columns = variables)\n",
    "        for var in variables:\n",
    "            df_variables.drop(var, axis = 1, inplace = True)\n",
    "            df_variables[var] = np.array(sim[var].values())\n",
    "        print(f\"{wturbineName} Variables OK...\")\n",
    "        #Changing current directory\n",
    "        os.chdir(f\"\"+FWindTurbinesWorkingDir+\"\")\n",
    "        df_variables.to_csv(f'{wturbineName}.csv', index = False)          \n",
    "        print(f\"{wturbineName} Write OK...\")\n",
    "    except:\n",
    "        print('Variable Error...\\n')\n",
    "    try:\n",
    "        shutil.rmtree(\"\"+FWindTurbinesWorkingDir+f\"{wturbineName}/\")\n",
    "        print(\"Delete OK...\\n\")\n",
    "    except:\n",
    "        print('Delete Error...\\n')        \n",
    "print('Fault Wind Turbines Examples Open Modelica Simulation OK...')"
   ]
  },
  {
   "cell_type": "code",
   "execution_count": null,
   "metadata": {},
   "outputs": [],
   "source": [
    "try:\n",
    "    print(\"Closing Open Modelica...\")\n",
    "    omc.sendExpression(\"quit()\")\n",
    "    print(\"OpenModelica Close OK...\")\n",
    "except:\n",
    "    print(\"Open Modelica closing error...\")"
   ]
  }
 ],
 "metadata": {
  "kernelspec": {
   "display_name": "Python 3",
   "language": "python",
   "name": "python3"
  },
  "language_info": {
   "codemirror_mode": {
    "name": "ipython",
    "version": 3
   },
   "file_extension": ".py",
   "mimetype": "text/x-python",
   "name": "python",
   "nbconvert_exporter": "python",
   "pygments_lexer": "ipython3",
   "version": "3.7.4"
  }
 },
 "nbformat": 4,
 "nbformat_minor": 2
}
