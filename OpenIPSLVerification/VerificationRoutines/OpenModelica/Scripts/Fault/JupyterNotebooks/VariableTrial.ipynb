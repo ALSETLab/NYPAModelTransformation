{
 "cells": [
  {
   "cell_type": "code",
   "execution_count": 1,
   "metadata": {},
   "outputs": [
    {
     "name": "stderr",
     "output_type": "stream",
     "text": [
      "2020-05-13 10:08:03,381 - OMPython - INFO - OMC Server is up and running at file:////tmp/openmodelica.manuelnvro.port.b415d7c384384f618ff6d375b89ed681 pid=29543\n"
     ]
    }
   ],
   "source": [
    "from OMPython import OMCSessionZMQ\n",
    "omc = OMCSessionZMQ()\n",
    "from modelicares import SimRes\n",
    "import pandas as pd\n",
    "import numpy as np\n",
    "import os\n",
    "import shutil\n",
    "import git"
   ]
  },
  {
   "cell_type": "code",
   "execution_count": 2,
   "metadata": {},
   "outputs": [],
   "source": [
    "#Creation of matrix with names, paths and variables\n",
    "exciters = { 'names' : [\"AC7B\",\"AC8B\", \"ESAC1A\", \"ESAC2A\", \"ESAC6A\", \"ESDC1A\", \"ESST1A\", \"ESST3A\", \"ESST4B\", \n",
    "                        \"EXAC1\", \"EXAC2\", \"EXAC3\", \"EXDC2\", \"EXPIC1\", \"EXST1\", \"EXST3\", \"IEEET1\", \"IEEET2\", \n",
    "                        \"IEEET3\", \"IEEET5\", \"REXSYS\", \"SCRX\", \"SEXS\", \"ST6B\"],\n",
    "            'path' : [\"OpenIPSL.Examples.Controls.PSSE.ES.AC7B\", \"OpenIPSL.Examples.Controls.PSSE.ES.AC8B\",\n",
    "                      \"OpenIPSL.Examples.Controls.PSSE.ES.ESAC1A\", \"OpenIPSL.Examples.Controls.PSSE.ES.ESAC2A\",\n",
    "                      \"OpenIPSL.Examples.Controls.PSSE.ES.ESAC6A\", \"OpenIPSL.Examples.Controls.PSSE.ES.ESDC1A\",\n",
    "                      \"OpenIPSL.Examples.Controls.PSSE.ES.ESST1A\", \"OpenIPSL.Examples.Controls.PSSE.ES.ESST3A\",\n",
    "                      \"OpenIPSL.Examples.Controls.PSSE.ES.ESST4B\", \"OpenIPSL.Examples.Controls.PSSE.ES.EXAC1\",\n",
    "                      \"OpenIPSL.Examples.Controls.PSSE.ES.EXAC2\", \"OpenIPSL.Examples.Controls.PSSE.ES.EXAC3\",\n",
    "                      \"OpenIPSL.Examples.Controls.PSSE.ES.EXDC2\", \"OpenIPSL.Examples.Controls.PSSE.ES.EXPIC1\",\n",
    "                      \"OpenIPSL.Examples.Controls.PSSE.ES.EXST1\", \"OpenIPSL.Examples.Controls.PSSE.ES.EXST3\",\n",
    "                      \"OpenIPSL.Examples.Controls.PSSE.ES.IEEET1\", \"OpenIPSL.Examples.Controls.PSSE.ES.IEEET2\",\n",
    "                      \"OpenIPSL.Examples.Controls.PSSE.ES.IEEET3\", \"OpenIPSL.Examples.Controls.PSSE.ES.IEEET5\",\n",
    "                      \"OpenIPSL.Examples.Controls.PSSE.ES.REXSYS\", \"OpenIPSL.Examples.Controls.PSSE.ES.SCRX\",\n",
    "                      \"OpenIPSL.Examples.Controls.PSSE.ES.SEXS\", \"OpenIPSL.Examples.Controls.PSSE.ES.ST6B\"],\n",
    "            'delta' : ['gENROU.delta', 'gENROE.delta' ],\n",
    "           'pelec' : ['gENROU.PELEC', 'gENROE.PELEC'],\n",
    "            'pmech' : ['gENROU.PMECH', 'gENROE.PMECH'],\n",
    "           'speed' : ['gENROU.SPEED', 'gENROE.SPEED'],\n",
    "           'efd': [\"aC7B.EFD\",\"aC8B.EFD\", \"eSAC1A.EFD\", \"eSAC2A.EFD\", \"eSAC6A.EFD\", \"eSDC1A.EFD\", \"eSST1A.EFD\", \"eSST3A.EFD\", \"eSST4B.EFD\", \n",
    "                        \"eXAC1.EFD\", \"eXAC2.EFD\", \"eXAC3.EFD\", \"eXDC2.EFD\", \"eXPIC1.EFD\", \"eXST1.EFD\", \"eXST3.EFD\", \"iEEET1.EFD\", \"iEEET2.EFD\", \n",
    "                        \"iEEET3.EFD\", \"iEEET5.EFD\", \"rEXSYS.EFD\", \"sCRX.EFD\", \"sEXS.EFD\", \"sT6B.EFD\"]}\n"
   ]
  },
  {
   "cell_type": "code",
   "execution_count": 3,
   "metadata": {},
   "outputs": [],
   "source": [
    "variables = ['Time', 'gENROE.delta', 'gENROE.PELEC', 'gENROE.PMECH', 'gENROE.SPEED', 'eSAC1A.EFD', 'GEN1.V', 'LOAD.V', 'GEN2.V', 'FAULT.V']"
   ]
  },
  {
   "cell_type": "code",
   "execution_count": 4,
   "metadata": {},
   "outputs": [],
   "source": [
    "exciterNumber = 2\n",
    "exciterName = 'ESAC1A'\n"
   ]
  },
  {
   "cell_type": "code",
   "execution_count": 5,
   "metadata": {},
   "outputs": [],
   "source": [
    "#By default, the code runs in manuelnvro Dell using Dymola 2020. To change the computer change the following folders.\n",
    "#OpenIPSL Location\n",
    "OpenIPSL = \"/home/manuelnvro/dev/Gitted/NYPAModelTransformation/OpenIPSLVerification/VerificationRoutines/OpenModelica/OpenIPSL/\"\n",
    "#GitHub Location\n",
    "GitHubOpenIPSL = \"https://github.com/marcelofcastro/OpenIPSL.git\"\n",
    "OpenIPSLPackage = \"/home/manuelnvro/dev/Gitted/NYPAModelTransformation/OpenIPSLVerification/VerificationRoutines/OpenModelica/OpenIPSL/OpenIPSL/package.mo\"\n",
    "OpenModelica = \"/home/manuelnvro/dev/Gitted/NYPAModelTransformation/OpenIPSLVerification/VerificationRoutines/OpenModelica/\"\n",
    "#Working Directory\n",
    "FExcitersWorkingDir = \"/home/manuelnvro/dev/Gitted/NYPAModelTransformation/OpenIPSLVerification/VerificationRoutines/OpenModelica/WorkingDir/Fault/Exciters/\"\n",
    "#Load Variation Folder Locations\n",
    "LoadVariationSource = \"/home/manuelnvro/dev/Gitted/NYPAModelTransformation/OpenIPSLVerification/VerificationRoutines/OpenModelica/Scripts/LoadVariation/AuxiliaryModels/Load_variation.mo\"\n",
    "LoadVariationDestinationPath = \"/home/manuelnvro/dev/Gitted/NYPAModelTransformation/OpenIPSLVerification/VerificationRoutines/OpenModelica/OpenIPSL/OpenIPSL/Electrical/Loads/PSSE/\"\n",
    "LoadVariationDestination = \"/home/manuelnvro/dev/Gitted/NYPAModelTransformation/OpenIPSLVerification/VerificationRoutines/OpenModelica/OpenIPSL/OpenIPSL/Electrical/Loads/PSSE/Load_variation.mo\"\n",
    "# Power Fault Folder Locations\n",
    "PowerFaultSource = \"/home/manuelnvro/dev/Gitted/NYPAModelTransformation/OpenIPSLVerification/VerificationRoutines/OpenModelica/Scripts/LoadVariation/AuxiliaryModels/PwFault.mo\"\n",
    "PowerFaultDestinationPath = \"/home/manuelnvro/dev/Gitted/NYPAModelTransformation/OpenIPSLVerification/VerificationRoutines/OpenModelica/OpenIPSL/OpenIPSL/Electrical/Events/\"\n",
    "PowerFaultDestination = \"/home/manuelnvro/dev/Gitted/NYPAModelTransformation/OpenIPSLVerification/VerificationRoutines/OpenModelica/OpenIPSL/OpenIPSL/Electrical/Events/PwFault.mo\""
   ]
  },
  {
   "cell_type": "code",
   "execution_count": 6,
   "metadata": {},
   "outputs": [
    {
     "ename": "OSError",
     "evalue": "\"/home/manuelnvro/dev/Gitted/NYPAModelTransformation/OpenIPSLVerification/VerificationRoutines/OpenModelica/WorkingDir/Fault/Exciters/ESAC1A/OpenIPSL.Examples.Controls.PSSE.ES.ESAC1A_res.mat\" could not be opened.  Check that it exists.",
     "output_type": "error",
     "traceback": [
      "\u001b[0;31m---------------------------------------------------------------------------\u001b[0m",
      "\u001b[0;31mFileNotFoundError\u001b[0m                         Traceback (most recent call last)",
      "\u001b[0;32m~/anaconda3/lib/python3.7/site-packages/scipy/io/matlab/mio.py\u001b[0m in \u001b[0;36m_open_file\u001b[0;34m(file_like, appendmat)\u001b[0m\n\u001b[1;32m     32\u001b[0m     \u001b[0;32mtry\u001b[0m\u001b[0;34m:\u001b[0m\u001b[0;34m\u001b[0m\u001b[0m\n\u001b[0;32m---> 33\u001b[0;31m         \u001b[0;32mreturn\u001b[0m \u001b[0mopen\u001b[0m\u001b[0;34m(\u001b[0m\u001b[0mfile_like\u001b[0m\u001b[0;34m,\u001b[0m \u001b[0;34m'rb'\u001b[0m\u001b[0;34m)\u001b[0m\u001b[0;34m,\u001b[0m \u001b[0;32mTrue\u001b[0m\u001b[0;34m\u001b[0m\u001b[0m\n\u001b[0m\u001b[1;32m     34\u001b[0m     \u001b[0;32mexcept\u001b[0m \u001b[0mIOError\u001b[0m\u001b[0;34m:\u001b[0m\u001b[0;34m\u001b[0m\u001b[0m\n",
      "\u001b[0;31mFileNotFoundError\u001b[0m: [Errno 2] No such file or directory: '/home/manuelnvro/dev/Gitted/NYPAModelTransformation/OpenIPSLVerification/VerificationRoutines/OpenModelica/WorkingDir/Fault/Exciters/ESAC1A/OpenIPSL.Examples.Controls.PSSE.ES.ESAC1A_res.mat'",
      "\nDuring handling of the above exception, another exception occurred:\n",
      "\u001b[0;31mFileNotFoundError\u001b[0m                         Traceback (most recent call last)",
      "\u001b[0;32m~/.local/lib/python3.7/site-packages/modelicares/_io/dymola.py\u001b[0m in \u001b[0;36mread\u001b[0;34m(fname, constants_only)\u001b[0m\n\u001b[1;32m    215\u001b[0m         \u001b[0;32melse\u001b[0m\u001b[0;34m:\u001b[0m\u001b[0;34m\u001b[0m\u001b[0m\n\u001b[0;32m--> 216\u001b[0;31m             \u001b[0mmat\u001b[0m \u001b[0;34m=\u001b[0m \u001b[0mloadmat\u001b[0m\u001b[0;34m(\u001b[0m\u001b[0mfname\u001b[0m\u001b[0;34m,\u001b[0m \u001b[0mchars_as_strings\u001b[0m\u001b[0;34m=\u001b[0m\u001b[0;32mFalse\u001b[0m\u001b[0;34m,\u001b[0m \u001b[0mappendmat\u001b[0m\u001b[0;34m=\u001b[0m\u001b[0;32mFalse\u001b[0m\u001b[0;34m)\u001b[0m\u001b[0;34m\u001b[0m\u001b[0m\n\u001b[0m\u001b[1;32m    217\u001b[0m     \u001b[0;32mexcept\u001b[0m \u001b[0mIOError\u001b[0m\u001b[0;34m:\u001b[0m\u001b[0;34m\u001b[0m\u001b[0m\n",
      "\u001b[0;32m~/anaconda3/lib/python3.7/site-packages/scipy/io/matlab/mio.py\u001b[0m in \u001b[0;36mloadmat\u001b[0;34m(file_name, mdict, appendmat, **kwargs)\u001b[0m\n\u001b[1;32m    140\u001b[0m     \u001b[0mvariable_names\u001b[0m \u001b[0;34m=\u001b[0m \u001b[0mkwargs\u001b[0m\u001b[0;34m.\u001b[0m\u001b[0mpop\u001b[0m\u001b[0;34m(\u001b[0m\u001b[0;34m'variable_names'\u001b[0m\u001b[0;34m,\u001b[0m \u001b[0;32mNone\u001b[0m\u001b[0;34m)\u001b[0m\u001b[0;34m\u001b[0m\u001b[0m\n\u001b[0;32m--> 141\u001b[0;31m     \u001b[0mMR\u001b[0m\u001b[0;34m,\u001b[0m \u001b[0mfile_opened\u001b[0m \u001b[0;34m=\u001b[0m \u001b[0mmat_reader_factory\u001b[0m\u001b[0;34m(\u001b[0m\u001b[0mfile_name\u001b[0m\u001b[0;34m,\u001b[0m \u001b[0mappendmat\u001b[0m\u001b[0;34m,\u001b[0m \u001b[0;34m**\u001b[0m\u001b[0mkwargs\u001b[0m\u001b[0;34m)\u001b[0m\u001b[0;34m\u001b[0m\u001b[0m\n\u001b[0m\u001b[1;32m    142\u001b[0m     \u001b[0mmatfile_dict\u001b[0m \u001b[0;34m=\u001b[0m \u001b[0mMR\u001b[0m\u001b[0;34m.\u001b[0m\u001b[0mget_variables\u001b[0m\u001b[0;34m(\u001b[0m\u001b[0mvariable_names\u001b[0m\u001b[0;34m)\u001b[0m\u001b[0;34m\u001b[0m\u001b[0m\n",
      "\u001b[0;32m~/anaconda3/lib/python3.7/site-packages/scipy/io/matlab/mio.py\u001b[0m in \u001b[0;36mmat_reader_factory\u001b[0;34m(file_name, appendmat, **kwargs)\u001b[0m\n\u001b[1;32m     63\u001b[0m     \"\"\"\n\u001b[0;32m---> 64\u001b[0;31m     \u001b[0mbyte_stream\u001b[0m\u001b[0;34m,\u001b[0m \u001b[0mfile_opened\u001b[0m \u001b[0;34m=\u001b[0m \u001b[0m_open_file\u001b[0m\u001b[0;34m(\u001b[0m\u001b[0mfile_name\u001b[0m\u001b[0;34m,\u001b[0m \u001b[0mappendmat\u001b[0m\u001b[0;34m)\u001b[0m\u001b[0;34m\u001b[0m\u001b[0m\n\u001b[0m\u001b[1;32m     65\u001b[0m     \u001b[0mmjv\u001b[0m\u001b[0;34m,\u001b[0m \u001b[0mmnv\u001b[0m \u001b[0;34m=\u001b[0m \u001b[0mget_matfile_version\u001b[0m\u001b[0;34m(\u001b[0m\u001b[0mbyte_stream\u001b[0m\u001b[0;34m)\u001b[0m\u001b[0;34m\u001b[0m\u001b[0m\n",
      "\u001b[0;32m~/anaconda3/lib/python3.7/site-packages/scipy/io/matlab/mio.py\u001b[0m in \u001b[0;36m_open_file\u001b[0;34m(file_like, appendmat)\u001b[0m\n\u001b[1;32m     38\u001b[0m                 \u001b[0mfile_like\u001b[0m \u001b[0;34m+=\u001b[0m \u001b[0;34m'.mat'\u001b[0m\u001b[0;34m\u001b[0m\u001b[0m\n\u001b[0;32m---> 39\u001b[0;31m             \u001b[0;32mreturn\u001b[0m \u001b[0mopen\u001b[0m\u001b[0;34m(\u001b[0m\u001b[0mfile_like\u001b[0m\u001b[0;34m,\u001b[0m \u001b[0;34m'rb'\u001b[0m\u001b[0;34m)\u001b[0m\u001b[0;34m,\u001b[0m \u001b[0;32mTrue\u001b[0m\u001b[0;34m\u001b[0m\u001b[0m\n\u001b[0m\u001b[1;32m     40\u001b[0m         \u001b[0;32melse\u001b[0m\u001b[0;34m:\u001b[0m\u001b[0;34m\u001b[0m\u001b[0m\n",
      "\u001b[0;31mFileNotFoundError\u001b[0m: [Errno 2] No such file or directory: '/home/manuelnvro/dev/Gitted/NYPAModelTransformation/OpenIPSLVerification/VerificationRoutines/OpenModelica/WorkingDir/Fault/Exciters/ESAC1A/OpenIPSL.Examples.Controls.PSSE.ES.ESAC1A_res.mat'",
      "\nDuring handling of the above exception, another exception occurred:\n",
      "\u001b[0;31mOSError\u001b[0m                                   Traceback (most recent call last)",
      "\u001b[0;32m<ipython-input-6-91960ef65795>\u001b[0m in \u001b[0;36m<module>\u001b[0;34m()\u001b[0m\n\u001b[1;32m      3\u001b[0m \u001b[0momc\u001b[0m\u001b[0;34m.\u001b[0m\u001b[0msendExpression\u001b[0m\u001b[0;34m(\u001b[0m\u001b[0;34m\"instantiateModel(OpenIPSL)\"\u001b[0m\u001b[0;34m)\u001b[0m\u001b[0;34m\u001b[0m\u001b[0m\n\u001b[1;32m      4\u001b[0m \u001b[0momc\u001b[0m\u001b[0;34m.\u001b[0m\u001b[0msendExpression\u001b[0m\u001b[0;34m(\u001b[0m\u001b[0;34mf\"simulate(OpenIPSL.Examples.Controls.PSSE.ES.{exciterName}, stopTime=10.0,method=\\\"rungekutta\\\",numberOfIntervals=5000,tolerance=1e-06)\"\u001b[0m\u001b[0;34m)\u001b[0m\u001b[0;34m\u001b[0m\u001b[0m\n\u001b[0;32m----> 5\u001b[0;31m \u001b[0msim\u001b[0m \u001b[0;34m=\u001b[0m \u001b[0mSimRes\u001b[0m\u001b[0;34m(\u001b[0m\u001b[0;34m\"\"\u001b[0m\u001b[0;34m+\u001b[0m\u001b[0mFExcitersWorkingDir\u001b[0m\u001b[0;34m+\u001b[0m\u001b[0;34mf\"{exciterName}/OpenIPSL.Examples.Controls.PSSE.ES.{exciterName}_res.mat\"\u001b[0m\u001b[0;34m)\u001b[0m\u001b[0;34m\u001b[0m\u001b[0m\n\u001b[0m\u001b[1;32m      6\u001b[0m \u001b[0mprint\u001b[0m\u001b[0;34m(\u001b[0m\u001b[0;34mf\"{exciterName} Simulation Finished...\"\u001b[0m\u001b[0;34m)\u001b[0m\u001b[0;34m\u001b[0m\u001b[0m\n",
      "\u001b[0;32m~/.local/lib/python3.7/site-packages/modelicares/simres.py\u001b[0m in \u001b[0;36m__init__\u001b[0;34m(self, fname, constants_only, tool)\u001b[0m\n\u001b[1;32m    798\u001b[0m                                   '(\"%s\").' % (tool,\n\u001b[1;32m    799\u001b[0m                                                '\", \"'.join(list(loaderdict))))\n\u001b[0;32m--> 800\u001b[0;31m         \u001b[0mself\u001b[0m\u001b[0;34m.\u001b[0m\u001b[0m_variables\u001b[0m \u001b[0;34m=\u001b[0m \u001b[0mload\u001b[0m\u001b[0;34m(\u001b[0m\u001b[0mfname\u001b[0m\u001b[0;34m,\u001b[0m \u001b[0mconstants_only\u001b[0m\u001b[0;34m)\u001b[0m\u001b[0;34m\u001b[0m\u001b[0m\n\u001b[0m\u001b[1;32m    801\u001b[0m \u001b[0;34m\u001b[0m\u001b[0m\n\u001b[1;32m    802\u001b[0m         \u001b[0;31m# Remember the tool and filename.\u001b[0m\u001b[0;34m\u001b[0m\u001b[0;34m\u001b[0m\u001b[0m\n",
      "\u001b[0;32m~/.local/lib/python3.7/site-packages/modelicares/_io/dymola.py\u001b[0m in \u001b[0;36mloadsim\u001b[0;34m(fname, constants_only)\u001b[0m\n\u001b[1;32m    279\u001b[0m \u001b[0;34m\u001b[0m\u001b[0m\n\u001b[1;32m    280\u001b[0m     \u001b[0;31m# Load the file.\u001b[0m\u001b[0;34m\u001b[0m\u001b[0;34m\u001b[0m\u001b[0m\n\u001b[0;32m--> 281\u001b[0;31m     \u001b[0mmat\u001b[0m\u001b[0;34m,\u001b[0m \u001b[0mAclass\u001b[0m \u001b[0;34m=\u001b[0m \u001b[0mread\u001b[0m\u001b[0;34m(\u001b[0m\u001b[0mfname\u001b[0m\u001b[0;34m,\u001b[0m \u001b[0mconstants_only\u001b[0m\u001b[0;34m)\u001b[0m\u001b[0;34m\u001b[0m\u001b[0m\n\u001b[0m\u001b[1;32m    282\u001b[0m \u001b[0;34m\u001b[0m\u001b[0m\n\u001b[1;32m    283\u001b[0m     \u001b[0;31m# Check the type of results.\u001b[0m\u001b[0;34m\u001b[0m\u001b[0;34m\u001b[0m\u001b[0m\n",
      "\u001b[0;32m~/.local/lib/python3.7/site-packages/modelicares/_io/dymola.py\u001b[0m in \u001b[0;36mread\u001b[0;34m(fname, constants_only)\u001b[0m\n\u001b[1;32m    217\u001b[0m     \u001b[0;32mexcept\u001b[0m \u001b[0mIOError\u001b[0m\u001b[0;34m:\u001b[0m\u001b[0;34m\u001b[0m\u001b[0m\n\u001b[1;32m    218\u001b[0m         raise IOError('\"{f}\" could not be opened.'\n\u001b[0;32m--> 219\u001b[0;31m                       '  Check that it exists.'.format(f=fname))\n\u001b[0m\u001b[1;32m    220\u001b[0m \u001b[0;34m\u001b[0m\u001b[0m\n\u001b[1;32m    221\u001b[0m     \u001b[0;31m# Check if the file contains the Aclass variable.\u001b[0m\u001b[0;34m\u001b[0m\u001b[0;34m\u001b[0m\u001b[0m\n",
      "\u001b[0;31mOSError\u001b[0m: \"/home/manuelnvro/dev/Gitted/NYPAModelTransformation/OpenIPSLVerification/VerificationRoutines/OpenModelica/WorkingDir/Fault/Exciters/ESAC1A/OpenIPSL.Examples.Controls.PSSE.ES.ESAC1A_res.mat\" could not be opened.  Check that it exists."
     ]
    }
   ],
   "source": [
    "omc.sendExpression(f\"cd(\\\"{FExcitersWorkingDir}\" + exciterName +\"\\\")\")\n",
    "omc.sendExpression(f\"loadFile(\\\"{OpenIPSLPackage}\\\")\")\n",
    "omc.sendExpression(\"instantiateModel(OpenIPSL)\")\n",
    "omc.sendExpression(f\"simulate(OpenIPSL.Examples.Controls.PSSE.ES.{exciterName}, stopTime=10.0,method=\\\"rungekutta\\\",numberOfIntervals=5000,tolerance=1e-06)\")\n",
    "sim = SimRes(\"\"+FExcitersWorkingDir+f\"{exciterName}/OpenIPSL.Examples.Controls.PSSE.ES.{exciterName}_res.mat\")\n",
    "print(f\"{exciterName} Simulation Finished...\")"
   ]
  },
  {
   "cell_type": "code",
   "execution_count": null,
   "metadata": {},
   "outputs": [],
   "source": [
    "df_variables = pd.DataFrame([], columns = variables)\n",
    "for var in variables:\n",
    "    df_variables.drop(var, axis = 1, inplace = True)\n",
    "    #Change from Radians to Degrees\n",
    "    if var == exciters['delta'][1]:\n",
    "        df_variables[var] = np.array(sim[var].values()*(180/np.pi))    \n",
    "    else:\n",
    "    #check if a variable does not change during the simulation and then and make a ones array and multiply by the value\n",
    "        try:\n",
    "            df_variables[var] = np.array(sim[var].values())\n",
    "        except:\n",
    "            first = np.array(sim[var].values())\n",
    "            df_variables[var] = first[0] * np.ones(df_variables['Time'].size)\n",
    "print(f\"{exciterName} Variables OK...\")"
   ]
  }
 ],
 "metadata": {
  "kernelspec": {
   "display_name": "Python 3",
   "language": "python",
   "name": "python3"
  },
  "language_info": {
   "codemirror_mode": {
    "name": "ipython",
    "version": 3
   },
   "file_extension": ".py",
   "mimetype": "text/x-python",
   "name": "python",
   "nbconvert_exporter": "python",
   "pygments_lexer": "ipython3",
   "version": "3.7.0"
  }
 },
 "nbformat": 4,
 "nbformat_minor": 2
}
