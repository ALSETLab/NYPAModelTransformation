{
 "cells": [
  {
   "cell_type": "code",
   "execution_count": 50,
   "metadata": {},
   "outputs": [
    {
     "name": "stderr",
     "output_type": "stream",
     "text": [
      "2020-03-29 14:35:38,287 - OMPython - INFO - OMC Server is up and running at file:////tmp/openmodelica.manuelnvro.port.5f6949425b354dd6a64e79d8b522b080 pid=13041\n"
     ]
    }
   ],
   "source": [
    "from OMPython import OMCSessionZMQ\n",
    "omc = OMCSessionZMQ()\n",
    "from modelicares import SimRes\n",
    "import pandas as pd\n",
    "import numpy as np\n",
    "import os\n",
    "import shutil\n",
    "import git"
   ]
  },
  {
   "cell_type": "code",
   "execution_count": 51,
   "metadata": {},
   "outputs": [],
   "source": [
    "#By default, the code runs in manuelnvro Dell using Dymola 2020. To change the computer change the following folders.\n",
    "#OpenIPSL Location\n",
    "OpenIPSL = \"/home/manuelnvro/dev/Gitted/NYPAModelTransformation/OpenIPSLVerification/VerificationRoutines/OpenModelica/OpenIPSL/\"\n",
    "#GitHub Location\n",
    "GitHubOpenIPSL = \"https://github.com/marcelofcastro/OpenIPSL.git\"\n",
    "OpenIPSLPackage = \"/home/manuelnvro/dev/Gitted/NYPAModelTransformation/OpenIPSLVerification/VerificationRoutines/OpenModelica/OpenIPSL/OpenIPSL/package.mo\"\n",
    "OpenModelica = \"/home/manuelnvro/dev/Gitted/NYPAModelTransformation/OpenIPSLVerification/VerificationRoutines/OpenModelica/\"\n",
    "#Working Directory\n",
    "FMachinesWorkingDir = \"/home/manuelnvro/dev/Gitted/NYPAModelTransformation/OpenIPSLVerification/VerificationRoutines/OpenModelica/WorkingDir/Fault/Machines/\"\n",
    "#Load Variation Folder Locations\n",
    "LoadVariationSource = \"/home/manuelnvro/dev/Gitted/NYPAModelTransformation/OpenIPSLVerification/VerificationRoutines/OpenModelica/Scripts/LoadVariation/AuxiliaryModels/Load_variation.mo\"\n",
    "LoadVariationDestinationPath = \"/home/manuelnvro/dev/Gitted/NYPAModelTransformation/OpenIPSLVerification/VerificationRoutines/OpenModelica/OpenIPSL/OpenIPSL/Electrical/Loads/PSSE/\"\n",
    "LoadVariationDestination = \"/home/manuelnvro/dev/Gitted/NYPAModelTransformation/OpenIPSLVerification/VerificationRoutines/OpenModelica/OpenIPSL/OpenIPSL/Electrical/Loads/PSSE/Load_variation.mo\"\n",
    "# Power Fault Folder Locations\n",
    "PowerFaultSource = \"/home/manuelnvro/dev/Gitted/NYPAModelTransformation/OpenIPSLVerification/VerificationRoutines/OpenModelica/Scripts/LoadVariation/AuxiliaryModels/PwFault.mo\"\n",
    "PowerFaultDestinationPath = \"/home/manuelnvro/dev/Gitted/NYPAModelTransformation/OpenIPSLVerification/VerificationRoutines/OpenModelica/OpenIPSL/OpenIPSL/Electrical/Events/\"\n",
    "PowerFaultDestination = \"/home/manuelnvro/dev/Gitted/NYPAModelTransformation/OpenIPSLVerification/VerificationRoutines/OpenModelica/OpenIPSL/OpenIPSL/Electrical/Events/PwFault.mo\""
   ]
  },
  {
   "cell_type": "code",
   "execution_count": 52,
   "metadata": {},
   "outputs": [
    {
     "name": "stdout",
     "output_type": "stream",
     "text": [
      "OpenModelica 1.13.0\n",
      "Open Modelica Simulation Start...\n"
     ]
    }
   ],
   "source": [
    "print(omc.sendExpression(\"getVersion()\"))\n",
    "print(\"Open Modelica Simulation Start...\")"
   ]
  },
  {
   "cell_type": "code",
   "execution_count": 53,
   "metadata": {},
   "outputs": [
    {
     "name": "stdout",
     "output_type": "stream",
     "text": [
      "Pulling latest OpenIPSL library version...\n",
      "\n"
     ]
    },
    {
     "data": {
      "text/plain": [
       "''"
      ]
     },
     "execution_count": 53,
     "metadata": {},
     "output_type": "execute_result"
    }
   ],
   "source": [
    "#Deleting old OpenIPSL library version\n",
    "shutil.rmtree(f\"\"+OpenIPSL+\"\")\n",
    "#Pulling latest OpenIPSL library version\n",
    "print('Pulling latest OpenIPSL library version...\\n')\n",
    "git.Git(\"\"+OpenModelica+\"\").clone(\"\"+GitHubOpenIPSL+\"\")"
   ]
  },
  {
   "cell_type": "code",
   "execution_count": 54,
   "metadata": {},
   "outputs": [
    {
     "name": "stdout",
     "output_type": "stream",
     "text": [
      "/home/manuelnvro/dev/Gitted/NYPAModelTransformation/OpenIPSLVerification/VerificationRoutines/OpenModelica/WorkingDir/Fault/Machines\n"
     ]
    }
   ],
   "source": [
    "#Set WorkigDir\n",
    "set = omc.sendExpression(\"cd(\\\"\"+FMachinesWorkingDir+\"\\\")\")\n",
    "print(set)"
   ]
  },
  {
   "cell_type": "code",
   "execution_count": 58,
   "metadata": {},
   "outputs": [
    {
     "name": "stdout",
     "output_type": "stream",
     "text": [
      "False\n"
     ]
    }
   ],
   "source": [
    "#Load Package\n",
    "load = omc.sendExpression(\"loadFile(\\\"/home/manuelnvro/dev/Gitted/NYPAModelTransformation/OpenIPSLVerification/VerificationRoutines/OpenModelica/OpenIPSL/OpenIPSL/package.mo\\\")\")\n",
    "print(load)"
   ]
  },
  {
   "cell_type": "code",
   "execution_count": 57,
   "metadata": {},
   "outputs": [
    {
     "data": {
      "text/plain": [
       "''"
      ]
     },
     "execution_count": 57,
     "metadata": {},
     "output_type": "execute_result"
    }
   ],
   "source": [
    "#Package Instantiation\n",
    "omc.sendExpression(\"instantiateModel(OpenIPSL)\")"
   ]
  },
  {
   "cell_type": "code",
   "execution_count": null,
   "metadata": {},
   "outputs": [],
   "source": [
    "#Creation of matrix with names, paths and variables\n",
    "machines = { 'names' : [\"GENROU\",\"GENSAL\", \"GENCLS\", \"GENROE\", \"GENSAE\", \"CSVGN1\"],\n",
    "            'path' : [\"OpenIPSL.Examples.Machines.PSSE.GENROU\", \"OpenIPSL.Examples.Machines.PSSE.GENSAL\",\n",
    "                      \"OpenIPSL.Examples.Machines.PSSE.GENCLS\", \"OpenIPSL.Examples.Machines.PSSE.GENROE\", \n",
    "                      \"OpenIPSL.Examples.Machines.PSSE.GENSAE\", \"OpenIPSL.Examples.Machines.PSSE.CSVGN1\"],\n",
    "            'delta' : ['gENROU.delta', 'gENSAL.delta', 'gENCLS2.delta', 'gENROE.delta', 'gENSAE.delta', 'cSVGN1.delta'],\n",
    "           'pelec' : ['gENROU.PELEC', 'gENSAL.PELEC', 'gENCLS2.P', 'gENROE.PELEC', 'gENSAE.PELEC', 'cSVGN1.PELEC'],\n",
    "           'speed' : ['gENROU.SPEED', 'gENSAL.SPEED', 'gENCLS2.omega', 'gENROE.SPEED', 'gENSAE.SPEED', 'cSVGN1.SPEED'],\n",
    "           'pmech' : ['gENROU.PMECH', 'gENSAL.PMECH', 'gENCLS2.P', 'gENROE.PMECH', 'gENSAE.PMECH', 'cSVGN1.PMECH']}"
   ]
  },
  {
   "cell_type": "code",
   "execution_count": null,
   "metadata": {},
   "outputs": [],
   "source": [
    "#Delete old results\n",
    "shutil.rmtree(''+FMachinesWorkingDir+'')\n",
    "#Create Exciters folder\n",
    "os.makedirs(''+FMachinesWorkingDir+'')\n",
    "os.chdir(f\"\"+FMachinesWorkingDir+\"\")\n",
    "for machineNumber, machineName in enumerate(machines['names']):\n",
    "    os.makedirs(f'{machineName}')"
   ]
  },
  {
   "cell_type": "code",
   "execution_count": null,
   "metadata": {},
   "outputs": [],
   "source": [
    "print(f\"Fault {machineName} Simulation Start...\")\n",
    "omc.sendExpression(\"cd(\\\"\"+FMachinesWorkingDir+\"\\\")\")\n",
    "resultPath = \"/\"+FMachinesWorkingDir+\"GENROU/\"\n",
    "print(resultPath)\n",
    "load = omc.sendExpression(\"loadFile(\\\"/home/manuelnvro/dev/Gitted/NYPAModelTransformation/OpenIPSLVerification/VerificationRoutines/Dymola/OpenIPSL/OpenIPSL/package.mo\\\")\")\n",
    "#instant = omc.sendExpression(\"instantiateModel(OpenIPSL)\")\n",
    "print(load)\n",
    "#print(instant)\n",
    "#omc.sendExpression(\"instantiateModel(\"+machines['names'][machineNumber]+\"\"))\n",
    "#result  = omc.sendExpression(\"simulate(\"+machines['path'][machineNumber]+\", stopTime=10.0,method=\\\"rungekutta\\\", numberOfIntervals = 5000, tolerance=1e-06)\")\n",
    "#print(result)"
   ]
  },
  {
   "cell_type": "code",
   "execution_count": null,
   "metadata": {},
   "outputs": [],
   "source": [
    "#For loop that will iterate between machines, simulate, and create the .csv file\n",
    "for machineNumber, machineName in enumerate(machines['names']):\n",
    "    print(f\"Fault {machineName} Simulation Start...\")\n",
    "    omc.sendExpression(\"cd(\\\"\"+FMachinesWorkingDir+\"\\\")\")\n",
    "    resultPath = \"/\"+FMachinesWorkingDir+f\"{machineName}/\" + machineName\n",
    "    omc.sendExpression(\"loadFile(\\\"\"+OpenIPSLPackage+\"\\\")\")\n",
    "    omc.sendExpression(\"instantiateModel(\"+machines['names'][machineNumber]+\"\"))\n",
    "    result  = omc.sendExpression(\"simulate(\"+machines['path'][machineNumber]+\", stopTime=10.0,method=\\\"rungekutta\\\", numberOfIntervals = 5000, tolerance=1e-06)\")\n",
    "    print(result)\n",
    "    if not result:\n",
    "        print(\"Simulation failed or model was not found... \\n\")\n",
    "    else:\n",
    "        print(f\"{machineName} Simulation OK...\")\n",
    "        print(\".csv Writing Start...\")\n",
    "        #Selecting Result File\n",
    "        sim = SimRes(\"\"+FMachinesWorkingDir+f\"{machineName}/{machineName}.mat\")\n",
    "        #Selecting Variables\n",
    "        variables = ['Time', machines['delta'][machineNumber], machines['pelec'][machineNumber], machines['pmech'][machineNumber], machines['speed'][machineNumber], 'GEN1.V', 'LOAD.V', 'GEN2.V', 'FAULT.V' ]\n",
    "        df_variables = pd.DataFrame([], columns = variables)\n",
    "        for var in variables:\n",
    "            df_variables.drop(var, axis = 1, inplace = True)\n",
    "            #Change from Radians to Degrees\n",
    "            if var == machines['delta'][machineNumber]:\n",
    "                df_variables[var] = np.array(sim[var].values()*(180/np.pi))    \n",
    "            else:\n",
    "                #check if a variable does not change during the simulation and then and make a ones array and multiply by the value\n",
    "                try:\n",
    "                    df_variables[var] = np.array(sim[var].values())\n",
    "                except:\n",
    "                    first = np.array(sim[var].values())\n",
    "                    df_variables[var] = first[0] * np.ones(df_variables['Time'].size)\n",
    "        print(f\"{machineName} Variables OK...\")\n",
    "        #Changing current directory\n",
    "        os.chdir(f\"\"+FMachinesWorkingDir+\"\")\n",
    "        df_variables.to_csv(f'{machineName}.csv', index = False)          \n",
    "        print(f\"{machineName} Write OK...\")       \n",
    "    try:\n",
    "        shutil.rmtree(\"\"+FMachinesWorkingDir+f\"{machineName}/\")\n",
    "        print(\"Delete OK...\\n\")\n",
    "    except:\n",
    "        pass \n",
    "print('Fault Open Modelica Machine Examples Simulation OK...')"
   ]
  },
  {
   "cell_type": "code",
   "execution_count": null,
   "metadata": {},
   "outputs": [],
   "source": [
    "try:\n",
    "    print(\"Closing Open Modelica...\")\n",
    "    omc.sendExpression(\"quit()\")\n",
    "    print(\"OpenModelica Close OK...\")\n",
    "except:\n",
    "    print(\"Open Modelica closing error...\")"
   ]
  }
 ],
 "metadata": {
  "kernelspec": {
   "display_name": "Python 3",
   "language": "python",
   "name": "python3"
  },
  "language_info": {
   "codemirror_mode": {
    "name": "ipython",
    "version": 3
   },
   "file_extension": ".py",
   "mimetype": "text/x-python",
   "name": "python",
   "nbconvert_exporter": "python",
   "pygments_lexer": "ipython3",
   "version": "3.7.4"
  }
 },
 "nbformat": 4,
 "nbformat_minor": 2
}
