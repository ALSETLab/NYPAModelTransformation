{
 "cells": [
  {
   "cell_type": "code",
   "execution_count": 1,
   "metadata": {},
   "outputs": [
    {
     "name": "stderr",
     "output_type": "stream",
     "text": [
      "2020-04-05 21:03:02,970 - OMPython - INFO - OMC Server is up and running at file:////tmp/openmodelica.manuelnvro.port.1527d5615e1f4872b2e025f536099308 pid=22617\n"
     ]
    }
   ],
   "source": [
    "from OMPython import OMCSessionZMQ\n",
    "omc = OMCSessionZMQ()\n",
    "from modelicares import SimRes\n",
    "import pandas as pd\n",
    "import numpy as np\n",
    "import os\n",
    "import shutil\n",
    "import git"
   ]
  },
  {
   "cell_type": "code",
   "execution_count": 10,
   "metadata": {},
   "outputs": [],
   "source": [
    "#By default, the code runs in manuelnvro Dell using Dymola 2020. To change the computer change the following folders.\n",
    "#OpenIPSL Location\n",
    "OpenIPSL = \"/home/manuelnvro/dev/Gitted/NYPAModelTransformation/OpenIPSLVerification/VerificationRoutines/OpenModelica/OpenIPSL/\"\n",
    "#GitHub Location\n",
    "GitHubOpenIPSL = \"https://github.com/marcelofcastro/OpenIPSL.git\"\n",
    "OpenIPSLPackage = \"/home/manuelnvro/dev/Gitted/NYPAModelTransformation/OpenIPSLVerification/VerificationRoutines/Dymola/OpenIPSL/OpenIPSL/package.mo\"\n",
    "OpenModelica = \"/home/manuelnvro/dev/Gitted/NYPAModelTransformation/OpenIPSLVerification/VerificationRoutines/OpenModelica/\"\n",
    "#Working Directory\n",
    "FMachinesWorkingDir = \"/home/manuelnvro/dev/Gitted/NYPAModelTransformation/OpenIPSLVerification/VerificationRoutines/OpenModelica/WorkingDir/Fault/Machines/\"\n",
    "#Load Variation Folder Locations\n",
    "LoadVariationSource = \"/home/manuelnvro/dev/Gitted/NYPAModelTransformation/OpenIPSLVerification/VerificationRoutines/OpenModelica/Scripts/LoadVariation/AuxiliaryModels/Load_variation.mo\"\n",
    "LoadVariationDestinationPath = \"/home/manuelnvro/dev/Gitted/NYPAModelTransformation/OpenIPSLVerification/VerificationRoutines/OpenModelica/OpenIPSL/OpenIPSL/Electrical/Loads/PSSE/\"\n",
    "LoadVariationDestination = \"/home/manuelnvro/dev/Gitted/NYPAModelTransformation/OpenIPSLVerification/VerificationRoutines/OpenModelica/OpenIPSL/OpenIPSL/Electrical/Loads/PSSE/Load_variation.mo\"\n",
    "# Power Fault Folder Locations\n",
    "PowerFaultSource = \"/home/manuelnvro/dev/Gitted/NYPAModelTransformation/OpenIPSLVerification/VerificationRoutines/OpenModelica/Scripts/LoadVariation/AuxiliaryModels/PwFault.mo\"\n",
    "PowerFaultDestinationPath = \"/home/manuelnvro/dev/Gitted/NYPAModelTransformation/OpenIPSLVerification/VerificationRoutines/OpenModelica/OpenIPSL/OpenIPSL/Electrical/Events/\"\n",
    "PowerFaultDestination = \"/home/manuelnvro/dev/Gitted/NYPAModelTransformation/OpenIPSLVerification/VerificationRoutines/OpenModelica/OpenIPSL/OpenIPSL/Electrical/Events/PwFault.mo\""
   ]
  },
  {
   "cell_type": "code",
   "execution_count": 3,
   "metadata": {},
   "outputs": [
    {
     "name": "stdout",
     "output_type": "stream",
     "text": [
      "OpenModelica 1.13.0\n",
      "Open Modelica Simulation Start...\n"
     ]
    }
   ],
   "source": [
    "print(omc.sendExpression(\"getVersion()\"))\n",
    "print(\"Open Modelica Simulation Start...\")"
   ]
  },
  {
   "cell_type": "code",
   "execution_count": null,
   "metadata": {},
   "outputs": [],
   "source": [
    "#Deleting old OpenIPSL library version\n",
    "shutil.rmtree(f\"\"+OpenIPSL+\"\")\n",
    "#Pulling latest OpenIPSL library version\n",
    "print('Pulling latest OpenIPSL library version...\\n')\n",
    "git.Git(\"\"+OpenModelica+\"\").clone(\"\"+GitHubOpenIPSL+\"\")"
   ]
  },
  {
   "cell_type": "code",
   "execution_count": 4,
   "metadata": {},
   "outputs": [
    {
     "name": "stdout",
     "output_type": "stream",
     "text": [
      "/home/manuelnvro/dev/Gitted/NYPAModelTransformation/OpenIPSLVerification/VerificationRoutines/OpenModelica/WorkingDir/Fault/Machines\n"
     ]
    }
   ],
   "source": [
    "#Set WorkigDir\n",
    "set = omc.sendExpression(f\"cd(\\\"{FMachinesWorkingDir}\\\")\")\n",
    "print(set)"
   ]
  },
  {
   "cell_type": "code",
   "execution_count": 13,
   "metadata": {},
   "outputs": [
    {
     "data": {
      "text/plain": [
       "True"
      ]
     },
     "execution_count": 13,
     "metadata": {},
     "output_type": "execute_result"
    }
   ],
   "source": [
    "#Loading Package ITWILL NOT LET ME LOAD THE GITTED OPENIPSL\n",
    "omc.sendExpression(\"loadFile(\\\"/home/manuelnvro/dev/Gitted/OpenIPSL/OpenIPSL/package.mo\\\")\")"
   ]
  },
  {
   "cell_type": "code",
   "execution_count": 6,
   "metadata": {},
   "outputs": [
    {
     "data": {
      "text/plain": [
       "'class OpenIPSL \"Open-Instance Power System Library\"\\nend OpenIPSL;\\n'"
      ]
     },
     "execution_count": 6,
     "metadata": {},
     "output_type": "execute_result"
    }
   ],
   "source": [
    "#Package Instantiation\n",
    "omc.sendExpression(\"instantiateModel(OpenIPSL)\")"
   ]
  },
  {
   "cell_type": "code",
   "execution_count": 15,
   "metadata": {},
   "outputs": [
    {
     "data": {
      "text/plain": [
       "{'resultFile': '/home/manuelnvro/dev/Gitted/NYPAModelTransformation/OpenIPSLVerification/VerificationRoutines/OpenModelica/WorkingDir/Fault/Machines/OpenIPSL.Examples.Machines.PSSE.GENSAL_res.mat',\n",
       " 'simulationOptions': \"startTime = 0.0, stopTime = 10.0, numberOfIntervals = 5000, tolerance = 1e-06, method = 'rungekutta', fileNamePrefix = 'OpenIPSL.Examples.Machines.PSSE.GENSAL', options = '', outputFormat = 'mat', variableFilter = '.*', cflags = '', simflags = ''\",\n",
       " 'messages': 'LOG_SUCCESS       | info    | The initialization finished successfully without homotopy method.\\nLOG_SUCCESS       | info    | The simulation finished successfully.\\n',\n",
       " 'timeFrontend': 0.363059912,\n",
       " 'timeBackend': 0.132020972,\n",
       " 'timeSimCode': 0.041473224,\n",
       " 'timeTemplates': 0.019704486,\n",
       " 'timeCompile': 0.816412871,\n",
       " 'timeSimulation': 0.44346445,\n",
       " 'timeTotal': 1.816257555}"
      ]
     },
     "execution_count": 15,
     "metadata": {},
     "output_type": "execute_result"
    }
   ],
   "source": [
    "#OpenModelica Simulation\n",
    "omc.sendExpression(\"simulate(OpenIPSL.Examples.Machines.PSSE.GENSAL, stopTime=10.0,method=\\\"rungekutta\\\",numberOfIntervals=5000,tolerance=1e-06)\")"
   ]
  },
  {
   "cell_type": "code",
   "execution_count": null,
   "metadata": {},
   "outputs": [],
   "source": []
  },
  {
   "cell_type": "code",
   "execution_count": null,
   "metadata": {},
   "outputs": [],
   "source": []
  },
  {
   "cell_type": "code",
   "execution_count": null,
   "metadata": {},
   "outputs": [],
   "source": [
    "try:\n",
    "    print(\"Closing Open Modelica...\")\n",
    "    omc.sendExpression(\"quit()\")\n",
    "    print(\"OpenModelica Close OK...\")\n",
    "except:\n",
    "    print(\"Open Modelica closing error...\")"
   ]
  }
 ],
 "metadata": {
  "kernelspec": {
   "display_name": "Python 3",
   "language": "python",
   "name": "python3"
  },
  "language_info": {
   "codemirror_mode": {
    "name": "ipython",
    "version": 3
   },
   "file_extension": ".py",
   "mimetype": "text/x-python",
   "name": "python",
   "nbconvert_exporter": "python",
   "pygments_lexer": "ipython3",
   "version": "3.7.4"
  }
 },
 "nbformat": 4,
 "nbformat_minor": 2
}
