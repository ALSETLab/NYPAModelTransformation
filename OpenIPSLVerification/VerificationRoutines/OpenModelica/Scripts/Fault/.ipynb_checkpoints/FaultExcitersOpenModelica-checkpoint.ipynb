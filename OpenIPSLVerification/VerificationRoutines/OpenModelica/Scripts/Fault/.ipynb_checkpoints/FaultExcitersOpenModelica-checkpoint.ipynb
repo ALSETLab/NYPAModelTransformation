{
 "cells": [
  {
   "cell_type": "code",
   "execution_count": 2,
   "metadata": {},
   "outputs": [
    {
     "name": "stderr",
     "output_type": "stream",
     "text": [
      "2020-04-05 22:14:55,743 - OMPython - INFO - OMC Server is up and running at file:////tmp/openmodelica.manuelnvro.port.ef49f4fa8cb14d50b092696eb944e289 pid=31671\n"
     ]
    }
   ],
   "source": [
    "from OMPython import OMCSessionZMQ\n",
    "omc = OMCSessionZMQ()\n",
    "from modelicares import SimRes\n",
    "import pandas as pd\n",
    "import numpy as np\n",
    "import os\n",
    "import shutil\n",
    "import git"
   ]
  },
  {
   "cell_type": "code",
   "execution_count": 3,
   "metadata": {},
   "outputs": [],
   "source": [
    "#By default, the code runs in manuelnvro Dell using Dymola 2020. To change the computer change the following folders.\n",
    "#OpenIPSL Location\n",
    "OpenIPSL = \"/home/manuelnvro/dev/Gitted/NYPAModelTransformation/OpenIPSLVerification/VerificationRoutines/OpenModelica/OpenIPSL/\"\n",
    "#GitHub Location\n",
    "GitHubOpenIPSL = \"https://github.com/marcelofcastro/OpenIPSL.git\"\n",
    "OpenIPSLPackage = \"/home/manuelnvro/dev/Gitted/NYPAModelTransformation/OpenIPSLVerification/VerificationRoutines/OpenModelica/OpenIPSL/OpenIPSL/package.mo\"\n",
    "OpenModelica = \"/home/manuelnvro/dev/Gitted/NYPAModelTransformation/OpenIPSLVerification/VerificationRoutines/OpenModelica/\"\n",
    "#Working Directory\n",
    "FExcitersWorkingDir = \"/home/manuelnvro/dev/Gitted/NYPAModelTransformation/OpenIPSLVerification/VerificationRoutines/OpenModelica/WorkingDir/Fault/Exciters/\"\n",
    "#Load Variation Folder Locations\n",
    "LoadVariationSource = \"/home/manuelnvro/dev/Gitted/NYPAModelTransformation/OpenIPSLVerification/VerificationRoutines/OpenModelica/Scripts/LoadVariation/AuxiliaryModels/Load_variation.mo\"\n",
    "LoadVariationDestinationPath = \"/home/manuelnvro/dev/Gitted/NYPAModelTransformation/OpenIPSLVerification/VerificationRoutines/OpenModelica/OpenIPSL/OpenIPSL/Electrical/Loads/PSSE/\"\n",
    "LoadVariationDestination = \"/home/manuelnvro/dev/Gitted/NYPAModelTransformation/OpenIPSLVerification/VerificationRoutines/OpenModelica/OpenIPSL/OpenIPSL/Electrical/Loads/PSSE/Load_variation.mo\"\n",
    "# Power Fault Folder Locations\n",
    "PowerFaultSource = \"/home/manuelnvro/dev/Gitted/NYPAModelTransformation/OpenIPSLVerification/VerificationRoutines/OpenModelica/Scripts/LoadVariation/AuxiliaryModels/PwFault.mo\"\n",
    "PowerFaultDestinationPath = \"/home/manuelnvro/dev/Gitted/NYPAModelTransformation/OpenIPSLVerification/VerificationRoutines/OpenModelica/OpenIPSL/OpenIPSL/Electrical/Events/\"\n",
    "PowerFaultDestination = \"/home/manuelnvro/dev/Gitted/NYPAModelTransformation/OpenIPSLVerification/VerificationRoutines/OpenModelica/OpenIPSL/OpenIPSL/Electrical/Events/PwFault.mo\""
   ]
  },
  {
   "cell_type": "code",
   "execution_count": 4,
   "metadata": {},
   "outputs": [
    {
     "name": "stdout",
     "output_type": "stream",
     "text": [
      "OpenModelica 1.13.0\n",
      "Open Modelica Exciters Simulation Start...\n"
     ]
    }
   ],
   "source": [
    "print(omc.sendExpression(\"getVersion()\"))\n",
    "print(\"Open Modelica Exciters Simulation Start...\")"
   ]
  },
  {
   "cell_type": "code",
   "execution_count": 5,
   "metadata": {},
   "outputs": [
    {
     "name": "stdout",
     "output_type": "stream",
     "text": [
      "Pulling latest OpenIPSL library version...\n",
      "\n"
     ]
    },
    {
     "data": {
      "text/plain": [
       "''"
      ]
     },
     "execution_count": 5,
     "metadata": {},
     "output_type": "execute_result"
    }
   ],
   "source": [
    "#Deleting old OpenIPSL library version\n",
    "shutil.rmtree(f\"\"+OpenIPSL+\"\")\n",
    "#Pulling latest OpenIPSL library version\n",
    "print('Pulling latest OpenIPSL library version...\\n')\n",
    "git.Git(\"\"+OpenModelica+\"\").clone(\"\"+GitHubOpenIPSL+\"\")"
   ]
  },
  {
   "cell_type": "code",
   "execution_count": 6,
   "metadata": {},
   "outputs": [],
   "source": [
    "#Creation of matrix with names, paths and variables\n",
    "exciters = { 'names' : [\"AC7B\",\"AC8B\", \"ESAC1A\", \"ESAC2A\", \"ESAC6A\", \"ESDC1A\", \"ESST1A\", \"ESST3A\", \"ESST4B\", \n",
    "                        \"EXAC1\", \"EXAC2\", \"EXAC3\", \"EXDC2\", \"EXPIC1\", \"EXST1\", \"EXST3\", \"IEEET1\", \"IEEET2\", \n",
    "                        \"IEEET3\", \"IEEET5\", \"REXSYS\", \"SCRX\", \"SEXS\", \"ST6B\"],\n",
    "            'path' : [\"OpenIPSL.Examples.Controls.PSSE.ES.AC7B\", \"OpenIPSL.Examples.Controls.PSSE.ES.AC8B\",\n",
    "                      \"OpenIPSL.Examples.Controls.PSSE.ES.ESAC1A\", \"OpenIPSL.Examples.Controls.PSSE.ES.ESAC2A\",\n",
    "                      \"OpenIPSL.Examples.Controls.PSSE.ES.ESAC6A\", \"OpenIPSL.Examples.Controls.PSSE.ES.ESDC1A\",\n",
    "                      \"OpenIPSL.Examples.Controls.PSSE.ES.ESST1A\", \"OpenIPSL.Examples.Controls.PSSE.ES.ESST3A\",\n",
    "                      \"OpenIPSL.Examples.Controls.PSSE.ES.ESST4B\", \"OpenIPSL.Examples.Controls.PSSE.ES.EXAC1\",\n",
    "                      \"OpenIPSL.Examples.Controls.PSSE.ES.EXAC2\", \"OpenIPSL.Examples.Controls.PSSE.ES.EXAC3\",\n",
    "                      \"OpenIPSL.Examples.Controls.PSSE.ES.EXDC2\", \"OpenIPSL.Examples.Controls.PSSE.ES.EXPIC1\",\n",
    "                      \"OpenIPSL.Examples.Controls.PSSE.ES.EXST1\", \"OpenIPSL.Examples.Controls.PSSE.ES.EXST3\",\n",
    "                      \"OpenIPSL.Examples.Controls.PSSE.ES.IEEET1\", \"OpenIPSL.Examples.Controls.PSSE.ES.IEEET2\",\n",
    "                      \"OpenIPSL.Examples.Controls.PSSE.ES.IEEET3\", \"OpenIPSL.Examples.Controls.PSSE.ES.IEEET5\",\n",
    "                      \"OpenIPSL.Examples.Controls.PSSE.ES.REXSYS\", \"OpenIPSL.Examples.Controls.PSSE.ES.SCRX\",\n",
    "                      \"OpenIPSL.Examples.Controls.PSSE.ES.SEXS\", \"OpenIPSL.Examples.Controls.PSSE.ES.ST6B\"],\n",
    "            'delta' : ['gENROU.delta', 'gENROE.delta' ],\n",
    "           'pelec' : ['gENROU.PELEC', 'gENROE.PELEC'],\n",
    "            'pmech' : ['gENROU.PMECH', 'gENROE.PMECH'],\n",
    "           'speed' : ['gENROU.SPEED', 'gENROE.SPEED'],\n",
    "           'efd': [\"aC7B.EFD\",\"aC8B.EFD\", \"eSAC1A.EFD\", \"eSAC2A.EFD\", \"eSAC6A.EFD\", \"eSDC1A.EFD\", \"eSST1A.EFD\", \"eSST3A.EFD\", \"eSST4B.EFD\", \n",
    "                        \"eXAC1.EFD\", \"eXAC2.EFD\", \"eXAC3.EFD\", \"eXDC2.EFD\", \"eXPIC1.EFD\", \"eXST1.EFD\", \"eXST3.EFD\", \"iEEET1.EFD\", \"iEEET2.EFD\", \n",
    "                        \"iEEET3.EFD\", \"iEEET5.EFD\", \"rEXSYS.EFD\", \"sCRX.EFD\", \"sEXS.EFD\", \"sT6B.EFD\"]}\n"
   ]
  },
  {
   "cell_type": "code",
   "execution_count": 7,
   "metadata": {},
   "outputs": [],
   "source": [
    "#Delete old results\n",
    "shutil.rmtree(''+FExcitersWorkingDir+'')\n",
    "#Create Exciters folder\n",
    "os.makedirs(''+FExcitersWorkingDir+'')\n",
    "os.chdir(f\"\"+FExcitersWorkingDir+\"\")\n",
    "for exciterNumber, exciterName in enumerate(exciters['names']):\n",
    "    os.makedirs(f'{exciterName}')"
   ]
  },
  {
   "cell_type": "code",
   "execution_count": null,
   "metadata": {},
   "outputs": [
    {
     "name": "stdout",
     "output_type": "stream",
     "text": [
      "Fault AC7B Simulation Start...\n",
      "AC7B Simulation Finished...\n",
      ".csv Writing Start...\n",
      "AC7B simulation error or model not found...\n",
      "AC7B variable error...\n",
      "\n",
      "Fault AC8B Simulation Start...\n",
      "AC8B Simulation Finished...\n",
      ".csv Writing Start...\n",
      "AC8B simulation error or model not found...\n",
      "AC8B variable error...\n",
      "\n",
      "Fault ESAC1A Simulation Start...\n",
      "ESAC1A Simulation Finished...\n",
      ".csv Writing Start...\n",
      "ESAC1A variable error...\n",
      "\n",
      "Fault ESAC2A Simulation Start...\n",
      "ESAC2A Simulation Finished...\n",
      ".csv Writing Start...\n",
      "ESAC2A variable error...\n",
      "\n",
      "Fault ESAC6A Simulation Start...\n",
      "ESAC6A Simulation Finished...\n",
      ".csv Writing Start...\n",
      "ESAC6A simulation error or model not found...\n",
      "ESAC6A variable error...\n",
      "\n",
      "Fault ESDC1A Simulation Start...\n",
      "ESDC1A Simulation Finished...\n",
      ".csv Writing Start...\n",
      "ESDC1A variable error...\n",
      "\n",
      "Fault ESST1A Simulation Start...\n",
      "ESST1A Simulation Finished...\n",
      ".csv Writing Start...\n",
      "ESST1A variable error...\n",
      "\n",
      "Fault ESST3A Simulation Start...\n",
      "ESST3A Simulation Finished...\n",
      ".csv Writing Start...\n",
      "ESST3A simulation error or model not found...\n",
      "ESST3A variable error...\n",
      "\n",
      "Fault ESST4B Simulation Start...\n",
      "ESST4B Simulation Finished...\n",
      ".csv Writing Start...\n",
      "ESST4B simulation error or model not found...\n",
      "ESST4B variable error...\n",
      "\n",
      "Fault EXAC1 Simulation Start...\n",
      "EXAC1 Simulation Finished...\n",
      ".csv Writing Start...\n",
      "EXAC1 variable error...\n",
      "\n",
      "Fault EXAC2 Simulation Start...\n",
      "EXAC2 Simulation Finished...\n",
      ".csv Writing Start...\n",
      "EXAC2 variable error...\n",
      "\n",
      "Fault EXAC3 Simulation Start...\n",
      "EXAC3 Simulation Finished...\n",
      ".csv Writing Start...\n",
      "EXAC3 simulation error or model not found...\n",
      "EXAC3 variable error...\n",
      "\n",
      "Fault EXDC2 Simulation Start...\n",
      "EXDC2 Simulation Finished...\n",
      ".csv Writing Start...\n",
      "EXDC2 simulation error or model not found...\n",
      "EXDC2 variable error...\n",
      "\n",
      "Fault EXPIC1 Simulation Start...\n",
      "EXPIC1 Simulation Finished...\n",
      ".csv Writing Start...\n",
      "EXPIC1 simulation error or model not found...\n",
      "EXPIC1 variable error...\n",
      "\n",
      "Fault EXST1 Simulation Start...\n",
      "EXST1 Simulation Finished...\n",
      ".csv Writing Start...\n",
      "EXST1 variable error...\n",
      "\n",
      "Fault EXST3 Simulation Start...\n",
      "EXST3 Simulation Finished...\n",
      ".csv Writing Start...\n",
      "EXST3 simulation error or model not found...\n",
      "EXST3 variable error...\n",
      "\n",
      "Fault IEEET1 Simulation Start...\n"
     ]
    }
   ],
   "source": [
    "#For loop that will iterate between machines, simulate, and create the .csv file\n",
    "for exciterNumber, exciterName in enumerate(exciters['names']):\n",
    "    print(f\"Fault {exciterName} Simulation Start...\")\n",
    "    omc.sendExpression(f\"cd(\\\"{FExcitersWorkingDir}\" + exciterName +\"\\\")\")\n",
    "    omc.sendExpression(f\"loadFile(\\\"/home/manuelnvro/dev/Gitted/OpenIPSL/OpenIPSL/package.mo\\\")\")\n",
    "    omc.sendExpression(\"instantiateModel(OpenIPSL)\")\n",
    "    omc.sendExpression(f\"simulate(OpenIPSL.Examples.Controls.PSSE.ES.{exciterName}, stopTime=10.0,method=\\\"rungekutta\\\",numberOfIntervals=5000,tolerance=1e-06)\")\n",
    "    print(f\"{exciterName} Simulation Finished...\")\n",
    "    print(\".csv Writing Start...\")\n",
    "    #Selecting Result File\n",
    "    try:\n",
    "        sim = SimRes(\"\"+FExcitersWorkingDir+f\"{exciterName}/OpenIPSL.Examples.Controls.PSSE.ES.{exciterName}_res.mat\")\n",
    "    except:\n",
    "        print(f\"{exciterName} simulation error or model not found...\")\n",
    "    try:\n",
    "        #Selecting Variables\n",
    "        variables = ['Time', exciters['delta'][0], exciters['pelec'][0], exciters['pmech'][0], exciters['speed'][0], exciters['efd'][exciterNumber], 'GEN1.V', 'LOAD.V', 'GEN2.V', 'FAULT.V' ]\n",
    "        df_variables = pd.DataFrame([], columns = variables)\n",
    "        for var in variables:\n",
    "            df_variables.drop(var, axis = 1, inplace = True)\n",
    "            #Change from Radians to Degrees\n",
    "            if var == exciters['delta'][0]:\n",
    "                df_variables[var] = np.array(sim[var].values()*(180/np.pi))    \n",
    "            else:\n",
    "                #check if a variable does not change during the simulation and then and make a ones array and multiply by the value\n",
    "                try:\n",
    "                    df_variables[var] = np.array(sim[var].values())\n",
    "                except:\n",
    "                    first = np.array(sim[var].values())\n",
    "                    df_variables[var] = first[0] * np.ones(df_variables['Time'].size)\n",
    "        print(f\"{exciterName} Variables OK...\")\n",
    "        #Changing current directory\n",
    "        os.chdir(f\"\"+FExcitersWorkingDir+\"\")\n",
    "        df_variables.to_csv(f'{exciterName}.csv', index = False)          \n",
    "        print(f\"{exciterName} Write OK...\")\n",
    "    except:\n",
    "        print(f\"{exciterName} variable error...\\n\")\n",
    "try:\n",
    "    shutil.rmtree(\"\"+FExcitersWorkingDir+f\"{exciterName}/\")\n",
    "    print(\"Delete OK...\\n\")\n",
    "except:\n",
    "    print(\"Error...\\n\")          \n",
    "print('Fault Exciter Examples Open Modelica Simulation OK...')"
   ]
  },
  {
   "cell_type": "code",
   "execution_count": null,
   "metadata": {},
   "outputs": [],
   "source": [
    "try:\n",
    "    print(\"Closing Open Modelica...\")\n",
    "    omc.sendExpression(\"quit()\")\n",
    "    print(\"OpenModelica Close OK...\")\n",
    "except:\n",
    "    print(\"Open Modelica closing error...\")"
   ]
  }
 ],
 "metadata": {
  "kernelspec": {
   "display_name": "Python 3",
   "language": "python",
   "name": "python3"
  },
  "language_info": {
   "codemirror_mode": {
    "name": "ipython",
    "version": 3
   },
   "file_extension": ".py",
   "mimetype": "text/x-python",
   "name": "python",
   "nbconvert_exporter": "python",
   "pygments_lexer": "ipython3",
   "version": "3.7.4"
  }
 },
 "nbformat": 4,
 "nbformat_minor": 2
}
