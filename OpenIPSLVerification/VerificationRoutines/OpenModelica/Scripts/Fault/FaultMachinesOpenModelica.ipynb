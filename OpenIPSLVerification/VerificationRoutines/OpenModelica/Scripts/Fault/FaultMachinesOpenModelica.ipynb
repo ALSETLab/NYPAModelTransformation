{
 "cells": [
  {
   "cell_type": "code",
   "execution_count": 27,
   "metadata": {},
   "outputs": [
    {
     "name": "stderr",
     "output_type": "stream",
     "text": [
      "2020-04-05 21:31:00,729 - OMPython - INFO - OMC Server is up and running at file:////tmp/openmodelica.manuelnvro.port.c8602370ce344ae78834722c758bc3ad pid=24888\n"
     ]
    }
   ],
   "source": [
    "from OMPython import OMCSessionZMQ\n",
    "omc = OMCSessionZMQ()\n",
    "from modelicares import SimRes\n",
    "import pandas as pd\n",
    "import numpy as np\n",
    "import os\n",
    "import shutil\n",
    "import git"
   ]
  },
  {
   "cell_type": "code",
   "execution_count": 28,
   "metadata": {},
   "outputs": [],
   "source": [
    "#By default, the code runs in manuelnvro Dell using Dymola 2020. To change the computer change the following folders.\n",
    "#OpenIPSL Location\n",
    "OpenIPSL = \"/home/manuelnvro/dev/Gitted/NYPAModelTransformation/OpenIPSLVerification/VerificationRoutines/OpenModelica/OpenIPSL/\"\n",
    "#GitHub Location\n",
    "GitHubOpenIPSL = \"https://github.com/marcelofcastro/OpenIPSL.git\"\n",
    "OpenIPSLPackage = \"/home/manuelnvro/dev/Gitted/NYPAModelTransformation/OpenIPSLVerification/VerificationRoutines/Dymola/OpenIPSL/OpenIPSL/package.mo\"\n",
    "OpenModelica = \"/home/manuelnvro/dev/Gitted/NYPAModelTransformation/OpenIPSLVerification/VerificationRoutines/OpenModelica/\"\n",
    "#Working Directory\n",
    "FMachinesWorkingDir = \"/home/manuelnvro/dev/Gitted/NYPAModelTransformation/OpenIPSLVerification/VerificationRoutines/OpenModelica/WorkingDir/Fault/Machines/\"\n",
    "#Load Variation Folder Locations\n",
    "LoadVariationSource = \"/home/manuelnvro/dev/Gitted/NYPAModelTransformation/OpenIPSLVerification/VerificationRoutines/OpenModelica/Scripts/LoadVariation/AuxiliaryModels/Load_variation.mo\"\n",
    "LoadVariationDestinationPath = \"/home/manuelnvro/dev/Gitted/NYPAModelTransformation/OpenIPSLVerification/VerificationRoutines/OpenModelica/OpenIPSL/OpenIPSL/Electrical/Loads/PSSE/\"\n",
    "LoadVariationDestination = \"/home/manuelnvro/dev/Gitted/NYPAModelTransformation/OpenIPSLVerification/VerificationRoutines/OpenModelica/OpenIPSL/OpenIPSL/Electrical/Loads/PSSE/Load_variation.mo\"\n",
    "# Power Fault Folder Locations\n",
    "PowerFaultSource = \"/home/manuelnvro/dev/Gitted/NYPAModelTransformation/OpenIPSLVerification/VerificationRoutines/OpenModelica/Scripts/LoadVariation/AuxiliaryModels/PwFault.mo\"\n",
    "PowerFaultDestinationPath = \"/home/manuelnvro/dev/Gitted/NYPAModelTransformation/OpenIPSLVerification/VerificationRoutines/OpenModelica/OpenIPSL/OpenIPSL/Electrical/Events/\"\n",
    "PowerFaultDestination = \"/home/manuelnvro/dev/Gitted/NYPAModelTransformation/OpenIPSLVerification/VerificationRoutines/OpenModelica/OpenIPSL/OpenIPSL/Electrical/Events/PwFault.mo\""
   ]
  },
  {
   "cell_type": "code",
   "execution_count": 29,
   "metadata": {},
   "outputs": [
    {
     "name": "stdout",
     "output_type": "stream",
     "text": [
      "OpenModelica 1.13.0\n",
      "Open Modelica Simulation Start...\n"
     ]
    }
   ],
   "source": [
    "print(omc.sendExpression(\"getVersion()\"))\n",
    "print(\"Open Modelica Simulation Start...\")"
   ]
  },
  {
   "cell_type": "code",
   "execution_count": null,
   "metadata": {},
   "outputs": [],
   "source": [
    "#Deleting old OpenIPSL library version\n",
    "shutil.rmtree(f\"\"+OpenIPSL+\"\")\n",
    "#Pulling latest OpenIPSL library version\n",
    "print('Pulling latest OpenIPSL library version...\\n')\n",
    "git.Git(\"\"+OpenModelica+\"\").clone(\"\"+GitHubOpenIPSL+\"\")"
   ]
  },
  {
   "cell_type": "code",
   "execution_count": null,
   "metadata": {},
   "outputs": [],
   "source": [
    "#Creation of matrix with names, paths and variables\n",
    "machines = { 'names' : [\"GENROU\",\"GENSAL\", \"GENCLS\", \"GENROE\", \"GENSAE\", \"CSVGN1\"],\n",
    "            'path' : [\"OpenIPSL.Examples.Machines.PSSE.GENROU\", \"OpenIPSL.Examples.Machines.PSSE.GENSAL\",\n",
    "                      \"OpenIPSL.Examples.Machines.PSSE.GENCLS\", \"OpenIPSL.Examples.Machines.PSSE.GENROE\", \n",
    "                      \"OpenIPSL.Examples.Machines.PSSE.GENSAE\", \"OpenIPSL.Examples.Machines.PSSE.CSVGN1\"],\n",
    "            'delta' : ['gENROU.delta', 'gENSAL.delta', 'gENCLS2.delta', 'gENROE.delta', 'gENSAE.delta', 'cSVGN1.delta'],\n",
    "           'pelec' : ['gENROU.PELEC', 'gENSAL.PELEC', 'gENCLS2.P', 'gENROE.PELEC', 'gENSAE.PELEC', 'cSVGN1.PELEC'],\n",
    "           'speed' : ['gENROU.SPEED', 'gENSAL.SPEED', 'gENCLS2.omega', 'gENROE.SPEED', 'gENSAE.SPEED', 'cSVGN1.SPEED'],\n",
    "           'pmech' : ['gENROU.PMECH', 'gENSAL.PMECH', 'gENCLS2.P', 'gENROE.PMECH', 'gENSAE.PMECH', 'cSVGN1.PMECH']}"
   ]
  },
  {
   "cell_type": "code",
   "execution_count": 30,
   "metadata": {},
   "outputs": [],
   "source": [
    "#Delete old results\n",
    "shutil.rmtree(''+FMachinesWorkingDir+'')\n",
    "#Create Exciters folder\n",
    "os.makedirs(''+FMachinesWorkingDir+'')\n",
    "os.chdir(f\"\"+FMachinesWorkingDir+\"\")\n",
    "for machineNumber, machineName in enumerate(machines['names']):\n",
    "    os.makedirs(f'{machineName}')"
   ]
  },
  {
   "cell_type": "code",
   "execution_count": 33,
   "metadata": {},
   "outputs": [
    {
     "name": "stdout",
     "output_type": "stream",
     "text": [
      "Fault GENROU Simulation Start...\n"
     ]
    },
    {
     "ename": "KeyboardInterrupt",
     "evalue": "",
     "output_type": "error",
     "traceback": [
      "\u001b[0;31m---------------------------------------------------------------------------\u001b[0m",
      "\u001b[0;31mKeyboardInterrupt\u001b[0m                         Traceback (most recent call last)",
      "\u001b[0;32m<ipython-input-33-a947fa7f31ed>\u001b[0m in \u001b[0;36m<module>\u001b[0;34m\u001b[0m\n\u001b[1;32m      5\u001b[0m     \u001b[0momc\u001b[0m\u001b[0;34m.\u001b[0m\u001b[0msendExpression\u001b[0m\u001b[0;34m(\u001b[0m\u001b[0;34mf\"loadFile(\\\"{OpenIPSLPackage}\\\")\"\u001b[0m\u001b[0;34m)\u001b[0m\u001b[0;34m\u001b[0m\u001b[0;34m\u001b[0m\u001b[0m\n\u001b[1;32m      6\u001b[0m     \u001b[0momc\u001b[0m\u001b[0;34m.\u001b[0m\u001b[0msendExpression\u001b[0m\u001b[0;34m(\u001b[0m\u001b[0;34m\"instantiateModel(OpenIPSL)\"\u001b[0m\u001b[0;34m)\u001b[0m\u001b[0;34m\u001b[0m\u001b[0;34m\u001b[0m\u001b[0m\n\u001b[0;32m----> 7\u001b[0;31m     \u001b[0momc\u001b[0m\u001b[0;34m.\u001b[0m\u001b[0msendExpression\u001b[0m\u001b[0;34m(\u001b[0m\u001b[0;34mf\"simulate(OpenIPSL.Examples.Machines.PSSE.{machineName}, stopTime=10.0,method=\\\"rungekutta\\\",numberOfIntervals=5000,tolerance=1e-06)\"\u001b[0m\u001b[0;34m)\u001b[0m\u001b[0;34m\u001b[0m\u001b[0;34m\u001b[0m\u001b[0m\n\u001b[0m\u001b[1;32m      8\u001b[0m     \u001b[0mprint\u001b[0m\u001b[0;34m(\u001b[0m\u001b[0;34mf\"{machineName} Simulation Finished...\"\u001b[0m\u001b[0;34m)\u001b[0m\u001b[0;34m\u001b[0m\u001b[0;34m\u001b[0m\u001b[0m\n\u001b[1;32m      9\u001b[0m     \u001b[0mprint\u001b[0m\u001b[0;34m(\u001b[0m\u001b[0;34m\".csv Writing Start...\"\u001b[0m\u001b[0;34m)\u001b[0m\u001b[0;34m\u001b[0m\u001b[0;34m\u001b[0m\u001b[0m\n",
      "\u001b[0;32m~/anaconda3/lib/python3.7/site-packages/OMPython/__init__.py\u001b[0m in \u001b[0;36msendExpression\u001b[0;34m(self, command, parsed)\u001b[0m\n\u001b[1;32m    624\u001b[0m                 \u001b[0;32mreturn\u001b[0m \u001b[0;32mNone\u001b[0m\u001b[0;34m\u001b[0m\u001b[0;34m\u001b[0m\u001b[0m\n\u001b[1;32m    625\u001b[0m             \u001b[0;32melse\u001b[0m\u001b[0;34m:\u001b[0m\u001b[0;34m\u001b[0m\u001b[0;34m\u001b[0m\u001b[0m\n\u001b[0;32m--> 626\u001b[0;31m                 \u001b[0mresult\u001b[0m \u001b[0;34m=\u001b[0m \u001b[0mself\u001b[0m\u001b[0;34m.\u001b[0m\u001b[0m_omc\u001b[0m\u001b[0;34m.\u001b[0m\u001b[0mrecv_string\u001b[0m\u001b[0;34m(\u001b[0m\u001b[0;34m)\u001b[0m\u001b[0;34m\u001b[0m\u001b[0;34m\u001b[0m\u001b[0m\n\u001b[0m\u001b[1;32m    627\u001b[0m                 \u001b[0;32mif\u001b[0m \u001b[0mparsed\u001b[0m \u001b[0;32mis\u001b[0m \u001b[0;32mTrue\u001b[0m\u001b[0;34m:\u001b[0m\u001b[0;34m\u001b[0m\u001b[0;34m\u001b[0m\u001b[0m\n\u001b[1;32m    628\u001b[0m                     \u001b[0manswer\u001b[0m \u001b[0;34m=\u001b[0m \u001b[0mOMTypedParser\u001b[0m\u001b[0;34m.\u001b[0m\u001b[0mparseString\u001b[0m\u001b[0;34m(\u001b[0m\u001b[0mresult\u001b[0m\u001b[0;34m)\u001b[0m\u001b[0;34m\u001b[0m\u001b[0;34m\u001b[0m\u001b[0m\n",
      "\u001b[0;32m~/anaconda3/lib/python3.7/site-packages/zmq/sugar/socket.py\u001b[0m in \u001b[0;36mrecv_string\u001b[0;34m(self, flags, encoding)\u001b[0m\n\u001b[1;32m    590\u001b[0m             \u001b[0;32mfor\u001b[0m \u001b[0many\u001b[0m \u001b[0mof\u001b[0m \u001b[0mthe\u001b[0m \u001b[0mreasons\u001b[0m \u001b[0;34m:\u001b[0m\u001b[0mfunc\u001b[0m\u001b[0;34m:\u001b[0m\u001b[0;31m`\u001b[0m\u001b[0;34m~\u001b[0m\u001b[0mSocket\u001b[0m\u001b[0;34m.\u001b[0m\u001b[0mrecv\u001b[0m\u001b[0;31m`\u001b[0m \u001b[0mmight\u001b[0m \u001b[0mfail\u001b[0m\u001b[0;34m\u001b[0m\u001b[0;34m\u001b[0m\u001b[0m\n\u001b[1;32m    591\u001b[0m         \"\"\"\n\u001b[0;32m--> 592\u001b[0;31m         \u001b[0mmsg\u001b[0m \u001b[0;34m=\u001b[0m \u001b[0mself\u001b[0m\u001b[0;34m.\u001b[0m\u001b[0mrecv\u001b[0m\u001b[0;34m(\u001b[0m\u001b[0mflags\u001b[0m\u001b[0;34m=\u001b[0m\u001b[0mflags\u001b[0m\u001b[0;34m)\u001b[0m\u001b[0;34m\u001b[0m\u001b[0;34m\u001b[0m\u001b[0m\n\u001b[0m\u001b[1;32m    593\u001b[0m         \u001b[0;32mreturn\u001b[0m \u001b[0mself\u001b[0m\u001b[0;34m.\u001b[0m\u001b[0m_deserialize\u001b[0m\u001b[0;34m(\u001b[0m\u001b[0mmsg\u001b[0m\u001b[0;34m,\u001b[0m \u001b[0;32mlambda\u001b[0m \u001b[0mbuf\u001b[0m\u001b[0;34m:\u001b[0m \u001b[0mbuf\u001b[0m\u001b[0;34m.\u001b[0m\u001b[0mdecode\u001b[0m\u001b[0;34m(\u001b[0m\u001b[0mencoding\u001b[0m\u001b[0;34m)\u001b[0m\u001b[0;34m)\u001b[0m\u001b[0;34m\u001b[0m\u001b[0;34m\u001b[0m\u001b[0m\n\u001b[1;32m    594\u001b[0m \u001b[0;34m\u001b[0m\u001b[0m\n",
      "\u001b[0;32mzmq/backend/cython/socket.pyx\u001b[0m in \u001b[0;36mzmq.backend.cython.socket.Socket.recv\u001b[0;34m()\u001b[0m\n",
      "\u001b[0;32mzmq/backend/cython/socket.pyx\u001b[0m in \u001b[0;36mzmq.backend.cython.socket.Socket.recv\u001b[0;34m()\u001b[0m\n",
      "\u001b[0;32mzmq/backend/cython/socket.pyx\u001b[0m in \u001b[0;36mzmq.backend.cython.socket._recv_copy\u001b[0;34m()\u001b[0m\n",
      "\u001b[0;32m~/anaconda3/lib/python3.7/site-packages/zmq/backend/cython/checkrc.pxd\u001b[0m in \u001b[0;36mzmq.backend.cython.checkrc._check_rc\u001b[0;34m()\u001b[0m\n",
      "\u001b[0;31mKeyboardInterrupt\u001b[0m: "
     ]
    }
   ],
   "source": [
    "#For loop that will iterate between machines, simulate, and create the .csv file\n",
    "for machineNumber, machineName in enumerate(machines['names']):\n",
    "    print(f\"Fault {machineName} Simulation Start...\")\n",
    "    omc.sendExpression(f\"cd(\\\"{FMachinesWorkingDir}\" + machineName +\"\\\")\")\n",
    "    omc.sendExpression(f\"loadFile(\\\"/home/manuelnvro/dev/Gitted/OpenIPSL/OpenIPSL/package.mo\\\")\")\n",
    "    omc.sendExpression(\"instantiateModel(OpenIPSL)\")\n",
    "    omc.sendExpression(f\"simulate(OpenIPSL.Examples.Machines.PSSE.{machineName}, stopTime=10.0,method=\\\"rungekutta\\\",numberOfIntervals=5000,tolerance=1e-06)\")\n",
    "    print(f\"{machineName} Simulation Finished...\")\n",
    "    print(\".csv Writing Start...\")\n",
    "    #Selecting Result File\n",
    "    try:\n",
    "        sim = SimRes(\"\"+FMachinesWorkingDir+f\"{machineName}/OpenIPSL.Examples.Machines.PSSE.{machineName}_res.mat\")\n",
    "        #Selecting Variables\n",
    "        variables = ['Time', machines['delta'][machineNumber], machines['pelec'][machineNumber], machines['pmech'][machineNumber], machines['speed'][machineNumber], 'GEN1.V', 'LOAD.V', 'GEN2.V', 'FAULT.V' ]\n",
    "        df_variables = pd.DataFrame([], columns = variables)\n",
    "        for var in variables:\n",
    "            df_variables.drop(var, axis = 1, inplace = True)\n",
    "            #Change from Radians to Degrees\n",
    "            if var == machines['delta'][machineNumber]:\n",
    "                df_variables[var] = np.array(sim[var].values()*(180/np.pi))    \n",
    "            else:\n",
    "                #check if a variable does not change during the simulation and then and make a ones array and multiply by the value\n",
    "                try:\n",
    "                    df_variables[var] = np.array(sim[var].values())\n",
    "                except:\n",
    "                    first = np.array(sim[var].values())\n",
    "                    df_variables[var] = first[0] * np.ones(df_variables['Time'].size)\n",
    "    except:\n",
    "        print(f\"{machineName} simulation error or model not found...\")\n",
    "    print(f\"{machineName} Variables OK...\")\n",
    "    #Changing current directory\n",
    "    os.chdir(f\"\"+FMachinesWorkingDir+\"\")\n",
    "    df_variables.to_csv(f'{machineName}.csv', index = False)          \n",
    "    print(f\"{machineName} Write OK...\")       \n",
    "    try:\n",
    "        shutil.rmtree(\"\"+FMachinesWorkingDir+f\"{machineName}/\")\n",
    "        print(\"Delete OK...\\n\")\n",
    "    except:\n",
    "        print(\"Error...\\n\")          \n",
    "print('Fault Machine Examples Open Modelica Simulation OK...')"
   ]
  },
  {
   "cell_type": "code",
   "execution_count": null,
   "metadata": {},
   "outputs": [],
   "source": [
    "try:\n",
    "    print(\"Closing Open Modelica...\")\n",
    "    omc.sendExpression(\"quit()\")\n",
    "    print(\"OpenModelica Close OK...\")\n",
    "except:\n",
    "    print(\"Open Modelica closing error...\")"
   ]
  }
 ],
 "metadata": {
  "kernelspec": {
   "display_name": "Python 3",
   "language": "python",
   "name": "python3"
  },
  "language_info": {
   "codemirror_mode": {
    "name": "ipython",
    "version": 3
   },
   "file_extension": ".py",
   "mimetype": "text/x-python",
   "name": "python",
   "nbconvert_exporter": "python",
   "pygments_lexer": "ipython3",
   "version": "3.7.4"
  }
 },
 "nbformat": 4,
 "nbformat_minor": 2
}
