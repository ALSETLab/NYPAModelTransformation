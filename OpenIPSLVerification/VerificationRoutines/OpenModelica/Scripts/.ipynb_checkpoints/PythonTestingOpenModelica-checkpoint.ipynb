{
 "cells": [
  {
   "cell_type": "code",
   "execution_count": 17,
   "metadata": {},
   "outputs": [
    {
     "name": "stderr",
     "output_type": "stream",
     "text": [
      "2019-11-06 10:33:11,514 - OMPython - INFO - OMC Server is up and running at file:////tmp/openmodelica.manuelnvro.port.ff827a722359404a8920f08f0b7fd0c2 pid=12108\n"
     ]
    }
   ],
   "source": [
    "from OMPython import OMCSessionZMQ\n",
    "omc = OMCSessionZMQ()\n",
    "from modelicares import SimRes\n",
    "import pandas as pd\n",
    "import numpy as np\n",
    "import os"
   ]
  },
  {
   "cell_type": "code",
   "execution_count": null,
   "metadata": {},
   "outputs": [],
   "source": [
    "#This is intended to be used in the manuelnvro Dell using Dymola 2020."
   ]
  },
  {
   "cell_type": "code",
   "execution_count": 18,
   "metadata": {},
   "outputs": [
    {
     "name": "stdout",
     "output_type": "stream",
     "text": [
      "OpenModelica 1.13.0\n"
     ]
    }
   ],
   "source": [
    "print(omc.sendExpression(\"getVersion()\"))\n",
    "print(\"OpenModelica Simulation Start...\")"
   ]
  },
  {
   "cell_type": "code",
   "execution_count": 19,
   "metadata": {},
   "outputs": [
    {
     "data": {
      "text/plain": [
       "'/home/manuelnvro/dev/Gitted/PythonTesting/WorkingDir/OpenModelica'"
      ]
     },
     "execution_count": 19,
     "metadata": {},
     "output_type": "execute_result"
    }
   ],
   "source": [
    "#Set WorkigDir\n",
    "omc.sendExpression(\"cd(\\\"/home/manuelnvro/dev/Gitted/PythonTesting/WorkingDir/OpenModelica/\\\")\") "
   ]
  },
  {
   "cell_type": "code",
   "execution_count": 20,
   "metadata": {},
   "outputs": [
    {
     "data": {
      "text/plain": [
       "True"
      ]
     },
     "execution_count": 20,
     "metadata": {},
     "output_type": "execute_result"
    }
   ],
   "source": [
    "#Loading Package\n",
    "omc.sendExpression(\"loadFile(\\\"/home/manuelnvro/dev/Gitted/OpenIPSL/OpenIPSL/package.mo\\\")\")"
   ]
  },
  {
   "cell_type": "code",
   "execution_count": 21,
   "metadata": {},
   "outputs": [
    {
     "data": {
      "text/plain": [
       "'class OpenIPSL \"Open-Instance Power System Library\"\\nend OpenIPSL;\\n'"
      ]
     },
     "execution_count": 21,
     "metadata": {},
     "output_type": "execute_result"
    }
   ],
   "source": [
    "#Package Instantiation\n",
    "omc.sendExpression(\"instantiateModel(OpenIPSL)\")"
   ]
  },
  {
   "cell_type": "code",
   "execution_count": 22,
   "metadata": {
    "scrolled": true
   },
   "outputs": [
    {
     "data": {
      "text/plain": [
       "{'resultFile': '/home/manuelnvro/dev/Gitted/PythonTesting/WorkingDir/OpenModelica/OpenIPSL.Examples.Controls.PSSE.ES.EXAC1_res.mat',\n",
       " 'simulationOptions': \"startTime = 0.0, stopTime = 10.0, numberOfIntervals = 5000, tolerance = 1e-06, method = 'dassl', fileNamePrefix = 'OpenIPSL.Examples.Controls.PSSE.ES.EXAC1', options = '', outputFormat = 'mat', variableFilter = '.*', cflags = '', simflags = ''\",\n",
       " 'messages': 'LOG_SUCCESS       | info    | The initialization finished successfully without homotopy method.\\nLOG_SUCCESS       | info    | The simulation finished successfully.\\n',\n",
       " 'timeFrontend': 0.425235553,\n",
       " 'timeBackend': 0.147601326,\n",
       " 'timeSimCode': 0.04343503999999998,\n",
       " 'timeTemplates': 0.10505553,\n",
       " 'timeCompile': 0.909866338,\n",
       " 'timeSimulation': 0.351083257,\n",
       " 'timeTotal': 1.982410891}"
      ]
     },
     "execution_count": 22,
     "metadata": {},
     "output_type": "execute_result"
    }
   ],
   "source": [
    "#OpenModelica Simulation\n",
    "omc.sendExpression(\"simulate(OpenIPSL.Examples.Controls.PSSE.ES.EXAC1, stopTime=10.0, numberOfIntervals=5000)\")"
   ]
  },
  {
   "cell_type": "code",
   "execution_count": 23,
   "metadata": {},
   "outputs": [
    {
     "name": "stdout",
     "output_type": "stream",
     "text": [
      "Vars OK\n",
      "Write OK\n"
     ]
    }
   ],
   "source": [
    "print(\"Simulation OK\")\n",
    "#Selecting result file\n",
    "sim = SimRes(\"/home/manuelnvro/dev/Gitted/PythonTesting/WorkingDir/OpenModelica/OpenIPSL.Examples.Controls.PSSE.ES.EXAC1_res.mat\")\n",
    "#Selecting Variables\n",
    "variables = ['Time', 'gENROE.delta','gENROE.PELEC', 'eXAC1_1.EFD','gENROE.SPEED', 'GEN1.V', 'LOAD.V', 'GEN2.V', 'FAULT.V' ]\n",
    "df_variables = pd.DataFrame([], columns = variables)\n",
    "for var in variables:\n",
    "    df_variables.drop(var, axis = 1, inplace = True)\n",
    "    df_variables[var] = np.array(sim[var].values())\n",
    "print(\"Vars OK\")\n",
    "#Changing current directory\n",
    "os.chdir(\"/home/manuelnvro/dev/Gitted/PythonTesting/ResultData/\")  \n",
    "#Creating .csv house\n",
    "df_variables.to_csv('dataOpenModelica.csv', index = False)\n",
    "print(\"Write OK\")\n"
   ]
  }
 ],
 "metadata": {
  "kernelspec": {
   "display_name": "Python 3",
   "language": "python",
   "name": "python3"
  },
  "language_info": {
   "codemirror_mode": {
    "name": "ipython",
    "version": 3
   },
   "file_extension": ".py",
   "mimetype": "text/x-python",
   "name": "python",
   "nbconvert_exporter": "python",
   "pygments_lexer": "ipython3",
   "version": "3.7.4"
  }
 },
 "nbformat": 4,
 "nbformat_minor": 2
}
