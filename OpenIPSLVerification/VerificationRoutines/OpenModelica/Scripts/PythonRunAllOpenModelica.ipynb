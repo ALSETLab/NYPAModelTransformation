{
 "cells": [
  {
   "cell_type": "code",
   "execution_count": 7,
   "metadata": {},
   "outputs": [],
   "source": [
    "from OMPython import OMCSessionZMQ\n",
    "omc = OMCSessionZMQ()\n",
    "from modelicares import SimRes\n",
    "import pandas as pd\n",
    "import numpy as np\n",
    "import os\n",
    "import shutil\n",
    "import git"
   ]
  },
  {
   "cell_type": "code",
   "execution_count": 9,
   "metadata": {},
   "outputs": [],
   "source": [
    "#This is intended to be used in the manuelnvro Dell using Dymola 2020\n",
    "Fault = \"/home/manuelnvro/dev/Gitted/NYPAModelTransformation/OpenIPSLVerification/VerificationRoutines/OpenModelica/Scripts/Fault/\"\n",
    "LoadVariation = \"/home/manuelnvro/dev/Gitted/NYPAModelTransformation/OpenIPSLVerification/VerificationRoutines/OpenModelica/Scripts/LoadVariation/\"\n",
    "ReferenceStep = \"/home/manuelnvro/dev/Gitted/NYPAModelTransformation/OpenIPSLVerification/VerificationRoutines/OpenModelica/Scripts/ReferenceStep/\""
   ]
  },
  {
   "cell_type": "code",
   "execution_count": 1,
   "metadata": {},
   "outputs": [
    {
     "name": "stdout",
     "output_type": "stream",
     "text": [
      "---------------------------------------------------------- Open Fault Testing ----------------------------------------------------------\n",
      "Error in Fault Testing...\n"
     ]
    }
   ],
   "source": [
    "#Run Exciters\n",
    "print('---------------------------------------------------------- Open Modelica Fault Testing ----------------------------------------------------------')\n",
    "try:\n",
    "    os.chdir(f\"\"+Fault+\"\")\n",
    "    exec(open(\"FaultRunAllOpenModelica.py\").read())\n",
    "    print('Fault Testing OK...')\n",
    "except:\n",
    "    print('Error in Fault Testing...')"
   ]
  },
  {
   "cell_type": "code",
   "execution_count": 3,
   "metadata": {},
   "outputs": [
    {
     "name": "stdout",
     "output_type": "stream",
     "text": [
      "---------------------------------------------------------- Machines Testing ----------------------------------------------------------\n",
      "Error in Exciters Testing...\n"
     ]
    }
   ],
   "source": [
    "#Run Machines\n",
    "print('---------------------------------------------------------- Open Modelica Load Variation Testing ----------------------------------------------------------')\n",
    "try:\n",
    "    os.chdir(f\"\"+LoadVariation+\"\")\n",
    "    exec(open(\"LoadVariationRunAllOpenModelica.py\").read())\n",
    "    print('Load Variation Testing OK...')\n",
    "except:\n",
    "    print('Error in Load Variation Testing...')\n",
    "\n",
    "#Run Exciters\n",
    "print('---------------------------------------------------------- Open Modelica Reference Step Testing ----------------------------------------------------------')\n",
    "try:\n",
    "    os.chdir(f\"\"+ReferenceStep+\"\")\n",
    "    exec(open(\"ReferenceStepRunAllOpenModelica.py\").read())\n",
    "    print('Reference Step Testing OK...')\n",
    "except:\n",
    "    print('Error in Reference Step Testing...')"
   ]
  },
  {
   "cell_type": "code",
   "execution_count": null,
   "metadata": {},
   "outputs": [],
   "source": [
    "print('---------------------------------------------------------- End of All Open Modelica Simulations ----------------------------------------------------------')"
   ]
  }
 ],
 "metadata": {
  "kernelspec": {
   "display_name": "Python 3",
   "language": "python",
   "name": "python3"
  },
  "language_info": {
   "codemirror_mode": {
    "name": "ipython",
    "version": 3
   },
   "file_extension": ".py",
   "mimetype": "text/x-python",
   "name": "python",
   "nbconvert_exporter": "python",
   "pygments_lexer": "ipython3",
   "version": "3.7.4"
  }
 },
 "nbformat": 4,
 "nbformat_minor": 2
}
