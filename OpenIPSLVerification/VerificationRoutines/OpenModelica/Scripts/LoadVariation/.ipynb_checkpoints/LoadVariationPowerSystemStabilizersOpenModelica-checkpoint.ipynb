{
 "cells": [
  {
   "cell_type": "code",
   "execution_count": 11,
   "metadata": {},
   "outputs": [
    {
     "name": "stderr",
     "output_type": "stream",
     "text": [
      "2020-04-10 20:38:42,582 - OMPython - INFO - OMC Server is up and running at file:////tmp/openmodelica.manuelnvro.port.afc31d16c7b3496d88d02440fadc0d7e pid=31398\n"
     ]
    }
   ],
   "source": [
    "from OMPython import OMCSessionZMQ\n",
    "omc = OMCSessionZMQ()\n",
    "from modelicares import SimRes\n",
    "import pandas as pd\n",
    "import numpy as np\n",
    "import os\n",
    "import shutil\n",
    "import git"
   ]
  },
  {
   "cell_type": "code",
   "execution_count": 13,
   "metadata": {},
   "outputs": [],
   "source": [
    "#By default, the code runs in manuelnvro Dell using Dymola 2020. To change the computer change the following folders.\n",
    "#OpenIPSL Location\n",
    "OpenIPSL = \"/home/manuelnvro/dev/Gitted/NYPAModelTransformation/OpenIPSLVerification/VerificationRoutines/OpenModelica/OpenIPSL/\"\n",
    "#GitHub Location\n",
    "GitHubOpenIPSL = \"https://github.com/marcelofcastro/OpenIPSL.git\"\n",
    "OpenIPSLPackage = \"/home/manuelnvro/dev/Gitted/NYPAModelTransformation/OpenIPSLVerification/VerificationRoutines/OpenModelica/OpenIPSL/OpenIPSL/package.mo\"\n",
    "OpenModelica = \"/home/manuelnvro/dev/Gitted/NYPAModelTransformation/OpenIPSLVerification/VerificationRoutines/OpenModelica/\"\n",
    "#Working Directory\n",
    "LVPowerSystemStabilizersWorkingDir = \"/home/manuelnvro/dev/Gitted/NYPAModelTransformation/OpenIPSLVerification/VerificationRoutines/OpenModelica/WorkingDir/LoadVariation/PowerSystemStabilizers/\"\n",
    "#Load Variation Folder Locations\n",
    "LoadVariationSource = \"/home/manuelnvro/dev/Gitted/NYPAModelTransformation/OpenIPSLVerification/VerificationRoutines/OpenModelica/Scripts/LoadVariation/AuxiliaryModels/Load_variation.mo\"\n",
    "LoadVariationDestinationPath = \"/home/manuelnvro/dev/Gitted/NYPAModelTransformation/OpenIPSLVerification/VerificationRoutines/OpenModelica/OpenIPSL/OpenIPSL/Electrical/Loads/PSSE/\"\n",
    "LoadVariationDestination = \"/home/manuelnvro/dev/Gitted/NYPAModelTransformation/OpenIPSLVerification/VerificationRoutines/OpenModelica/OpenIPSL/OpenIPSL/Electrical/Loads/PSSE/Load_variation.mo\"\n",
    "# Power Fault Folder Locations\n",
    "PowerFaultSource = \"/home/manuelnvro/dev/Gitted/NYPAModelTransformation/OpenIPSLVerification/VerificationRoutines/OpenModelica/Scripts/LoadVariation/AuxiliaryModels/PwFault.mo\"\n",
    "PowerFaultDestinationPath = \"/home/manuelnvro/dev/Gitted/NYPAModelTransformation/OpenIPSLVerification/VerificationRoutines/OpenModelica/OpenIPSL/OpenIPSL/Electrical/Events/\"\n",
    "PowerFaultDestination = \"/home/manuelnvro/dev/Gitted/NYPAModelTransformation/OpenIPSLVerification/VerificationRoutines/OpenModelica/OpenIPSL/OpenIPSL/Electrical/Events/PwFault.mo\"\n",
    "# SMIB Partial Folder Location\n",
    "SMIBPartialSource = \"/home/manuelnvro/dev/Gitted/NYPAModelTransformation/OpenIPSLVerification/VerificationRoutines/OpenModelica/Scripts/LoadVariation/AuxiliaryModels/SMIBpartial.mo\"\n",
    "SMIBPartialDestinationPath = \"/home/manuelnvro/dev/Gitted/NYPAModelTransformation/OpenIPSLVerification/VerificationRoutines/OpenModelica/OpenIPSL/OpenIPSL/Examples/\"\n",
    "SMIBPartialDestination = \"/home/manuelnvro/dev/Gitted/NYPAModelTransformation/OpenIPSLVerification/VerificationRoutines/OpenModelica/OpenIPSL/OpenIPSL/Examples/SMIBpartial.mo\"\n"
   ]
  },
  {
   "cell_type": "code",
   "execution_count": 14,
   "metadata": {},
   "outputs": [
    {
     "name": "stdout",
     "output_type": "stream",
     "text": [
      "OpenModelica 1.16.0~dev-268-gc5be668\n",
      "Open Modelica Power System Stabilizers Simulation Start...\n"
     ]
    }
   ],
   "source": [
    "print(omc.sendExpression(\"getVersion()\"))\n",
    "print(\"Open Modelica Power System Stabilizers Simulation Start...\")"
   ]
  },
  {
   "cell_type": "code",
   "execution_count": 15,
   "metadata": {},
   "outputs": [
    {
     "name": "stdout",
     "output_type": "stream",
     "text": [
      "Pulling latest OpenIPSL library version...\n",
      "\n"
     ]
    },
    {
     "data": {
      "text/plain": [
       "''"
      ]
     },
     "execution_count": 15,
     "metadata": {},
     "output_type": "execute_result"
    }
   ],
   "source": [
    "#Deleting old OpenIPSL library version\n",
    "shutil.rmtree(f\"\"+OpenIPSL+\"\")\n",
    "#Pulling latest OpenIPSL library version\n",
    "print('Pulling latest OpenIPSL library version...\\n')\n",
    "git.Git(\"\"+OpenModelica+\"\").clone(\"\"+GitHubOpenIPSL+\"\")"
   ]
  },
  {
   "cell_type": "code",
   "execution_count": 16,
   "metadata": {},
   "outputs": [
    {
     "name": "stdout",
     "output_type": "stream",
     "text": [
      "Deleting Auxiliary Models\n",
      "Adding Auxiliary models...\n",
      "Load Variation Open Modelica Power System Stabilizers Simulation Start...\n",
      "\n"
     ]
    }
   ],
   "source": [
    "#Adding Auxiliary Files\n",
    "try:\n",
    "    print('Deleting Auxiliary Models')\n",
    "    os.chdir(SMIBPartialDestinationPath)\n",
    "    os.remove(\"SMIBpartial.mo\")\n",
    "except: \n",
    "    print('Error Deleting Auxiliar Models...')\n",
    "try:\n",
    "    print('Adding Auxiliary models...')\n",
    "    os.system('cp '+SMIBPartialSource+' '+SMIBPartialDestination)\n",
    "except:\n",
    "    print('Error Adding Auxiliary Models...\\n') \n",
    "print(\"Load Variation Open Modelica Power System Stabilizers Simulation Start...\\n\")"
   ]
  },
  {
   "cell_type": "code",
   "execution_count": 17,
   "metadata": {},
   "outputs": [],
   "source": [
    "#Creation of matrix with names, paths and variables\n",
    "psss = { 'names' : [\"PSS2A\",\"PSS2B\"],\n",
    "            'path' : [\"OpenIPSL.Examples.Controls.PSSE.PSS.PSS2A\",\"OpenIPSL.Examples.Controls.PSSE.PSS.PSS2B\"],\n",
    "            'delta' : ['gENROE.delta'],\n",
    "           'pelec' : ['gENROE.PELEC'],\n",
    "            'pmech' : ['gENROE.PMECH'],\n",
    "            'speed': ['gENROE.SPEED'],\n",
    "           'vothsg' : [\"pSS2A.VOTHSG\",\"pSS2B.VOTHSG\"]}"
   ]
  },
  {
   "cell_type": "code",
   "execution_count": 18,
   "metadata": {},
   "outputs": [],
   "source": [
    "#Delete old results\n",
    "shutil.rmtree(''+LVPowerSystemStabilizersWorkingDir+'')\n",
    "#Create Exciters folder\n",
    "os.makedirs(''+LVPowerSystemStabilizersWorkingDir+'')\n",
    "os.chdir(f\"\"+LVPowerSystemStabilizersWorkingDir+\"\")\n",
    "for pssNumber, pssName in enumerate(psss['names']):\n",
    "    os.makedirs(f'{pssName}')"
   ]
  },
  {
   "cell_type": "code",
   "execution_count": 19,
   "metadata": {},
   "outputs": [
    {
     "name": "stdout",
     "output_type": "stream",
     "text": [
      "Load Variation PSS2A Simulation Start...\n",
      "PSS2A Simulation Finished...\n",
      ".csv Writing Start...\n",
      "Verifying if it is a GENROU model...\n",
      "Check generator model of the example model\n",
      "Delete OK...\n",
      "\n",
      "Load Variation PSS2B Simulation Start...\n",
      "PSS2B Simulation Finished...\n",
      ".csv Writing Start...\n",
      "Verifying if it is a GENROU model...\n",
      "PSS2B Variables OK...\n",
      "PSS2B Write OK...\n",
      "Delete OK...\n",
      "\n",
      "Load Variation Power System Stabilizers Examples Open Modelica Simulation OK...\n"
     ]
    }
   ],
   "source": [
    "#For loop that will iterate between machines, simulate, and create the .csv file\n",
    "for pssNumber, pssName in enumerate(psss['names']):\n",
    "    print(f\"Load Variation {pssName} Simulation Start...\")\n",
    "    try:\n",
    "        omc.sendExpression(f\"cd(\\\"{LVPowerSystemStabilizersWorkingDir}\" + pssName +\"\\\")\")\n",
    "        omc.sendExpression(f\"loadFile(\\\"{OpenIPSLPackage}\\\")\")\n",
    "        omc.sendExpression(\"instantiateModel(OpenIPSL)\")\n",
    "        omc.sendExpression(f\"simulate(OpenIPSL.Examples.Controls.PSSE.PSS.{pssName}, stopTime=10.0,method=\\\"rungekutta\\\",numberOfIntervals=5000,tolerance=1e-06)\")\n",
    "        sim = SimRes(\"\"+LVPowerSystemStabilizersWorkingDir+f\"{pssName}/OpenIPSL.Examples.Controls.PSSE.PSS.{pssName}_res.mat\")\n",
    "        print(f\"{pssName} Simulation Finished...\")\n",
    "    except:\n",
    "        print(f\"{pssName} simulation error or model not found...\")\n",
    "    try:\n",
    "        #Selecting Variables\n",
    "        print(\".csv Writing Start...\") \n",
    "        try:\n",
    "            print('Verifying if it is a GENROU model...')\n",
    "            #Selecting Variables\n",
    "            variables = ['Time', psss['delta'][0], psss['pelec'][0], psss['pmech'][0], psss['speed'][0], psss['vothsg'][pssNumber], 'GEN1.V', 'LOAD.V', 'GEN2.V', 'FAULT.V' ]\n",
    "            df_variables = pd.DataFrame([], columns = variables)\n",
    "            for var in variables:\n",
    "                df_variables.drop(var, axis = 1, inplace = True)\n",
    "                #Change from Radians to Degrees\n",
    "                if var == psss['delta'][0]:\n",
    "                    df_variables[var] = np.array(sim[var].values()*(180/np.pi))    \n",
    "                else:\n",
    "                    #check if a variable does not change during the simulation and then and make a ones array and multiply by the value\n",
    "                    try:\n",
    "                        df_variables[var] = np.array(sim[var].values())\n",
    "                    except:\n",
    "                        first = np.array(sim[var].values())\n",
    "                        df_variables[var] = first[0] * np.ones(df_variables['Time'].size)\n",
    "            print(f\"{pssName} Variables OK...\")\n",
    "            #Changing current directory\n",
    "            os.chdir(f\"\"+LVPowerSystemStabilizersWorkingDir+\"\")\n",
    "            df_variables.to_csv(f'{pssName}.csv', index = False)          \n",
    "            print(f\"{pssName} Write OK...\")\n",
    "        except:\n",
    "            print('Check generator model of the example model')\n",
    "    except:\n",
    "        print(f\"{pssName} variable error...\\n\")\n",
    "    shutil.rmtree(\"\"+LVPowerSystemStabilizersWorkingDir+f\"{pssName}/\")\n",
    "    print(\"Delete OK...\\n\")        \n",
    "print('Load Variation Power System Stabilizers Examples Open Modelica Simulation OK...')"
   ]
  },
  {
   "cell_type": "code",
   "execution_count": null,
   "metadata": {},
   "outputs": [],
   "source": [
    "try:\n",
    "    print(\"Closing Open Modelica...\")\n",
    "    omc.sendExpression(\"quit()\")\n",
    "    print(\"OpenModelica Close OK...\")\n",
    "except:\n",
    "    print(\"Open Modelica closing error...\")"
   ]
  }
 ],
 "metadata": {
  "kernelspec": {
   "display_name": "Python 3",
   "language": "python",
   "name": "python3"
  },
  "language_info": {
   "codemirror_mode": {
    "name": "ipython",
    "version": 3
   },
   "file_extension": ".py",
   "mimetype": "text/x-python",
   "name": "python",
   "nbconvert_exporter": "python",
   "pygments_lexer": "ipython3",
   "version": "3.7.4"
  }
 },
 "nbformat": 4,
 "nbformat_minor": 2
}
