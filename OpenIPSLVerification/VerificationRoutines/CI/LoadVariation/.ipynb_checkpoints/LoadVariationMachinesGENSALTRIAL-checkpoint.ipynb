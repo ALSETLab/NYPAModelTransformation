{
 "cells": [
  {
   "cell_type": "code",
   "execution_count": 1,
   "metadata": {},
   "outputs": [],
   "source": [
    "import platform\n",
    "from dymola.dymola_interface import DymolaInterface\n",
    "from dymola.dymola_exception import DymolaException\n",
    "from modelicares import SimRes\n",
    "import pandas as pd\n",
    "import numpy as np\n",
    "import os\n",
    "import shutil\n",
    "import git"
   ]
  },
  {
   "cell_type": "code",
   "execution_count": null,
   "metadata": {},
   "outputs": [],
   "source": [
    "#This is intended to be used in the manuelnvro Dell using Dymola 2020"
   ]
  },
  {
   "cell_type": "code",
   "execution_count": 2,
   "metadata": {},
   "outputs": [],
   "source": [
    "#Setting Dymola Interface\n",
    "dymola = DymolaInterface(\"/opt/dymola-2020-x86_64/bin64/dymola.sh\")"
   ]
  },
  {
   "cell_type": "code",
   "execution_count": null,
   "metadata": {},
   "outputs": [],
   "source": []
  },
  {
   "cell_type": "code",
   "execution_count": 6,
   "metadata": {},
   "outputs": [
    {
     "name": "stdout",
     "output_type": "stream",
     "text": [
      "Editing SMIB Partial Model for Load Variation Testing...\n",
      " Plotting\n",
      "2: Saving the plot\n",
      "2: Saving the plot\n"
     ]
    }
   ],
   "source": [
    "#Changing SMIB for Load Variation\n",
    "dymola.openModel(\"/home/manuelnvro/dev/Gitted/NYPAModelTransformation/OpenIPSLVerification/VerificationRoutines/Dymola/OpenIPSL/OpenIPSL/package.mo\") \n",
    "print(\"Editing SMIB Partial Model for Load Variation Testing...\")\n",
    "#dymola.openModel(\"/home/manuelnvro/dev/Gitted/NYPAModelTransformation/OpenIPSLVerification/VerificationRoutines/Dymola/OpenIPSL/OpenIPSL/Examples/Machines/PSSE/GENSAL.mo\") \n",
    "dymola.translateModel(\"OpenIPSL.Examples.Machines.PSSE.GENSAL\")\n",
    "#Get rid of the Fault\n",
    "dymola.ExecuteCommand(\"pwFault.t1 = 20;\")\n",
    "dymola.ExecuteCommand(\"pwFault.t2 = 67.15;\")\n",
    "#Adjust Load Variation\n",
    "dymola.ExecuteCommand(\"constantLoad.d_P = 0.1;\")\n",
    "dymola.ExecuteCommand(\"constantLoad.t1 = 0.5;\")\n",
    "dymola.ExecuteCommand(\"constantLoad.d_t = 2;\")\n",
    "#Verify the Change\n",
    "#dymola.cd(\"/home/manuelnvro/Desktop/ParameterChanging/\")\n",
    "result = dymola.simulateModel(\"OpenIPSL.Examples.Machines.PSSE.GENSAL\", stopTime=10.0, method=\"Rkfix2\", tolerance=1e-06, numberOfIntervals = 5000, resultFile = \"/home/manuelnvro/Desktop/ParameterChanging/\")\n",
    "if not result:\n",
    "            print(\"Simulation failed or model was not found. Below is the translation log:\\n\")\n",
    "            log = dymola.getLastErrorLog()\n",
    "            print(log)\n",
    "print(\" Plotting\")\n",
    "result2 = dymola.plot([\"pwFault.t1\",\"pwFault.t2\", \"constantLoad.d_t\"])\n",
    "#\"pwFault.t2\",\"constantLoad.d_P\", \"constantLoad.t1\", \"constantLoad.d_t\"\n",
    "if not result2:\n",
    "    print(\"2: Plot failed\")\n",
    "    log = dymola.getLastErrorLog()\n",
    "    print(log)\n",
    "print(\"2: Saving the plot\")\n",
    "result = dymola.ExportPlotAsImage(\"/home/manuelnvro/Desktop/ParameterChanging/plot.png\")\n",
    "\n",
    "result3 = dymola.plot([\"GEN1.V\"])\n",
    "if not result3:\n",
    "    print(\"2: Plot failed\")\n",
    "    log = dymola.getLastErrorLog()\n",
    "    print(log)\n",
    "print(\"2: Saving the plot\")\n",
    "result = dymola.ExportPlotAsImage(\"/home/manuelnvro/Desktop/ParameterChanging/plot2.png\")\n",
    "if not result:\n",
    "    print(\"2: Failed to save the plot\")"
   ]
  },
  {
   "cell_type": "code",
   "execution_count": null,
   "metadata": {},
   "outputs": [],
   "source": [
    "#For loop that will iterate between machines, simulate, and create the .csv file\n",
    "for machineNumber, machineName in enumerate(machines['names']):\n",
    "    try:\n",
    "        print(\"Editing SMIB Partial Model for Load Variation Testing...\")\n",
    "        dymola.openModel(\"/home/manuelnvro/dev/Gitted/NYPAModelTransformation/OpenIPSLVerification/VerificationRoutines/Dymola/OpenIPSL/OpenIPSL/Examples/SMIBPartial.mo\") \n",
    "        #Get rid of the Fault\n",
    "        dymola.ExecuteCommand(\"pwFault.t1 = 20\")\n",
    "        dymola.ExecuteCommand(\"pwFault.t2 = 20.15\")\n",
    "        #Adjust Load Variation\n",
    "        dymola.ExecuteCommand(\"constantLoad.d_P = 0.1\")\n",
    "        dymola.ExecuteCommand(\"constantLoad.t1 = 0.5\")\n",
    "        dymola.ExecuteCommand(\"constantLoad.d_t = 2\")    \n",
    "    except:\n",
    "        log = dymola.getLastErrorLog()\n",
    "        print(log)\n",
    "    try:\n",
    "        print(f\"Load Variation {machineName} Simulation Start...\")\n",
    "        dymola.cd(\"/home/manuelnvro/dev/Gitted/NYPAModelTransformation/OpenIPSLVerification/VerificationRoutines/Dymola/WorkingDir/LoadVariation/Machines/\" + machineName)\n",
    "        resultPath = f\"/home/manuelnvro/dev/Gitted/NYPAModelTransformation/OpenIPSLVerification/VerificationRoutines/Dymola/WorkingDir/LoadVariation/Machines/{machineName}/\" + machineName\n",
    "        result = dymola.simulateModel(machines['path'][machineNumber], \n",
    "                                stopTime=10.0,\n",
    "                                method=\"Rkfix2\",\n",
    "                                tolerance=1e-06,\n",
    "                                numberOfIntervals = 5000,\n",
    "                                resultFile = resultPath)\n",
    "        if not result:\n",
    "            print(\"Simulation failed or model was not found. Below is the translation log:\\n\")\n",
    "            log = dymola.getLastErrorLog()\n",
    "            print(log)\n",
    "        else:\n",
    "            print(f\"{machineName} Simulation OK...\")\n",
    "            print(\".csv Writing Start...\")\n",
    "            #Selecting Result File\n",
    "            sim = SimRes(f\"/home/manuelnvro/dev/Gitted/NYPAModelTransformation/OpenIPSLVerification/VerificationRoutines/Dymola/WorkingDir/LoadVariation/Machines/{machineName}/{machineName}.mat\")\n",
    "            #Selecting Variables\n",
    "            variables = ['Time', machines['delta'][machineNumber], machines['pelec'][machineNumber], machines['pmech'][machineNumber], machines['speed'][machineNumber], 'GEN1.V', 'LOAD.V', 'GEN2.V', 'FAULT.V' ]\n",
    "            df_variables = pd.DataFrame([], columns = variables)\n",
    "            for var in variables:\n",
    "                df_variables.drop(var, axis = 1, inplace = True)\n",
    "                #Change from Radians to Degrees\n",
    "                if var == machines['delta'][machineNumber]:\n",
    "                    df_variables[var] = np.array(sim[var].values()*(180/np.pi))    \n",
    "                else:\n",
    "                    #check if a variable does not change during the simulation and then and make a ones array and multiply by the value\n",
    "                    try:\n",
    "                        df_variables[var] = np.array(sim[var].values())\n",
    "                    except:\n",
    "                        first = np.array(sim[var].values())\n",
    "                        df_variables[var] = first[0] * np.ones(df_variables['Time'].size)\n",
    "            print(f\"{machineName} Variables OK...\")\n",
    "            #Changing current directory\n",
    "            os.chdir(f\"/home/manuelnvro/dev/Gitted/NYPAModelTransformation/OpenIPSLVerification/VerificationRoutines/Dymola/WorkingDir/LoadVariation/Machines/\")\n",
    "            df_variables.to_csv(f'{machineName}.csv', index = False)          \n",
    "            print(f\"{machineName} Write OK...\")       \n",
    "        try:\n",
    "            pass\n",
    "            #shutil.rmtree(f\"/home/manuelnvro/dev/Gitted/NYPAModelTransformation/OpenIPSLVerification/VerificationRoutines/Dymola/WorkingDir/LoadVariation/Machines/{machineName}/\")\n",
    "            #print(\"Delete OK...\\n\")\n",
    "        except:\n",
    "            pass          \n",
    "    except DymolaException as ex:\n",
    "        print(\"Error: \" + str(ex))\n",
    "print('Load Variation Machine Examples Simulation OK...')\n"
   ]
  },
  {
   "cell_type": "code",
   "execution_count": null,
   "metadata": {},
   "outputs": [],
   "source": [
    "#Changing SMIB Partial Back \n",
    "print(\"Editing SMIB Partial Model for Normal Testing...\")\n",
    "dymola.openModel(\"/home/manuelnvro/dev/Gitted/NYPAModelTransformation/OpenIPSLVerification/VerificationRoutines/Dymola/OpenIPSL/Examples/SMIBPartial.mo\") \n",
    "#Get rid of the Fault\n",
    "dymola.ExecuteCommand(\"pwFault.t1 = 2\")\n",
    "dymola.ExecuteCommand(\"pwFault.t2 = 2.15\")\n",
    "#Adjust Load Variation\n",
    "dymola.ExecuteCommand(\"constantLoad.d_P = 0\")\n",
    "dymola.ExecuteCommand(\"constantLoad.t1 = 0\")\n",
    "dymola.ExecuteCommand(\"constantLoad.d_t = 0\")"
   ]
  }
 ],
 "metadata": {
  "kernelspec": {
   "display_name": "Python 3",
   "language": "python",
   "name": "python3"
  },
  "language_info": {
   "codemirror_mode": {
    "name": "ipython",
    "version": 3
   },
   "file_extension": ".py",
   "mimetype": "text/x-python",
   "name": "python",
   "nbconvert_exporter": "python",
   "pygments_lexer": "ipython3",
   "version": "3.7.4"
  }
 },
 "nbformat": 4,
 "nbformat_minor": 2
}
