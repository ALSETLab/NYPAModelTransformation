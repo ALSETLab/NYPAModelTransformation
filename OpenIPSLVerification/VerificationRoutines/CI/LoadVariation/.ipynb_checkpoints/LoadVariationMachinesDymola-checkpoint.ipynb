{
 "cells": [
  {
   "cell_type": "code",
   "execution_count": 9,
   "metadata": {},
   "outputs": [],
   "source": [
    "import platform\n",
    "from dymola.dymola_interface import DymolaInterface\n",
    "from dymola.dymola_exception import DymolaException\n",
    "from modelicares import SimRes\n",
    "import pandas as pd\n",
    "import numpy as np\n",
    "import os\n",
    "import shutil\n",
    "import git"
   ]
  },
  {
   "cell_type": "code",
   "execution_count": 10,
   "metadata": {},
   "outputs": [],
   "source": [
    "#By default, the code runs in manuelnvro Dell using Dymola 2020. To change the computer change the following folders.\n",
    "#OpenIPSL Location\n",
    "OpenIPSL = \"/home/manuelnvro/dev/Gitted/NYPAModelTransformation/OpenIPSLVerification/VerificationRoutines/Dymola/OpenIPSL/\"\n",
    "#GitHub Location\n",
    "GitHubOpenIPSL = \"https://github.com/marcelofcastro/OpenIPSL.git\"\n",
    "OpenIPSLPackage = \"/home/manuelnvro/dev/Gitted/NYPAModelTransformation/OpenIPSLVerification/VerificationRoutines/Dymola/OpenIPSL/OpenIPSL/package.mo\"\n",
    "Dymola = \"/home/manuelnvro/dev/Gitted/NYPAModelTransformation/OpenIPSLVerification/VerificationRoutines/Dymola/\"\n",
    "#Working Directory\n",
    "LVMachinesWorkingDir = \"/home/manuelnvro/dev/Gitted/NYPAModelTransformation/OpenIPSLVerification/VerificationRoutines/Dymola/WorkingDir/LoadVariation/Machines/\"\n",
    "#Load Variation Folder Locations\n",
    "LoadVariationSource = \"/home/manuelnvro/dev/Gitted/NYPAModelTransformation/OpenIPSLVerification/VerificationRoutines/Dymola/Scripts/LoadVariation/AuxiliaryModels/Load_variation.mo\"\n",
    "LoadVariationDestinationPath = \"/home/manuelnvro/dev/Gitted/NYPAModelTransformation/OpenIPSLVerification/VerificationRoutines/Dymola/OpenIPSL/OpenIPSL/Electrical/Loads/PSSE/\"\n",
    "LoadVariationDestination = \"/home/manuelnvro/dev/Gitted/NYPAModelTransformation/OpenIPSLVerification/VerificationRoutines/Dymola/OpenIPSL/OpenIPSL/Electrical/Loads/PSSE/Load_variation.mo\"\n",
    "# Power Fault Folder Locations\n",
    "PowerFaultSource = \"/home/manuelnvro/dev/Gitted/NYPAModelTransformation/OpenIPSLVerification/VerificationRoutines/Dymola/Scripts/LoadVariation/AuxiliaryModels/PwFault.mo\"\n",
    "PowerFaultDestinationPath = \"/home/manuelnvro/dev/Gitted/NYPAModelTransformation/OpenIPSLVerification/VerificationRoutines/Dymola/OpenIPSL/OpenIPSL/Electrical/Events/\"\n",
    "PowerFaultDestination = \"/home/manuelnvro/dev/Gitted/NYPAModelTransformation/OpenIPSLVerification/VerificationRoutines/Dymola/OpenIPSL/OpenIPSL/Electrical/Events/PwFault.mo\""
   ]
  },
  {
   "cell_type": "code",
   "execution_count": 11,
   "metadata": {},
   "outputs": [],
   "source": [
    "#Setting Dymola Interface\n",
    "dymola = DymolaInterface(\"/opt/dymola-2020-x86_64/bin64/dymola.sh\")"
   ]
  },
  {
   "cell_type": "code",
   "execution_count": 12,
   "metadata": {},
   "outputs": [
    {
     "name": "stdout",
     "output_type": "stream",
     "text": [
      "Pulling latest OpenIPSL library version...\n",
      "\n"
     ]
    },
    {
     "data": {
      "text/plain": [
       "''"
      ]
     },
     "execution_count": 12,
     "metadata": {},
     "output_type": "execute_result"
    }
   ],
   "source": [
    "#Deleting old OpenIPSL library version\n",
    "shutil.rmtree(f\"\"+OpenIPSL+\"\")\n",
    "#Pulling latest OpenIPSL library version\n",
    "print('Pulling latest OpenIPSL library version...\\n')\n",
    "git.Git(\"\"+Dymola+\"\").clone(\"\"+GitHubOpenIPSL+\"\")"
   ]
  },
  {
   "cell_type": "code",
   "execution_count": 13,
   "metadata": {},
   "outputs": [
    {
     "name": "stdout",
     "output_type": "stream",
     "text": [
      "Deleting Auxiliary Models\n",
      "Adding Auxiliary models...\n",
      "Load Variation Dymola Machines Simulation Start...\n",
      "\n"
     ]
    }
   ],
   "source": [
    "#Adding Auxiliary Files\n",
    "try:\n",
    "    print('Deleting Auxiliary Models')\n",
    "    os.chdir(LoadVariationDestinationPath)\n",
    "    os.remove(\"Load_variation.mo\")\n",
    "    os.chdir(PowerFaultDestinationPath)\n",
    "    os.remove(\"PwFault.mo\")\n",
    "except: \n",
    "    print('Error Deleting Auxiliar Models...')\n",
    "try:\n",
    "    print('Adding Auxiliary models...')\n",
    "    os.system('cp '+PowerFaultSource+' '+PowerFaultDestination)\n",
    "    os.system('cp '+LoadVariationSource+' '+LoadVariationDestination)\n",
    "except:\n",
    "    print('Error Adding Auxiliary Models...\\n')\n",
    "#Opening OpenIPSL library\n",
    "dymola.openModel(\"\"+OpenIPSLPackage+\"\") \n",
    "print(\"Load Variation Dymola Machines Simulation Start...\\n\")"
   ]
  },
  {
   "cell_type": "code",
   "execution_count": 14,
   "metadata": {},
   "outputs": [],
   "source": [
    "#Creation of matrix with names, paths and variables\n",
    "machines = { 'names' : [\"GENROU\",\"GENSAL\", \"GENCLS\", \"GENROE\", \"GENSAE\", \"CSVGN1\"],\n",
    "            'path' : [\"OpenIPSL.Examples.Machines.PSSE.GENROU\", \"OpenIPSL.Examples.Machines.PSSE.GENSAL\",\n",
    "                      \"OpenIPSL.Examples.Machines.PSSE.GENCLS\", \"OpenIPSL.Examples.Machines.PSSE.GENROE\", \n",
    "                      \"OpenIPSL.Examples.Machines.PSSE.GENSAE\", \"OpenIPSL.Examples.Machines.PSSE.CSVGN1\"],\n",
    "            'delta' : ['gENROU.delta', 'gENSAL.delta', 'gENCLS2.delta', 'gENROE.delta', 'gENSAE.delta', 'cSVGN1.delta'],\n",
    "           'pelec' : ['gENROU.PELEC', 'gENSAL.PELEC', 'gENCLS2.P', 'gENROE.PELEC', 'gENSAE.PELEC', 'cSVGN1.PELEC'],\n",
    "           'speed' : ['gENROU.SPEED', 'gENSAL.SPEED', 'gENCLS2.omega', 'gENROE.SPEED', 'gENSAE.SPEED', 'cSVGN1.SPEED'],\n",
    "           'pmech' : ['gENROU.PMECH', 'gENSAL.PMECH', 'gENCLS2.P', 'gENROE.PMECH', 'gENSAE.PMECH', 'cSVGN1.PMECH']}"
   ]
  },
  {
   "cell_type": "code",
   "execution_count": 18,
   "metadata": {
    "scrolled": true
   },
   "outputs": [],
   "source": [
    "#Delete old results\n",
    "shutil.rmtree(''+LVMachinesWorkingDir+'')\n",
    "#Create Exciters folder\n",
    "os.makedirs(''+LVMachinesWorkingDir+'')\n",
    "os.chdir(f\"\"+LVMachinesWorkingDir+\"\")\n",
    "for machineNumber, machineName in enumerate(machines['names']):\n",
    "    os.makedirs(f'{machineName}')"
   ]
  },
  {
   "cell_type": "code",
   "execution_count": 19,
   "metadata": {
    "scrolled": true
   },
   "outputs": [
    {
     "name": "stdout",
     "output_type": "stream",
     "text": [
      "Load Variation GENROU Simulation Start...\n",
      "Editing SMIB Partial Model for Load Variation Testing...\n",
      "GENROU Simulation OK...\n",
      ".csv Writing Start...\n",
      "GENROU Variables OK...\n",
      "GENROU Write OK...\n",
      "Delete OK...\n",
      "\n",
      "Load Variation GENSAL Simulation Start...\n",
      "Editing SMIB Partial Model for Load Variation Testing...\n",
      "GENSAL Simulation OK...\n",
      ".csv Writing Start...\n",
      "GENSAL Variables OK...\n",
      "GENSAL Write OK...\n",
      "Delete OK...\n",
      "\n",
      "Load Variation GENCLS Simulation Start...\n",
      "Editing SMIB Partial Model for Load Variation Testing...\n",
      "GENCLS Simulation OK...\n",
      ".csv Writing Start...\n",
      "GENCLS Variables OK...\n",
      "GENCLS Write OK...\n",
      "Delete OK...\n",
      "\n",
      "Load Variation GENROE Simulation Start...\n",
      "Editing SMIB Partial Model for Load Variation Testing...\n",
      "GENROE Simulation OK...\n",
      ".csv Writing Start...\n",
      "GENROE Variables OK...\n",
      "GENROE Write OK...\n",
      "Delete OK...\n",
      "\n",
      "Load Variation GENSAE Simulation Start...\n",
      "Editing SMIB Partial Model for Load Variation Testing...\n",
      "GENSAE Simulation OK...\n",
      ".csv Writing Start...\n",
      "GENSAE Variables OK...\n",
      "GENSAE Write OK...\n",
      "Delete OK...\n",
      "\n",
      "Load Variation CSVGN1 Simulation Start...\n",
      "Editing SMIB Partial Model for Load Variation Testing...\n",
      "Simulation failed or model was not found. Below is the translation log:\n",
      "\n",
      "Translation of <a href=\"Modelica://OpenIPSL.Examples.Machines.PSSE.CSVGN1\">OpenIPSL.Examples.Machines.PSSE.CSVGN1</a>:\n",
      "Did not find model OpenIPSL.Examples.Machines.PSSE.CSVGN1\n",
      "Error: ERRORS have been issued.\n",
      "\n",
      "Delete OK...\n",
      "\n",
      "Load Variation Machine Examples Simulation OK...\n"
     ]
    }
   ],
   "source": [
    "#For loop that will iterate between machines, simulate, and create the .csv file\n",
    "for machineNumber, machineName in enumerate(machines['names']):\n",
    "    try:\n",
    "        print(f\"Load Variation {machineName} Simulation Start...\")\n",
    "        print(\"Editing SMIB Partial Model for Load Variation Testing...\")\n",
    "        resultPath = \"/\"+LVMachinesWorkingDir+f\"{machineName}/\" + machineName\n",
    "        dymola.translateModel(machines['path'][machineNumber])\n",
    "        #Get rid of the Fault\n",
    "        dymola.ExecuteCommand(\"pwFault.t1 = 20;\")\n",
    "        dymola.ExecuteCommand(\"pwFault.t2 = 20.15;\")\n",
    "        #Adjust Load Variation\n",
    "        dymola.ExecuteCommand(\"constantLoad.d_P = 1;\")\n",
    "        dymola.ExecuteCommand(\"constantLoad.t1 = 0.5;\")\n",
    "        dymola.ExecuteCommand(\"constantLoad.d_t = 20;\")\n",
    "        result = dymola.simulateModel(machines['path'][machineNumber], \n",
    "                                      stopTime=10.0, \n",
    "                                      method=\"Rkfix2\", \n",
    "                                      tolerance=1e-06, \n",
    "                                      numberOfIntervals = 5000, \n",
    "                                      resultFile = resultPath) \n",
    "        if not result:\n",
    "            print(\"Simulation failed or model was not found. Below is the translation log:\\n\")\n",
    "            log = dymola.getLastErrorLog()\n",
    "            print(log)\n",
    "        else:\n",
    "            print(f\"{machineName} Simulation OK...\")\n",
    "            print(\".csv Writing Start...\")\n",
    "            #Selecting Result File\n",
    "            sim = SimRes(\"\"+LVMachinesWorkingDir+f\"{machineName}/{machineName}.mat\")\n",
    "            #Selecting Variables\n",
    "            variables = ['Time', machines['delta'][machineNumber], machines['pelec'][machineNumber], machines['pmech'][machineNumber], machines['speed'][machineNumber], 'GEN1.V', 'LOAD.V', 'GEN2.V', 'FAULT.V' ]\n",
    "            df_variables = pd.DataFrame([], columns = variables)\n",
    "            for var in variables:\n",
    "                df_variables.drop(var, axis = 1, inplace = True)\n",
    "                #Change from Radians to Degrees\n",
    "                if var == machines['delta'][machineNumber]:\n",
    "                    df_variables[var] = np.array(sim[var].values()*(180/np.pi))    \n",
    "                else:\n",
    "                    #check if a variable does not change during the simulation and then and make a ones array and multiply by the value\n",
    "                    try:\n",
    "                        df_variables[var] = np.array(sim[var].values())\n",
    "                    except:\n",
    "                        first = np.array(sim[var].values())\n",
    "                        df_variables[var] = first[0] * np.ones(df_variables['Time'].size)\n",
    "            print(f\"{machineName} Variables OK...\")\n",
    "            #Changing current directory\n",
    "            os.chdir(f\"\"+LVMachinesWorkingDir+\"\")\n",
    "            df_variables.to_csv(f'{machineName}.csv', index = False)          \n",
    "            print(f\"{machineName} Write OK...\")       \n",
    "        try:\n",
    "            shutil.rmtree(\"\"+LVMachinesWorkingDir+f\"{machineName}/\")\n",
    "            print(\"Delete OK...\\n\")\n",
    "        except:\n",
    "            pass          \n",
    "    except DymolaException as ex:\n",
    "        print(\"Error: \" + str(ex))\n",
    "print('Load Variation Machine Examples Simulation OK...')\n"
   ]
  },
  {
   "cell_type": "code",
   "execution_count": null,
   "metadata": {},
   "outputs": [],
   "source": [
    "try:\n",
    "    print(\"Closing Dymola...\")\n",
    "    dymola.close()\n",
    "    print(\"Dymola Close OK...\")\n",
    "except:\n",
    "    print(\"Dymola closing error. Below is the log:\")\n",
    "    log = dymola.getLastErrorLog()\n",
    "    print(log)"
   ]
  }
 ],
 "metadata": {
  "kernelspec": {
   "display_name": "Python 3",
   "language": "python",
   "name": "python3"
  },
  "language_info": {
   "codemirror_mode": {
    "name": "ipython",
    "version": 3
   },
   "file_extension": ".py",
   "mimetype": "text/x-python",
   "name": "python",
   "nbconvert_exporter": "python",
   "pygments_lexer": "ipython3",
   "version": "3.7.4"
  }
 },
 "nbformat": 4,
 "nbformat_minor": 2
}
