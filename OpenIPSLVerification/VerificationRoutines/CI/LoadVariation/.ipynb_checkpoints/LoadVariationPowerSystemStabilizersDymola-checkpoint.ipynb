{
 "cells": [
  {
   "cell_type": "code",
   "execution_count": 1,
   "metadata": {},
   "outputs": [],
   "source": [
    "import platform\n",
    "from dymola.dymola_interface import DymolaInterface\n",
    "from dymola.dymola_exception import DymolaException\n",
    "from modelicares import SimRes\n",
    "import pandas as pd\n",
    "import numpy as np\n",
    "import os\n",
    "import shutil\n",
    "import git"
   ]
  },
  {
   "cell_type": "code",
   "execution_count": 2,
   "metadata": {},
   "outputs": [],
   "source": [
    "#By default, the code runs in manuelnvro Dell using Dymola 2020. To change the computer change the following folders.\n",
    "#OpenIPSL Location\n",
    "OpenIPSL = \"/home/manuelnvro/dev/Gitted/NYPAModelTransformation/OpenIPSLVerification/VerificationRoutines/Dymola/OpenIPSL/\"\n",
    "#GitHub Location\n",
    "GitHubOpenIPSL = \"https://github.com/marcelofcastro/OpenIPSL.git\"\n",
    "OpenIPSLPackage = \"/home/manuelnvro/dev/Gitted/NYPAModelTransformation/OpenIPSLVerification/VerificationRoutines/Dymola/OpenIPSL/OpenIPSL/package.mo\"\n",
    "Dymola = \"/home/manuelnvro/dev/Gitted/NYPAModelTransformation/OpenIPSLVerification/VerificationRoutines/Dymola/\"\n",
    "#Working Directory\n",
    "LVPowerSystemStabilizerWorkingDir = \"/home/manuelnvro/dev/Gitted/NYPAModelTransformation/OpenIPSLVerification/VerificationRoutines/Dymola/WorkingDir/LoadVariation/PowerSystemStabilizers/\"\n",
    "#Load Variation Folder Locations\n",
    "LoadVariationSource = \"/home/manuelnvro/dev/Gitted/NYPAModelTransformation/OpenIPSLVerification/VerificationRoutines/Dymola/Scripts/LoadVariation/AuxiliaryModels/Load_variation.mo\"\n",
    "LoadVariationDestinationPath = \"/home/manuelnvro/dev/Gitted/NYPAModelTransformation/OpenIPSLVerification/VerificationRoutines/Dymola/OpenIPSL/OpenIPSL/Electrical/Loads/PSSE/\"\n",
    "LoadVariationDestination = \"/home/manuelnvro/dev/Gitted/NYPAModelTransformation/OpenIPSLVerification/VerificationRoutines/Dymola/OpenIPSL/OpenIPSL/Electrical/Loads/PSSE/Load_variation.mo\"\n",
    "# Power Fault Folder Locations\n",
    "PowerFaultSource = \"/home/manuelnvro/dev/Gitted/NYPAModelTransformation/OpenIPSLVerification/VerificationRoutines/Dymola/Scripts/LoadVariation/AuxiliaryModels/PwFault.mo\"\n",
    "PowerFaultDestinationPath = \"/home/manuelnvro/dev/Gitted/NYPAModelTransformation/OpenIPSLVerification/VerificationRoutines/Dymola/OpenIPSL/OpenIPSL/Electrical/Events/\"\n",
    "PowerFaultDestination = \"/home/manuelnvro/dev/Gitted/NYPAModelTransformation/OpenIPSLVerification/VerificationRoutines/Dymola/OpenIPSL/OpenIPSL/Electrical/Events/PwFault.mo\""
   ]
  },
  {
   "cell_type": "code",
   "execution_count": 3,
   "metadata": {},
   "outputs": [],
   "source": [
    "#Setting Dymola Interface\n",
    "dymola = DymolaInterface(\"/opt/dymola-2020-x86_64/bin64/dymola.sh\")"
   ]
  },
  {
   "cell_type": "code",
   "execution_count": 4,
   "metadata": {},
   "outputs": [
    {
     "name": "stdout",
     "output_type": "stream",
     "text": [
      "Pulling latest OpenIPSL library version...\n",
      "\n"
     ]
    },
    {
     "data": {
      "text/plain": [
       "''"
      ]
     },
     "execution_count": 4,
     "metadata": {},
     "output_type": "execute_result"
    }
   ],
   "source": [
    "#Deleting old OpenIPSL library version\n",
    "shutil.rmtree(f\"\"+OpenIPSL+\"\")\n",
    "#Pulling latest OpenIPSL library version\n",
    "print('Pulling latest OpenIPSL library version...\\n')\n",
    "git.Git(\"\"+Dymola+\"\").clone(\"\"+GitHubOpenIPSL+\"\")"
   ]
  },
  {
   "cell_type": "code",
   "execution_count": 5,
   "metadata": {},
   "outputs": [
    {
     "name": "stdout",
     "output_type": "stream",
     "text": [
      "Deleting Auxiliary Models\n",
      "Adding Auxiliary models...\n",
      "Load Variation Dymola Power System Stabilizers Simulation Start...\n",
      "\n"
     ]
    }
   ],
   "source": [
    "#Adding Auxiliary Files\n",
    "try:\n",
    "    print('Deleting Auxiliary Models')\n",
    "    os.chdir(LoadVariationDestinationPath)\n",
    "    os.remove(\"Load_variation.mo\")\n",
    "    os.chdir(PowerFaultDestinationPath)\n",
    "    os.remove(\"PwFault.mo\")\n",
    "except: \n",
    "    print('Error Deleting Auxiliar Models...')\n",
    "try:\n",
    "    print('Adding Auxiliary models...')\n",
    "    os.system('cp '+PowerFaultSource+' '+PowerFaultDestination)\n",
    "    os.system('cp '+LoadVariationSource+' '+LoadVariationDestination)\n",
    "except:\n",
    "    print('Error Adding Auxiliary Models...\\n')\n",
    "#Setting OpenIPSL library\n",
    "dymola.openModel(\"\"+OpenIPSLPackage+\"\") \n",
    "print(\"Load Variation Dymola Power System Stabilizers Simulation Start...\\n\")"
   ]
  },
  {
   "cell_type": "code",
   "execution_count": 6,
   "metadata": {},
   "outputs": [],
   "source": [
    "#Creation of matrix with names, paths and variables\n",
    "psss = { 'names' : [\"PSS2A\",\"PSS2B\"],\n",
    "            'path' : [\"OpenIPSL.Examples.Controls.PSSE.PSS.PSS2A\",\"OpenIPSL.Examples.Controls.PSSE.PSS.PSS2B\"],\n",
    "            'delta' : ['gENROE.delta'],\n",
    "           'pelec' : ['gENROE.PELEC'],\n",
    "            'pmech' : ['gENROE.PMECH'],\n",
    "            'speed': ['gENROE.SPEED'],\n",
    "           'vothsg' : [\"pSS2A.VOTHSG\",\"pSS2B.VOTHSG\"]}"
   ]
  },
  {
   "cell_type": "code",
   "execution_count": 7,
   "metadata": {},
   "outputs": [],
   "source": [
    "#Delete old results\n",
    "shutil.rmtree(''+LVPowerSystemStabilizerWorkingDir+'')\n",
    "#Create Exciters folder\n",
    "os.makedirs(''+LVPowerSystemStabilizerWorkingDir+'')\n",
    "os.chdir(f\"\"+LVPowerSystemStabilizerWorkingDir+\"\")\n",
    "for pssNumber, pssName in enumerate(psss['names']):\n",
    "    os.makedirs(f'{pssName}')"
   ]
  },
  {
   "cell_type": "code",
   "execution_count": 8,
   "metadata": {},
   "outputs": [
    {
     "name": "stdout",
     "output_type": "stream",
     "text": [
      "LoadVariation PSS2A Simulation Start...\n",
      "Editing SMIB Partial Model for Load Variation Testing...\n",
      "PSS2A Simulation OK...\n",
      ".csv Writing Start...\n",
      "Verifying if it is a GENROU model...\n",
      "PSS2A Variables OK...\n",
      "PSS2A Write OK...\n",
      "LoadVariation PSS2B Simulation Start...\n",
      "Editing SMIB Partial Model for Load Variation Testing...\n",
      "PSS2B Simulation OK...\n",
      ".csv Writing Start...\n",
      "Verifying if it is a GENROU model...\n",
      "PSS2B Variables OK...\n",
      "PSS2B Write OK...\n",
      "Fault Power System Stabilizers Simulation OK...\n"
     ]
    }
   ],
   "source": [
    "#For loop that will iterate between power system stabilizers, simulate, and create the .csv fileurb\n",
    "for pssNumber, pssName in enumerate(psss['names']):\n",
    "    try:\n",
    "        print(f\"LoadVariation {pssName} Simulation Start...\")\n",
    "        print(\"Editing SMIB Partial Model for Load Variation Testing...\")\n",
    "        resultPath = \"/\"+LVPowerSystemStabilizerWorkingDir+f\"/{pssName}/\" + pssName\n",
    "        dymola.translateModel(psss['path'][pssNumber])\n",
    "        #Get rid of the Fault\n",
    "        dymola.ExecuteCommand(\"pwFault.t1 = 20;\")\n",
    "        dymola.ExecuteCommand(\"pwFault.t2 = 20.15;\")\n",
    "        #Adjust Load Variation\n",
    "        dymola.ExecuteCommand(\"constantLoad.d_P = 1;\")\n",
    "        dymola.ExecuteCommand(\"constantLoad.t1 = 0.5;\")\n",
    "        dymola.ExecuteCommand(\"constantLoad.d_t = 20;\")\n",
    "        result = dymola.simulateModel(psss['path'][pssNumber], \n",
    "                                stopTime=10.0,\n",
    "                                method=\"Rkfix2\",\n",
    "                                tolerance=1e-06,\n",
    "                                numberOfIntervals = 5000,\n",
    "                                resultFile = resultPath)\n",
    "        if not result:\n",
    "            print(\"Simulation failed or model was not found. Below is the translation log:\\n\")\n",
    "            log = dymola.getLastErrorLog()\n",
    "            print(log)\n",
    "            try:\n",
    "                os.chdir(LVPowerSystemStabilizerWorkingDir+f\"{pssName}/\")\n",
    "                os.remove(\"dsin.txt\")\n",
    "            except:\n",
    "                pass\n",
    "        else:\n",
    "            print(f\"{pssName} Simulation OK...\")\n",
    "            print(\".csv Writing Start...\") \n",
    "            sim = SimRes(\"\"+LVPowerSystemStabilizerWorkingDir+f\"{pssName}/{pssName}.mat\")\n",
    "            try:\n",
    "                print('Verifying if it is a GENROU model...')\n",
    "                #Selecting Variables\n",
    "                variables = ['Time', psss['delta'][0], psss['pelec'][0], psss['pmech'][0], psss['speed'][0], psss['vothsg'][pssNumber], 'GEN1.V', 'LOAD.V', 'GEN2.V', 'FAULT.V' ]\n",
    "                df_variables = pd.DataFrame([], columns = variables)\n",
    "                for var in variables:\n",
    "                    df_variables.drop(var, axis = 1, inplace = True)\n",
    "                    #Change from Radians to Degrees\n",
    "                    if var == psss['delta'][0]:\n",
    "                        df_variables[var] = np.array(sim[var].values()*(180/np.pi))    \n",
    "                    else:\n",
    "                        #check if a variable does not change during the simulation and then and make a ones array and multiply by the value\n",
    "                        try:\n",
    "                            df_variables[var] = np.array(sim[var].values())\n",
    "                        except:\n",
    "                            first = np.array(sim[var].values())\n",
    "                            df_variables[var] = first[0] * np.ones(df_variables['Time'].size)\n",
    "                print(f\"{pssName} Variables OK...\")\n",
    "                #Changing current directory\n",
    "                os.chdir(f\"\"+LVPowerSystemStabilizerWorkingDir+\"\")\n",
    "                df_variables.to_csv(f'{pssName}.csv', index = False)          \n",
    "                print(f\"{pssName} Write OK...\")\n",
    "            except:\n",
    "                print(\"Check generator model of the example model...\")\n",
    "        try:\n",
    "            shutil.rmtree(LVPowerSystemStabilizerWorkingDir+f\"{pssName}/\")\n",
    "            print(\"Delete OK...\\n\")\n",
    "        except:\n",
    "            pass\n",
    "    except DymolaException as ex:\n",
    "        print(\"Error: \" + str(ex))\n",
    "print('Fault Power System Stabilizers Simulation OK...')"
   ]
  },
  {
   "cell_type": "code",
   "execution_count": null,
   "metadata": {},
   "outputs": [],
   "source": [
    "try:\n",
    "    print(\"Closing Dymola...\")\n",
    "    dymola.close()\n",
    "    print(\"Dymola Close OK...\")\n",
    "except:\n",
    "    print(\"Dymola closing error. Below is the log:\")\n",
    "    log = dymola.getLastErrorLog()\n",
    "    print(log)"
   ]
  }
 ],
 "metadata": {
  "kernelspec": {
   "display_name": "Python 3",
   "language": "python",
   "name": "python3"
  },
  "language_info": {
   "codemirror_mode": {
    "name": "ipython",
    "version": 3
   },
   "file_extension": ".py",
   "mimetype": "text/x-python",
   "name": "python",
   "nbconvert_exporter": "python",
   "pygments_lexer": "ipython3",
   "version": "3.7.4"
  }
 },
 "nbformat": 4,
 "nbformat_minor": 2
}
