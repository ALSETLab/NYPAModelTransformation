{
 "cells": [
  {
   "cell_type": "code",
   "execution_count": 1,
   "metadata": {},
   "outputs": [
    {
     "name": "stderr",
     "output_type": "stream",
     "text": [
      "2020-05-02 20:32:23,051 - OMPython - INFO - OMC Server is up and running at file:////tmp/openmodelica.manuelnvro.port.b8a1dc6c8a3145e190e517bff26613c7 pid=13766\n"
     ]
    }
   ],
   "source": [
    "from OMPython import OMCSessionZMQ\n",
    "omc = OMCSessionZMQ()\n",
    "from modelicares import SimRes\n",
    "import pandas as pd\n",
    "import numpy as np\n",
    "import os\n",
    "import shutil\n",
    "import git"
   ]
  },
  {
   "cell_type": "code",
   "execution_count": 2,
   "metadata": {},
   "outputs": [],
   "source": [
    "#By default, the code runs in manuelnvro OM 16. To change the computer change the following folders.\n",
    "#OpenIPSL Location\n",
    "OpenIPSL = \"/home/manuelnvro/dev/Gitted/DockerTraining/OpenIPSL/\"\n",
    "#GitHub Location\n",
    "GitHubOpenIPSL = \"https://github.com/marcelofcastro/OpenIPSL.git\"\n",
    "OpenIPSLPackage = \"/home/manuelnvro/dev/Gitted/DockerTraining/OpenIPSL/OpenIPSL/package.mo\"\n",
    "#Working Directory\n",
    "WorkingDir = \"/home/manuelnvro/dev/Gitted/DockerTraining/CI/WorkingDir/\""
   ]
  },
  {
   "cell_type": "code",
   "execution_count": 3,
   "metadata": {},
   "outputs": [
    {
     "name": "stdout",
     "output_type": "stream",
     "text": [
      "OpenModelica 1.16.0~dev-311-gd37a91d\n",
      "Open Modelica Docker Trial Simulation Start...\n"
     ]
    }
   ],
   "source": [
    "print(omc.sendExpression(\"getVersion()\"))\n",
    "print(\"Open Modelica Docker Trial Simulation Start...\")"
   ]
  },
  {
   "cell_type": "code",
   "execution_count": 4,
   "metadata": {},
   "outputs": [],
   "source": [
    "#Delete old results\n",
    "shutil.rmtree(''+WorkingDir+'')\n",
    "#Create Exciters folder\n",
    "os.makedirs(''+WorkingDir+'/GENROU/')"
   ]
  },
  {
   "cell_type": "code",
   "execution_count": 5,
   "metadata": {},
   "outputs": [],
   "source": [
    "machines = { 'names' : [\"GENROU\",\"GENSAL\", \"GENCLS\", \"GENROE\", \"GENSAE\", \"CSVGN1\"],\n",
    "            'path' : [\"OpenIPSL.Examples.Machines.PSSE.GENROU\", \"OpenIPSL.Examples.Machines.PSSE.GENSAL\",\n",
    "                      \"OpenIPSL.Examples.Machines.PSSE.GENCLS\", \"OpenIPSL.Examples.Machines.PSSE.GENROE\", \n",
    "                      \"OpenIPSL.Examples.Machines.PSSE.GENSAE\", \"OpenIPSL.Examples.Machines.PSSE.CSVGN1\"],\n",
    "            'delta' : ['gENROU.delta', 'gENSAL.delta', 'gENCLS2.delta', 'gENROE.delta', 'gENSAE.delta', 'cSVGN1.delta'],\n",
    "           'pelec' : ['gENROU.PELEC', 'gENSAL.PELEC', 'gENCLS2.P', 'gENROE.PELEC', 'gENSAE.PELEC', 'cSVGN1.PELEC'],\n",
    "           'speed' : ['gENROU.SPEED', 'gENSAL.SPEED', 'gENCLS2.omega', 'gENROE.SPEED', 'gENSAE.SPEED', 'cSVGN1.SPEED'],\n",
    "           'pmech' : ['gENROU.PMECH', 'gENSAL.PMECH', 'gENCLS2.P', 'gENROE.PMECH', 'gENSAE.PMECH', 'cSVGN1.PMECH']}"
   ]
  },
  {
   "cell_type": "code",
   "execution_count": 6,
   "metadata": {},
   "outputs": [],
   "source": [
    "machineName = 'GENROU'\n",
    "machineNumber = 0"
   ]
  },
  {
   "cell_type": "code",
   "execution_count": 9,
   "metadata": {},
   "outputs": [
    {
     "name": "stdout",
     "output_type": "stream",
     "text": [
      "Fault GENROU Simulation Start...\n",
      "GENROU Simulation Finished...\n"
     ]
    }
   ],
   "source": [
    "print(f\"Fault {machineName} Simulation Start...\")\n",
    "try:\n",
    "    omc.sendExpression(f\"cd(\\\"{WorkingDir}\" + machineName +\"\\\")\")\n",
    "    omc.sendExpression(f\"loadFile(\\\"{OpenIPSLPackage}\\\")\")\n",
    "    omc.sendExpression(\"instantiateModel(OpenIPSL)\")\n",
    "    omc.sendExpression(f\"simulate(OpenIPSL.Examples.Machines.PSSE.{machineName}, stopTime=10.0,method=\\\"rungekutta\\\",numberOfIntervals=5000,tolerance=1e-06)\")\n",
    "    sim = SimRes(\"\"+WorkingDir+f\"{machineName}/OpenIPSL.Examples.Machines.PSSE.{machineName}_res.mat\")\n",
    "    print(f\"{machineName} Simulation Finished...\")\n",
    "except:\n",
    "    print(f\"{machineName} simulation error or model not found...\")"
   ]
  },
  {
   "cell_type": "code",
   "execution_count": 10,
   "metadata": {},
   "outputs": [
    {
     "name": "stdout",
     "output_type": "stream",
     "text": [
      ".csv Writing Start...\n",
      "GENROU Variables OK...\n",
      "GENROU Write OK...\n",
      "Delete OK...\n",
      "\n"
     ]
    }
   ],
   "source": [
    "try:\n",
    "    print(\".csv Writing Start...\")\n",
    "    variables = ['Time', machines['delta'][machineNumber], machines['pelec'][machineNumber], machines['pmech'][machineNumber], machines['speed'][machineNumber], 'GEN1.V', 'LOAD.V', 'GEN2.V', 'FAULT.V' ]\n",
    "    df_variables = pd.DataFrame([], columns = variables)\n",
    "    for var in variables:\n",
    "        df_variables.drop(var, axis = 1, inplace = True)\n",
    "        #Change from Radians to Degrees\n",
    "        if var == machines['delta'][machineNumber]:\n",
    "            df_variables[var] = np.array(sim[var].values()*(180/np.pi))    \n",
    "        else:\n",
    "            #check if a variable does not change during the simulation and then and make a ones array and multiply by the value\n",
    "            try:\n",
    "                df_variables[var] = np.array(sim[var].values())\n",
    "            except:\n",
    "                first = np.array(sim[var].values())\n",
    "                df_variables[var] = first[0] * np.ones(df_variables['Time'].size)\n",
    "    print(f\"{machineName} Variables OK...\")\n",
    "    #Changing current directory\n",
    "    os.chdir(f\"\"+WorkingDir+\"\")\n",
    "    df_variables.to_csv(f'{machineName}.csv', index = False)          \n",
    "    print(f\"{machineName} Write OK...\")\n",
    "except:\n",
    "    print(f\"{machineName} variable error... \\n\")       \n",
    "try:\n",
    "    shutil.rmtree(\"\"+WorkingDir+f\"{machineName}/\")\n",
    "    print(\"Delete OK...\\n\")\n",
    "except:\n",
    "    print(\"Error...\\n\")          "
   ]
  },
  {
   "cell_type": "code",
   "execution_count": 9,
   "metadata": {},
   "outputs": [
    {
     "name": "stdout",
     "output_type": "stream",
     "text": [
      "Closing Open Modelica...\n",
      "OpenModelica Close OK...\n"
     ]
    }
   ],
   "source": [
    "try:\n",
    "    print(\"Closing Open Modelica...\")\n",
    "    omc.sendExpression(\"quit()\")\n",
    "    print(\"OpenModelica Close OK...\")\n",
    "except:\n",
    "    print(\"Open Modelica closing error...\")"
   ]
  }
 ],
 "metadata": {
  "kernelspec": {
   "display_name": "Python 3",
   "language": "python",
   "name": "python3"
  },
  "language_info": {
   "codemirror_mode": {
    "name": "ipython",
    "version": 3
   },
   "file_extension": ".py",
   "mimetype": "text/x-python",
   "name": "python",
   "nbconvert_exporter": "python",
   "pygments_lexer": "ipython3",
   "version": "3.7.4"
  }
 },
 "nbformat": 4,
 "nbformat_minor": 2
}
