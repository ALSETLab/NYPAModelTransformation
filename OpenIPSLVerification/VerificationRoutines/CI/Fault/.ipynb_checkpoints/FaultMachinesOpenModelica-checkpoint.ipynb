{
 "cells": [
  {
   "cell_type": "code",
   "execution_count": 1,
   "metadata": {},
   "outputs": [
    {
     "name": "stderr",
     "output_type": "stream",
     "text": [
      "2020-05-04 13:28:39,625 - OMPython - INFO - OMC Server is up and running at file:////tmp/openmodelica.manuelnvro.port.11d58dc18d97446c9c5cbae4af9aaddd pid=21191\n"
     ]
    }
   ],
   "source": [
    "from OMPython import OMCSessionZMQ\n",
    "omc = OMCSessionZMQ()\n",
    "from modelicares import SimRes\n",
    "import pandas as pd\n",
    "import numpy as np\n",
    "import os\n",
    "import shutil\n",
    "import git"
   ]
  },
  {
   "cell_type": "code",
   "execution_count": 2,
   "metadata": {},
   "outputs": [],
   "source": [
    "#By default, the code runs in manuelnvro Dell using Dymola 2020. To change the computer change the following folders.\n",
    "#OpenIPSL Location\n",
    "OpenIPSL = \"/home/manuelnvro/dev/Gitted/NYPAModelTransformation/OpenIPSLVerification/VerificationRoutines/OpenModelica/OpenIPSL/\"\n",
    "#GitHub Location\n",
    "GitHubOpenIPSL = \"https://github.com/marcelofcastro/OpenIPSL.git\"\n",
    "OpenIPSLPackage = \"/home/manuelnvro/dev/Gitted/NYPAModelTransformation/OpenIPSLVerification/VerificationRoutines/OpenModelica/OpenIPSL/OpenIPSL/package.mo\"\n",
    "OpenModelica = \"/home/manuelnvro/dev/Gitted/NYPAModelTransformation/OpenIPSLVerification/VerificationRoutines/OpenModelica/\"\n",
    "#Working Directory\n",
    "FMachinesWorkingDir = \"/home/manuelnvro/dev/Gitted/NYPAModelTransformation/OpenIPSLVerification/VerificationRoutines/OpenModelica/WorkingDir/Fault/Machines/\"\n",
    "#Load Variation Folder Locations\n",
    "LoadVariationSource = \"/home/manuelnvro/dev/Gitted/NYPAModelTransformation/OpenIPSLVerification/VerificationRoutines/OpenModelica/Scripts/LoadVariation/AuxiliaryModels/Load_variation.mo\"\n",
    "LoadVariationDestinationPath = \"/home/manuelnvro/dev/Gitted/NYPAModelTransformation/OpenIPSLVerification/VerificationRoutines/OpenModelica/OpenIPSL/OpenIPSL/Electrical/Loads/PSSE/\"\n",
    "LoadVariationDestination = \"/home/manuelnvro/dev/Gitted/NYPAModelTransformation/OpenIPSLVerification/VerificationRoutines/OpenModelica/OpenIPSL/OpenIPSL/Electrical/Loads/PSSE/Load_variation.mo\"\n",
    "# Power Fault Folder Locations\n",
    "PowerFaultSource = \"/home/manuelnvro/dev/Gitted/NYPAModelTransformation/OpenIPSLVerification/VerificationRoutines/OpenModelica/Scripts/LoadVariation/AuxiliaryModels/PwFault.mo\"\n",
    "PowerFaultDestinationPath = \"/home/manuelnvro/dev/Gitted/NYPAModelTransformation/OpenIPSLVerification/VerificationRoutines/OpenModelica/OpenIPSL/OpenIPSL/Electrical/Events/\"\n",
    "PowerFaultDestination = \"/home/manuelnvro/dev/Gitted/NYPAModelTransformation/OpenIPSLVerification/VerificationRoutines/OpenModelica/OpenIPSL/OpenIPSL/Electrical/Events/PwFault.mo\""
   ]
  },
  {
   "cell_type": "code",
   "execution_count": 3,
   "metadata": {},
   "outputs": [
    {
     "name": "stdout",
     "output_type": "stream",
     "text": [
      "OpenModelica 1.16.0~dev-311-gd37a91d\n",
      "Open Modelica Machines Simulation Start...\n"
     ]
    }
   ],
   "source": [
    "print(omc.sendExpression(\"getVersion()\"))\n",
    "print(\"Open Modelica Machines Simulation Start...\")"
   ]
  },
  {
   "cell_type": "code",
   "execution_count": 4,
   "metadata": {},
   "outputs": [
    {
     "name": "stdout",
     "output_type": "stream",
     "text": [
      "Pulling latest OpenIPSL library version...\n",
      "\n"
     ]
    },
    {
     "data": {
      "text/plain": [
       "''"
      ]
     },
     "execution_count": 4,
     "metadata": {},
     "output_type": "execute_result"
    }
   ],
   "source": [
    "#Deleting old OpenIPSL library version\n",
    "shutil.rmtree(f\"\"+OpenIPSL+\"\")\n",
    "#Pulling latest OpenIPSL library version\n",
    "print('Pulling latest OpenIPSL library version...\\n')\n",
    "git.Git(\"\"+OpenModelica+\"\").clone(\"\"+GitHubOpenIPSL+\"\")"
   ]
  },
  {
   "cell_type": "code",
   "execution_count": 5,
   "metadata": {},
   "outputs": [],
   "source": [
    "#Creation of matrix with names, paths and variables\n",
    "machines = { 'names' : [\"GENROU\",\"GENSAL\", \"GENCLS\", \"GENROE\", \"GENSAE\", \"CSVGN1\"],\n",
    "            'path' : [\"OpenIPSL.Examples.Machines.PSSE.GENROU\", \"OpenIPSL.Examples.Machines.PSSE.GENSAL\",\n",
    "                      \"OpenIPSL.Examples.Machines.PSSE.GENCLS\", \"OpenIPSL.Examples.Machines.PSSE.GENROE\", \n",
    "                      \"OpenIPSL.Examples.Machines.PSSE.GENSAE\", \"OpenIPSL.Examples.Banks.PSSE.CSVGN1\"],\n",
    "            'delta' : ['gENROU.delta', 'gENSAL.delta', 'gENCLS2.delta', 'gENROE.delta', 'gENSAE.delta', 'cSVGN1.delta'],\n",
    "           'pelec' : ['gENROU.PELEC', 'gENSAL.PELEC', 'gENCLS2.P', 'gENROE.PELEC', 'gENSAE.PELEC', 'cSVGN1.PELEC'],\n",
    "           'speed' : ['gENROU.SPEED', 'gENSAL.SPEED', 'gENCLS2.omega', 'gENROE.SPEED', 'gENSAE.SPEED', 'cSVGN1.SPEED'],\n",
    "           'pmech' : ['gENROU.PMECH', 'gENSAL.PMECH', 'gENCLS2.P', 'gENROE.PMECH', 'gENSAE.PMECH', 'cSVGN1.PMECH']}"
   ]
  },
  {
   "cell_type": "code",
   "execution_count": 6,
   "metadata": {},
   "outputs": [],
   "source": [
    "#Delete old results\n",
    "shutil.rmtree(''+FMachinesWorkingDir+'')\n",
    "#Create Exciters folder\n",
    "os.makedirs(''+FMachinesWorkingDir+'')\n",
    "os.chdir(f\"\"+FMachinesWorkingDir+\"\")\n",
    "for machineNumber, machineName in enumerate(machines['names']):\n",
    "    os.makedirs(f'{machineName}')"
   ]
  },
  {
   "cell_type": "code",
   "execution_count": 7,
   "metadata": {},
   "outputs": [
    {
     "name": "stdout",
     "output_type": "stream",
     "text": [
      "Fault GENROU Simulation Start...\n",
      "GENROU Simulation Finished...\n",
      ".csv Writing Start...\n",
      "GENROU Variables OK...\n",
      "GENROU Write OK...\n",
      "Delete OK...\n",
      "\n",
      "Fault GENSAL Simulation Start...\n",
      "GENSAL Simulation Finished...\n",
      ".csv Writing Start...\n",
      "GENSAL Variables OK...\n",
      "GENSAL Write OK...\n",
      "Delete OK...\n",
      "\n",
      "Fault GENCLS Simulation Start...\n",
      "GENCLS Simulation Finished...\n",
      ".csv Writing Start...\n",
      "GENCLS Variables OK...\n",
      "GENCLS Write OK...\n",
      "Delete OK...\n",
      "\n",
      "Fault GENROE Simulation Start...\n",
      "GENROE Simulation Finished...\n",
      ".csv Writing Start...\n",
      "GENROE Variables OK...\n",
      "GENROE Write OK...\n",
      "Delete OK...\n",
      "\n",
      "Fault GENSAE Simulation Start...\n",
      "GENSAE Simulation Finished...\n",
      ".csv Writing Start...\n",
      "GENSAE Variables OK...\n",
      "GENSAE Write OK...\n",
      "Delete OK...\n",
      "\n",
      "Fault CSVGN1 Simulation Start...\n",
      "CSVGN1 Simulation Finished...\n",
      ".csv Writing Start...\n",
      "CSVGN1 Variables OK...\n",
      "CSVGN1 Write OK...\n",
      "Delete OK...\n",
      "\n",
      "Fault Machine Examples Open Modelica Simulation OK...\n"
     ]
    }
   ],
   "source": [
    "#For loop that will iterate between machines, simulate, and create the .csv file\n",
    "for machineNumber, machineName in enumerate(machines['names']):\n",
    "    print(f\"Fault {machineName} Simulation Start...\")\n",
    "    try:\n",
    "        omc.sendExpression(f\"cd(\\\"{FMachinesWorkingDir}\" + machineName +\"\\\")\")\n",
    "        omc.sendExpression(f\"loadFile(\\\"{OpenIPSLPackage}\\\")\")\n",
    "        omc.sendExpression(\"instantiateModel(OpenIPSL)\")\n",
    "        if machineName == 'CSVGN1':\n",
    "            omc.sendExpression(f\"simulate(OpenIPSL.Examples.Banks.PSSE.{machineName}, stopTime=10.0,method=\\\"dassl\\\",numberOfIntervals=500,tolerance=1e-04)\")\n",
    "            sim = SimRes(\"\"+FMachinesWorkingDir+f\"{machineName}/OpenIPSL.Examples.Banks.PSSE.{machineName}_res.mat\")\n",
    "        else:\n",
    "            omc.sendExpression(f\"simulate(OpenIPSL.Examples.Machines.PSSE.{machineName}, stopTime=10.0,method=\\\"rungekutta\\\",numberOfIntervals=5000,tolerance=1e-06)\")\n",
    "            sim = SimRes(\"\"+FMachinesWorkingDir+f\"{machineName}/OpenIPSL.Examples.Machines.PSSE.{machineName}_res.mat\")\n",
    "        print(f\"{machineName} Simulation Finished...\")\n",
    "    except:\n",
    "        print(f\"{machineName} simulation error or model not found...\")\n",
    "    try:\n",
    "        print(\".csv Writing Start...\")\n",
    "        if machineName == 'CSVGN1':\n",
    "            variables = ['Time', 'cSVGN1.Q', 'GEN1.V', 'LOAD.V', 'GEN2.V', 'SHUNT.V', 'FAULT.V' ]\n",
    "        else:\n",
    "            variables = ['Time', machines['delta'][machineNumber], machines['pelec'][machineNumber], machines['pmech'][machineNumber], machines['speed'][machineNumber], 'GEN1.V', 'LOAD.V', 'GEN2.V', 'FAULT.V' ]\n",
    "        df_variables = pd.DataFrame([], columns = variables)\n",
    "        for var in variables:\n",
    "            df_variables.drop(var, axis = 1, inplace = True)\n",
    "            #Change from Radians to Degrees\n",
    "            if var == machines['delta'][machineNumber]:\n",
    "                df_variables[var] = np.array(sim[var].values()*(180/np.pi))    \n",
    "            else:\n",
    "                #check if a variable does not change during the simulation and then and make a ones array and multiply by the value\n",
    "                try:\n",
    "                    df_variables[var] = np.array(sim[var].values())\n",
    "                except:\n",
    "                    first = np.array(sim[var].values())\n",
    "                    df_variables[var] = first[0] * np.ones(df_variables['Time'].size)\n",
    "        print(f\"{machineName} Variables OK...\")\n",
    "        #Changing current directory\n",
    "        os.chdir(f\"\"+FMachinesWorkingDir+\"\")\n",
    "        df_variables.to_csv(f'{machineName}.csv', index = False)          \n",
    "        print(f\"{machineName} Write OK...\")\n",
    "    except:\n",
    "        print(f\"{machineName} variable error... \\n\")       \n",
    "    try:\n",
    "        shutil.rmtree(\"\"+FMachinesWorkingDir+f\"{machineName}/\")\n",
    "        print(\"Delete OK...\\n\")\n",
    "    except:\n",
    "        print(\"Error...\\n\")          \n",
    "print('Fault Machine Examples Open Modelica Simulation OK...')"
   ]
  },
  {
   "cell_type": "code",
   "execution_count": 8,
   "metadata": {},
   "outputs": [
    {
     "name": "stdout",
     "output_type": "stream",
     "text": [
      "Closing Open Modelica...\n",
      "OpenModelica Close OK...\n"
     ]
    }
   ],
   "source": [
    "try:\n",
    "    print(\"Closing Open Modelica...\")\n",
    "    omc.sendExpression(\"quit()\")\n",
    "    print(\"OpenModelica Close OK...\")\n",
    "except:\n",
    "    print(\"Open Modelica closing error...\")"
   ]
  }
 ],
 "metadata": {
  "kernelspec": {
   "display_name": "Python 3",
   "language": "python",
   "name": "python3"
  },
  "language_info": {
   "codemirror_mode": {
    "name": "ipython",
    "version": 3
   },
   "file_extension": ".py",
   "mimetype": "text/x-python",
   "name": "python",
   "nbconvert_exporter": "python",
   "pygments_lexer": "ipython3",
   "version": "3.7.4"
  }
 },
 "nbformat": 4,
 "nbformat_minor": 2
}
