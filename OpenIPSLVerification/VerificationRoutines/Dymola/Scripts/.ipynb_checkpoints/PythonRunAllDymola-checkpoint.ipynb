{
 "cells": [
  {
   "cell_type": "code",
   "execution_count": 7,
   "metadata": {},
   "outputs": [],
   "source": [
    "import platform\n",
    "from dymola.dymola_interface import DymolaInterface\n",
    "from dymola.dymola_exception import DymolaException\n",
    "from modelicares import SimRes\n",
    "import pandas as pd\n",
    "import numpy as np\n",
    "import os\n",
    "import shutil"
   ]
  },
  {
   "cell_type": "code",
   "execution_count": 9,
   "metadata": {},
   "outputs": [],
   "source": [
    "#This is intended to be used in the manuelnvro Dell using Dymola 2020\n",
    "Fault = \"/home/manuelnvro/dev/Gitted/NYPAModelTransformation/OpenIPSLVerification/VerificationRoutines/Dymola/Scripts/Fault/\"\n",
    "LoadVariation = \"/home/manuelnvro/dev/Gitted/NYPAModelTransformation/OpenIPSLVerification/VerificationRoutines/Dymola/Scripts/LoadVariation/\"\n",
    "ReferenceStep = \"/home/manuelnvro/dev/Gitted/NYPAModelTransformation/OpenIPSLVerification/VerificationRoutines/Dymola/Scripts/ReferenceStep/\""
   ]
  },
  {
   "cell_type": "code",
   "execution_count": null,
   "metadata": {},
   "outputs": [
    {
     "name": "stdout",
     "output_type": "stream",
     "text": [
      "---------------------------------------------------------- Fault Testing ----------------------------------------------------------\n",
      "---------------------------------------------------------- Fault Dymola Exciters Testing ----------------------------------------------------------\n",
      "Pulling latest OpenIPSL library version...\n",
      "\n"
     ]
    }
   ],
   "source": [
    "#Run Exciters\n",
    "print('---------------------------------------------------------- Fault Testing ----------------------------------------------------------')\n",
    "try:\n",
    "    os.chdir(f\"\"+Fault+\"\")\n",
    "    exec(open(\"FaultRunAllDymola.py\").read())\n",
    "    print('Fault Testing OK...')\n",
    "except:\n",
    "    print('Error in Fault Testing...')"
   ]
  },
  {
   "cell_type": "code",
   "execution_count": 3,
   "metadata": {},
   "outputs": [
    {
     "name": "stdout",
     "output_type": "stream",
     "text": [
      "---------------------------------------------------------- Machines Testing ----------------------------------------------------------\n",
      "Error in Exciters Testing...\n"
     ]
    }
   ],
   "source": [
    "#Run Machines\n",
    "print('---------------------------------------------------------- Load Variation Testing ----------------------------------------------------------')\n",
    "try:\n",
    "    os.chdir(f\"\"+LoadVariation+\"\")\n",
    "    exec(open(\"LoadVariationRunAllDymola.py\").read())\n",
    "    print('Load Variation Testing OK...')\n",
    "except:\n",
    "    print('Error in Load Variation Testing...')"
   ]
  },
  {
   "cell_type": "code",
   "execution_count": null,
   "metadata": {},
   "outputs": [],
   "source": [
    "#Run Exciters\n",
    "print('---------------------------------------------------------- Reference Step Testing ----------------------------------------------------------')\n",
    "try:\n",
    "    os.chdir(f\"\"+ReferenceStep+\"\")\n",
    "    exec(open(\"ReferenceStepRunAllDymola.py\").read())\n",
    "    print('Reference Step Testing OK...')\n",
    "except:\n",
    "    print('Error in Reference Step Testing...')"
   ]
  },
  {
   "cell_type": "code",
   "execution_count": null,
   "metadata": {},
   "outputs": [],
   "source": [
    "print('---------------------------------------------------------- End of All Simulations ----------------------------------------------------------')"
   ]
  }
 ],
 "metadata": {
  "kernelspec": {
   "display_name": "Python 3",
   "language": "python",
   "name": "python3"
  },
  "language_info": {
   "codemirror_mode": {
    "name": "ipython",
    "version": 3
   },
   "file_extension": ".py",
   "mimetype": "text/x-python",
   "name": "python",
   "nbconvert_exporter": "python",
   "pygments_lexer": "ipython3",
   "version": "3.7.4"
  }
 },
 "nbformat": 4,
 "nbformat_minor": 2
}
