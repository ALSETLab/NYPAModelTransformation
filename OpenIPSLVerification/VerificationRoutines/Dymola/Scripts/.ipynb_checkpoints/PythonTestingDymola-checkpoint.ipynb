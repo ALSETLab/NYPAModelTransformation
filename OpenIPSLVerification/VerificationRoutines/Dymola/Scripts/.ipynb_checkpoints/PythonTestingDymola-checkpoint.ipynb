{
 "cells": [
  {
   "cell_type": "code",
   "execution_count": 2,
   "metadata": {},
   "outputs": [],
   "source": [
    "import platform\n",
    "from dymola.dymola_interface import DymolaInterface\n",
    "from dymola.dymola_exception import DymolaException\n",
    "from modelicares import SimRes\n",
    "import pandas as pd\n",
    "import numpy as np\n",
    "import os"
   ]
  },
  {
   "cell_type": "code",
   "execution_count": 3,
   "metadata": {},
   "outputs": [],
   "source": [
    "#This is intended to be used in the manuelnvro Dell using Dymola 2020."
   ]
  },
  {
   "cell_type": "code",
   "execution_count": 4,
   "metadata": {},
   "outputs": [
    {
     "data": {
      "text/plain": [
       "True"
      ]
     },
     "execution_count": 4,
     "metadata": {},
     "output_type": "execute_result"
    }
   ],
   "source": [
    "#Setting Dymola Interface\n",
    "dymola = DymolaInterface(\"/opt/dymola-2020-x86_64/bin64/dymola.sh\")\n",
    "#Setting OpenIPSL library\n",
    "dymola.openModel(\"/home/manuelnvro/dev/Gitted/PythonTesting/OpenIPSL-master/OpenIPSL/package.mo\") \n",
    "print(\"Dymola Simulation Start...\")"
   ]
  },
  {
   "cell_type": "code",
   "execution_count": 5,
   "metadata": {},
   "outputs": [
    {
     "name": "stdout",
     "output_type": "stream",
     "text": [
      "Simulation OK\n",
      "Vars OK\n",
      "Write OK\n"
     ]
    }
   ],
   "source": [
    "try:\n",
    "    #Set WorkingDir\n",
    "    dymola.cd(\"/home/manuelnvro/dev/Gitted/PythonTesting/WorkingDir/Dymola\")\n",
    "    resultPath = \"/home/manuelnvro/dev/Gitted/PythonTesting/WorkingDir/Dymola/EXAC1\"\n",
    "    #Dymola Simulation\n",
    "    result = dymola.simulateModel(\"OpenIPSL.Examples.Controls.PSSE.ES.EXAC1\", \n",
    "                                  stopTime=10.0,\n",
    "                                  numberOfIntervals = 5000,\n",
    "                                 resultFile = resultPath)\n",
    "    if not result:\n",
    "        print(\"Simulation failed. Below is the translation log.\")\n",
    "        log = dymola.getLastErrorLog()\n",
    "        print(log)\n",
    "        exit(1)       \n",
    "    print(\"Simulation OK\")\n",
    "    #Close Dymola\n",
    "    dymola.close()\n",
    "    #Selecting result file\n",
    "    sim = SimRes(\"/home/manuelnvro/dev/Gitted/PythonTesting/WorkingDir/Dymola/EXAC1.mat\")\n",
    "    #Selecting Variables\n",
    "    variables = ['Time', 'gENROE.delta','gENROE.PELEC', 'eXAC1_1.EFD','gENROE.SPEED', 'GEN1.V', 'LOAD.V', 'GEN2.V', 'FAULT.V' ]\n",
    "    df_variables = pd.DataFrame([], columns = variables)\n",
    "    for var in variables:\n",
    "        df_variables.drop(var, axis = 1, inplace = True)\n",
    "        df_variables[var] = np.array(sim[var].values())\n",
    "    print(\"Vars OK\")\n",
    "    #Changing current directory\n",
    "    os.chdir(\"/home/manuelnvro/dev/Gitted/PythonTesting/ResultData/\")\n",
    "    #Creating .csv house\n",
    "    df_variables.to_csv('dataDymola.csv', index = False)\n",
    "    print(\"Write OK\")\n",
    "except DymolaException as ex:\n",
    "    print((\"Error: \" + str(ex)))"
   ]
  },
  {
   "cell_type": "code",
   "execution_count": null,
   "metadata": {},
   "outputs": [],
   "source": []
  }
 ],
 "metadata": {
  "kernelspec": {
   "display_name": "Python 3",
   "language": "python",
   "name": "python3"
  },
  "language_info": {
   "codemirror_mode": {
    "name": "ipython",
    "version": 3
   },
   "file_extension": ".py",
   "mimetype": "text/x-python",
   "name": "python",
   "nbconvert_exporter": "python",
   "pygments_lexer": "ipython3",
   "version": "3.7.4"
  }
 },
 "nbformat": 4,
 "nbformat_minor": 2
}
