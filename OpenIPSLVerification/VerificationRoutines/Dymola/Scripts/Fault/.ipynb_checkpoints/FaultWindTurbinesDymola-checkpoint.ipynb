{
 "cells": [
  {
   "cell_type": "code",
   "execution_count": 1,
   "metadata": {},
   "outputs": [],
   "source": [
    "import platform\n",
    "from dymola.dymola_interface import DymolaInterface\n",
    "from dymola.dymola_exception import DymolaException\n",
    "from modelicares import SimRes\n",
    "import pandas as pd\n",
    "import numpy as np\n",
    "import os\n",
    "import shutil\n",
    "import git"
   ]
  },
  {
   "cell_type": "code",
   "execution_count": 2,
   "metadata": {},
   "outputs": [],
   "source": [
    "#By default, the code runs in manuelnvro Dell using Dymola 2020. To change the computer change the following folders.\n",
    "#OpenIPSL Location\n",
    "OpenIPSL = \"/home/manuelnvro/dev/Gitted/NYPAModelTransformation/OpenIPSLVerification/VerificationRoutines/Dymola/OpenIPSL/\"\n",
    "#GitHub Location\n",
    "GitHubOpenIPSL = \"https://github.com/marcelofcastro/OpenIPSL.git\"\n",
    "OpenIPSLPackage = \"/home/manuelnvro/dev/Gitted/NYPAModelTransformation/OpenIPSLVerification/VerificationRoutines/Dymola/OpenIPSL/OpenIPSL/package.mo\"\n",
    "Dymola = \"/home/manuelnvro/dev/Gitted/NYPAModelTransformation/OpenIPSLVerification/VerificationRoutines/Dymola/\"\n",
    "#Working Directory\n",
    "FWindTurbinesWorkingDir = \"/home/manuelnvro/dev/Gitted/NYPAModelTransformation/OpenIPSLVerification/VerificationRoutines/Dymola/WorkingDir/Fault/WindTurbines/\"\n",
    "#Load Variation Folder Locations\n",
    "LoadVariationSource = \"/home/manuelnvro/dev/Gitted/NYPAModelTransformation/OpenIPSLVerification/VerificationRoutines/Dymola/Scripts/LoadVariation/AuxiliaryModels/Load_variation.mo\"\n",
    "LoadVariationDestinationPath = \"/home/manuelnvro/dev/Gitted/NYPAModelTransformation/OpenIPSLVerification/VerificationRoutines/Dymola/OpenIPSL/OpenIPSL/Electrical/Loads/PSSE/\"\n",
    "LoadVariationDestination = \"/home/manuelnvro/dev/Gitted/NYPAModelTransformation/OpenIPSLVerification/VerificationRoutines/Dymola/OpenIPSL/OpenIPSL/Electrical/Loads/PSSE/Load_variation.mo\"\n",
    "# Power Fault Folder Locations\n",
    "PowerFaultSource = \"/home/manuelnvro/dev/Gitted/NYPAModelTransformation/OpenIPSLVerification/VerificationRoutines/Dymola/Scripts/LoadVariation/AuxiliaryModels/PwFault.mo\"\n",
    "PowerFaultDestinationPath = \"/home/manuelnvro/dev/Gitted/NYPAModelTransformation/OpenIPSLVerification/VerificationRoutines/Dymola/OpenIPSL/OpenIPSL/Electrical/Events/\"\n",
    "PowerFaultDestination = \"/home/manuelnvro/dev/Gitted/NYPAModelTransformation/OpenIPSLVerification/VerificationRoutines/Dymola/OpenIPSL/OpenIPSL/Electrical/Events/PwFault.mo\""
   ]
  },
  {
   "cell_type": "code",
   "execution_count": 3,
   "metadata": {},
   "outputs": [],
   "source": [
    "#Setting Dymola Interface\n",
    "dymola = DymolaInterface(\"/opt/dymola-2020-x86_64/bin64/dymola.sh\")"
   ]
  },
  {
   "cell_type": "code",
   "execution_count": 4,
   "metadata": {},
   "outputs": [
    {
     "name": "stdout",
     "output_type": "stream",
     "text": [
      "Pulling latest OpenIPSL library version...\n",
      "\n",
      "Fault Dymola Wind Turbine Simulation Start...\n",
      "\n"
     ]
    }
   ],
   "source": [
    "#Deleting old OpenIPSL library version\n",
    "shutil.rmtree(f\"\"+OpenIPSL+\"\")\n",
    "#Pulling latest OpenIPSL library version\n",
    "print('Pulling latest OpenIPSL library version...\\n')\n",
    "git.Git(\"\"+Dymola+\"\").clone(\"\"+GitHubOpenIPSL+\"\")\n",
    "#Setting OpenIPSL library\n",
    "dymola.openModel(\"\"+OpenIPSLPackage+\"\") \n",
    "print(\"Fault Dymola Wind Turbine Simulation Start...\\n\")"
   ]
  },
  {
   "cell_type": "code",
   "execution_count": 5,
   "metadata": {},
   "outputs": [],
   "source": [
    "#Creation of matrix with names, paths and variables\n",
    "wturbines = { 'names' : [\"WT4G1\",\"WT4E1\"],\n",
    "            'path' : [\"OpenIPSL.Examples.Wind.PSSE.WT4G.WT4G1\",\"OpenIPSL.Examples.Wind.PSSE.WT4G.WT4E1\"],\n",
    "            'p' : ['wT4G1.P', 'wT4E1.P'],\n",
    "           'q' : ['wT4G1.Q', 'wT4E1.Q']}"
   ]
  },
  {
   "cell_type": "code",
   "execution_count": 6,
   "metadata": {},
   "outputs": [],
   "source": [
    "#Delete old results\n",
    "shutil.rmtree(''+FWindTurbinesWorkingDir+'')\n",
    "#Create folder\n",
    "os.makedirs(''+FWindTurbinesWorkingDir+'')\n",
    "os.chdir(f\"\"+FWindTurbinesWorkingDir+\"\")\n",
    "for wturbineNumber, wturbineName in enumerate(wturbines['names']):\n",
    "    os.makedirs(f'{wturbineName}')"
   ]
  },
  {
   "cell_type": "code",
   "execution_count": 7,
   "metadata": {},
   "outputs": [
    {
     "name": "stdout",
     "output_type": "stream",
     "text": [
      "Fault WT4E1 Simulation Start...\n",
      "WT4E1 Simulation OK...\n",
      ".csv Writing Start...\n",
      "WT4E1 Variables OK...\n",
      "WT4E1 Write OK...\n",
      "Fault WT4G1 Simulation Start...\n",
      "WT4G1 Simulation OK...\n",
      ".csv Writing Start...\n",
      "WT4G1 Variables OK...\n",
      "WT4G1 Write OK...\n",
      "Fault Wind Turbines Simulation OK...\n"
     ]
    }
   ],
   "source": [
    "#For loop that will iterate between Wind Turbines, simulate, and create the .csv fileurb\n",
    "for wturbineNumber, wturbineName in enumerate(wturbines['names']):\n",
    "    try:\n",
    "        print(f\"Fault {wturbineName} Simulation Start...\")\n",
    "        dymola.cd(\"\"+ FWindTurbinesWorkingDir + wturbineName)\n",
    "        resultPath = \"/\"+FWindTurbinesWorkingDir+f\"{wturbineName}/\" + wturbineName\n",
    "        result = dymola.simulateModel(wturbines['path'][wturbineNumber], \n",
    "                                    stopTime=10.0,\n",
    "                                    method=\"dassl\",\n",
    "                                    tolerance=1e-4,\n",
    "                                    numberOfIntervals = 500,\n",
    "                                    resultFile = resultPath)\n",
    "        if not result:\n",
    "            print(\"Simulation failed or model was not found. Below is the translation log:\\n\")\n",
    "            log = dymola.getLastErrorLog()\n",
    "            print(log)\n",
    "            try:\n",
    "                os.chdir(f\"/home/manuelnvro/dev/Gitted/PythonTesting/WorkingDir/Dymola/PowerSystemStabilizers/{pssName}/\")\n",
    "                os.remove(\"dsin.txt\")\n",
    "            except:\n",
    "                pass\n",
    "        else:\n",
    "            print(f\"{wturbineName} Simulation OK...\")\n",
    "            print(\".csv Writing Start...\") \n",
    "            sim = SimRes(\"\"+FWindTurbinesWorkingDir+f\"{wturbineName}/{wturbineName}.mat\")\n",
    "            if machineName == 'WT4E1':\n",
    "                variables = ['Time', wturbines['p'][wturbineNumber], wturbines['q'][wturbineNumber], 'wT4G1.P', 'wT4G1.Q', 'GEN1.V', 'FAULT.V', 'GEN2.V']\n",
    "            else:\n",
    "                variables = ['Time', wturbines['p'][wturbineNumber], wturbines['q'][wturbineNumber], 'GEN1.V', 'FAULT.V', 'GEN2.V']\n",
    "            df_variables = pd.DataFrame([], columns = variables)\n",
    "            for var in variables:\n",
    "                df_variables.drop(var, axis = 1, inplace = True)\n",
    "                df_variables[var] = np.array(sim[var].values())\n",
    "            print(f\"{wturbineName} Variables OK...\")\n",
    "            #Changing current directory\n",
    "            os.chdir(f\"\"+FWindTurbinesWorkingDir+\"\")\n",
    "            df_variables.to_csv(f'{wturbineName}.csv', index = False)          \n",
    "            print(f\"{wturbineName} Write OK...\")\n",
    "        try:\n",
    "            shutil.rmtree(\"\"+FWindTurbinesWorkingDir+f\"{wturbineName}/\")\n",
    "            print(\"Delete OK...\\n\")\n",
    "        except:\n",
    "            pass\n",
    "    except DymolaException as ex:\n",
    "        print(\"Error: \" + str(ex))\n",
    "print('Fault Wind Turbines Simulation OK...')"
   ]
  },
  {
   "cell_type": "code",
   "execution_count": null,
   "metadata": {},
   "outputs": [],
   "source": []
  }
 ],
 "metadata": {
  "kernelspec": {
   "display_name": "Python 3",
   "language": "python",
   "name": "python3"
  },
  "language_info": {
   "codemirror_mode": {
    "name": "ipython",
    "version": 3
   },
   "file_extension": ".py",
   "mimetype": "text/x-python",
   "name": "python",
   "nbconvert_exporter": "python",
   "pygments_lexer": "ipython3",
   "version": "3.7.4"
  }
 },
 "nbformat": 4,
 "nbformat_minor": 2
}
