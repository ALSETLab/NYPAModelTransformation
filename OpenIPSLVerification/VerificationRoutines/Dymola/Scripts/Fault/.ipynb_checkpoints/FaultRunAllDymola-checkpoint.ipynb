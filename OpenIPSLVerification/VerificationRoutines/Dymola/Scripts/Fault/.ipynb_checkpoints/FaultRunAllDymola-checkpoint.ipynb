{
 "cells": [
  {
   "cell_type": "code",
   "execution_count": 2,
   "metadata": {},
   "outputs": [],
   "source": [
    "import platform\n",
    "from dymola.dymola_interface import DymolaInterface\n",
    "from dymola.dymola_exception import DymolaException\n",
    "from modelicares import SimRes\n",
    "import pandas as pd\n",
    "import numpy as np\n",
    "import os\n",
    "import shutil"
   ]
  },
  {
   "cell_type": "code",
   "execution_count": null,
   "metadata": {},
   "outputs": [],
   "source": [
    "#This is intended to be used in the manuelnvro Dell using Dymola 2020"
   ]
  },
  {
   "cell_type": "code",
   "execution_count": 3,
   "metadata": {},
   "outputs": [
    {
     "name": "stdout",
     "output_type": "stream",
     "text": [
      "---------------------------------------------------------- Fault Exciters Testing ----------------------------------------------------------\n",
      "Error in Fault Exciters Testing...\n"
     ]
    }
   ],
   "source": [
    "#Run Exciters\n",
    "print('---------------------------------------------------------- Fault Exciters Testing ----------------------------------------------------------')\n",
    "try:\n",
    "    os.chdir(f\"/home/manuelnvro/dev/Gitted/NYPAModelTransformation/OpenIPSLVerification/VerificationRoutines/Dymola/Scripts/Fault/\")\n",
    "    exec(open(\"FaultExcitersDymola.py\").read())\n",
    "    print('Fault Exciters Testing OK...')\n",
    "except:\n",
    "    print('Error in Fault Exciters Testing...')"
   ]
  },
  {
   "cell_type": "code",
   "execution_count": 3,
   "metadata": {},
   "outputs": [
    {
     "name": "stdout",
     "output_type": "stream",
     "text": [
      "---------------------------------------------------------- Machines Testing ----------------------------------------------------------\n",
      "Error in Exciters Testing...\n"
     ]
    }
   ],
   "source": [
    "#Run Machines\n",
    "print('---------------------------------------------------------- Fault Machines Testing ----------------------------------------------------------')\n",
    "try:\n",
    "    os.chdir(f\"/home/manuelnvro/dev/Gitted/NYPAModelTransformation/OpenIPSLVerification/VerificationRoutines/Dymola/Scripts/Fault/\")\n",
    "    exec(open(\"FaultMachinesDymola.py\").read())\n",
    "    print('Fault Machines Testing OK...')\n",
    "except:\n",
    "    print('Fault Error in Machines Testing...')"
   ]
  },
  {
   "cell_type": "code",
   "execution_count": 6,
   "metadata": {},
   "outputs": [
    {
     "name": "stdout",
     "output_type": "stream",
     "text": [
      "---------------------------------------------------------- Turbine Governors Testing ----------------------------------------------------------\n",
      "Dymola Turbine Governors Simulation Start...\n",
      "\n",
      "BBGOV1 Simulation Start...\n",
      "Simulation failed or model was not found. Below is the translation log:\n",
      "\n",
      "Translation of <a href=\"Modelica://OpenIPSL.Examples.Controls.PSSE.TG.BBGOV1\">OpenIPSL.Examples.Controls.PSSE.TG.BBGOV1</a>:\n",
      "Did not find model OpenIPSL.Examples.Controls.PSSE.TG.BBGOV1\n",
      "Error: ERRORS have been issued.\n",
      "\n",
      "Delete OK...\n",
      "\n",
      "GAST Simulation Start...\n",
      "Simulation failed or model was not found. Below is the translation log:\n",
      "\n",
      "Translation of <a href=\"Modelica://OpenIPSL.Examples.Controls.PSSE.TG.GAST\">OpenIPSL.Examples.Controls.PSSE.TG.GAST</a>:\n",
      "Did not find model OpenIPSL.Examples.Controls.PSSE.TG.GAST\n",
      "Error: ERRORS have been issued.\n",
      "\n",
      "Delete OK...\n",
      "\n",
      "GAST2A Simulation Start...\n",
      "Simulation failed or model was not found. Below is the translation log:\n",
      "\n",
      "Translation of <a href=\"Modelica://OpenIPSL.Examples.Controls.PSSE.TG.GAST2A\">OpenIPSL.Examples.Controls.PSSE.TG.GAST2A</a>:\n",
      "Did not find model OpenIPSL.Examples.Controls.PSSE.TG.GAST2A\n",
      "Error: ERRORS have been issued.\n",
      "\n",
      "Delete OK...\n",
      "\n",
      "GGOV1 Simulation Start...\n",
      "Simulation failed or model was not found. Below is the translation log:\n",
      "\n",
      "Translation of <a href=\"Modelica://OpenIPSL.Examples.Controls.PSSE.TG.GGOV1\">OpenIPSL.Examples.Controls.PSSE.TG.GGOV1</a>:\n",
      "Did not find model OpenIPSL.Examples.Controls.PSSE.TG.GGOV1\n",
      "Error: ERRORS have been issued.\n",
      "\n",
      "Delete OK...\n",
      "\n",
      "HYGOV Simulation Start...\n",
      "HYGOV Simulation OK...\n",
      ".csv Writing Start...\n",
      "Verifying if it is a GENROU model...\n",
      "Not a GENROU model...\n",
      "Verifying if it is a GENROE model...\n",
      "Not a GENROE model...\n",
      "Verifying if it is a GENSAL model...\n",
      "HYGOV Variables OK...\n",
      "HYGOV Write OK...\n",
      "Delete OK...\n",
      "\n",
      "IEEG1 Simulation Start...\n",
      "Simulation failed or model was not found. Below is the translation log:\n",
      "\n",
      "Translation of <a href=\"Modelica://OpenIPSL.Examples.Controls.PSSE.TG.IEEG1\">OpenIPSL.Examples.Controls.PSSE.TG.IEEG1</a>:\n",
      "Did not find model OpenIPSL.Examples.Controls.PSSE.TG.IEEG1\n",
      "Error: ERRORS have been issued.\n",
      "\n",
      "Delete OK...\n",
      "\n",
      "IEESGO Simulation Start...\n",
      "IEESGO Simulation OK...\n",
      ".csv Writing Start...\n",
      "Verifying if it is a GENROU model...\n",
      "Not a GENROU model...\n",
      "Verifying if it is a GENROE model...\n",
      "Not a GENROE model...\n",
      "Verifying if it is a GENSAL model...\n",
      "IEESGO Variables OK...\n",
      "IEESGO Write OK...\n",
      "Delete OK...\n",
      "\n",
      "TGOV1 Simulation Start...\n",
      "TGOV1 Simulation OK...\n",
      ".csv Writing Start...\n",
      "Verifying if it is a GENROU model...\n",
      "Not a GENROU model...\n",
      "Verifying if it is a GENROE model...\n",
      "TGOV1 Variables OK...\n",
      "TGOV1 Write OK...\n",
      "Not a GENROE model...\n",
      "Verifying if it is a GENSAL model...\n",
      "Not a GENSAL model...\n",
      "Delete OK...\n",
      "\n",
      "WEHGOV Simulation Start...\n",
      "Simulation failed or model was not found. Below is the translation log:\n",
      "\n",
      "Translation of <a href=\"Modelica://OpenIPSL.Examples.Controls.PSSE.TG.WEHGOV\">OpenIPSL.Examples.Controls.PSSE.TG.WEHGOV</a>:\n",
      "Did not find model OpenIPSL.Examples.Controls.PSSE.TG.WEHGOV\n",
      "Error: ERRORS have been issued.\n",
      "\n",
      "Delete OK...\n",
      "\n",
      "WESGOV Simulation Start...\n",
      "Simulation failed or model was not found. Below is the translation log:\n",
      "\n",
      "Translation of <a href=\"Modelica://OpenIPSL.Examples.Controls.PSSE.TG.WESGOV\">OpenIPSL.Examples.Controls.PSSE.TG.WESGOV</a>:\n",
      "Did not find model OpenIPSL.Examples.Controls.PSSE.TG.WESGOV\n",
      "Error: ERRORS have been issued.\n",
      "\n",
      "Delete OK...\n",
      "\n",
      "WSHYDD Simulation Start...\n",
      "Simulation failed or model was not found. Below is the translation log:\n",
      "\n",
      "Translation of <a href=\"Modelica://OpenIPSL.Examples.Controls.PSSE.TG.WSHYDD\">OpenIPSL.Examples.Controls.PSSE.TG.WSHYDD</a>:\n",
      "Did not find model OpenIPSL.Examples.Controls.PSSE.TG.WSHYDD\n",
      "Error: ERRORS have been issued.\n",
      "\n",
      "Delete OK...\n",
      "\n",
      "WSHYGP Simulation Start...\n",
      "Simulation failed or model was not found. Below is the translation log:\n",
      "\n",
      "Translation of <a href=\"Modelica://OpenIPSL.Examples.Controls.PSSE.TG.WSHYGP\">OpenIPSL.Examples.Controls.PSSE.TG.WSHYGP</a>:\n",
      "Did not find model OpenIPSL.Examples.Controls.PSSE.TG.WSHYGP\n",
      "Error: ERRORS have been issued.\n",
      "\n",
      "Delete OK...\n",
      "\n",
      "Turbine Governor Examples Simulation OK...\n",
      "Turbine Governors Testing OK...\n"
     ]
    }
   ],
   "source": [
    "#Run Turbine Governors\n",
    "print('---------------------------------------------------------- Fault Turbine Governors Testing ----------------------------------------------------------')\n",
    "try:\n",
    "    os.chdir(f\"/home/manuelnvro/dev/Gitted/NYPAModelTransformation/OpenIPSLVerification/VerificationRoutines/Dymola/Scripts/Fault/\")\n",
    "    exec(open(\"FaultTurbineGovernorsDymola.py\").read())\n",
    "    print('Fault Turbine Governors Testing OK...')\n",
    "except:\n",
    "    print('Error in Fault Turbine Governors Testing...')"
   ]
  },
  {
   "cell_type": "code",
   "execution_count": 8,
   "metadata": {},
   "outputs": [
    {
     "name": "stdout",
     "output_type": "stream",
     "text": [
      "---------------------------------------------------------- Power System Stabilizers Testing ----------------------------------------------------------\n",
      "Dymola Power System Stabilizers Simulation Start...\n",
      "\n",
      "PSS2A Simulation Start...\n",
      "PSS2A Simulation OK...\n",
      ".csv Writing Start...\n",
      "Verifying if it is a GENROU model...\n",
      "PSS2A Variables OK...\n",
      "PSS2A Write OK...\n",
      "Delete OK...\n",
      "\n",
      "PSS2B Simulation Start...\n",
      "PSS2B Simulation OK...\n",
      ".csv Writing Start...\n",
      "Verifying if it is a GENROU model...\n",
      "PSS2B Variables OK...\n",
      "PSS2B Write OK...\n",
      "Delete OK...\n",
      "\n",
      "Power System Stabilizers Simulation OK...\n",
      "Power System Stabilizer Testing OK...\n"
     ]
    }
   ],
   "source": [
    "#Run Power System Stabilizer\n",
    "print('---------------------------------------------------------- Fault Power System Stabilizers Testing ----------------------------------------------------------')\n",
    "try:\n",
    "    os.chdir(f\"/home/manuelnvro/dev/Gitted/NYPAModelTransformation/OpenIPSLVerification/VerificationRoutines/Dymola/Scripts/Fault/\")\n",
    "    exec(open(\"FaultPowerSystemStabilizersDymola.py\").read())\n",
    "    print('Fault Power System Stabilizer Testing OK...')\n",
    "except:\n",
    "    print('Error in Fault Power System Stabilizer Testing...')"
   ]
  },
  {
   "cell_type": "code",
   "execution_count": null,
   "metadata": {},
   "outputs": [],
   "source": [
    "print('---------------------------------------------------------- End of All Fault Simulations ----------------------------------------------------------')"
   ]
  }
 ],
 "metadata": {
  "kernelspec": {
   "display_name": "Python 3",
   "language": "python",
   "name": "python3"
  },
  "language_info": {
   "codemirror_mode": {
    "name": "ipython",
    "version": 3
   },
   "file_extension": ".py",
   "mimetype": "text/x-python",
   "name": "python",
   "nbconvert_exporter": "python",
   "pygments_lexer": "ipython3",
   "version": "3.7.4"
  }
 },
 "nbformat": 4,
 "nbformat_minor": 2
}
