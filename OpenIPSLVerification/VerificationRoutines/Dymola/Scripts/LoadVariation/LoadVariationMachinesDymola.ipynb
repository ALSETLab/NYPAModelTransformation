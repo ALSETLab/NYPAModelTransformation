{
 "cells": [
  {
   "cell_type": "code",
   "execution_count": 1,
   "metadata": {},
   "outputs": [],
   "source": [
    "import platform\n",
    "from dymola.dymola_interface import DymolaInterface\n",
    "from dymola.dymola_exception import DymolaException\n",
    "from modelicares import SimRes\n",
    "import pandas as pd\n",
    "import numpy as np\n",
    "import os\n",
    "import shutil\n",
    "import git"
   ]
  },
  {
   "cell_type": "code",
   "execution_count": 2,
   "metadata": {},
   "outputs": [],
   "source": [
    "#This is intended to be used in the manuelnvro Dell using Dymola 2020"
   ]
  },
  {
   "cell_type": "code",
   "execution_count": 2,
   "metadata": {},
   "outputs": [],
   "source": [
    "#Setting Dymola Interface\n",
    "dymola = DymolaInterface(\"/opt/dymola-2020-x86_64/bin64/dymola.sh\")"
   ]
  },
  {
   "cell_type": "code",
   "execution_count": 3,
   "metadata": {},
   "outputs": [
    {
     "name": "stdout",
     "output_type": "stream",
     "text": [
      "Load Variation Dymola Machines Simulation Start...\n",
      "\n"
     ]
    }
   ],
   "source": [
    "#Deleting old OpenIPSL library version\n",
    "#shutil.rmtree(f\"/home/manuelnvro/dev/Gitted/NYPAModelTransformation/OpenIPSLVerification/VerificationRoutines/Dymola/OpenIPSL/\")\n",
    "#Pulling latest OpenIPSL library version\n",
    "##print('Pulling latest OpenIPSL library version...\\n')\n",
    "##git.Git(\"/home/manuelnvro/dev/Gitted/NYPAModelTransformation/OpenIPSLVerification/VerificationRoutines/Dymola/\").clone(\"https://github.com/marcelofcastro/OpenIPSL.git\")\n",
    "#Setting OpenIPSL library\n",
    "##dymola.openModel(\"/home/manuelnvro/dev/Gitted/NYPAModelTransformation/OpenIPSLVerification/VerificationRoutines/Dymola/OpenIPSL/OpenIPSL/package.mo\") \n",
    "dymola.openModel(\"/home/manuelnvro/Desktop/OpenIPSL/OpenIPSL/package.mo\")\n",
    "print(\"Load Variation Dymola Machines Simulation Start...\\n\")"
   ]
  },
  {
   "cell_type": "code",
   "execution_count": 4,
   "metadata": {},
   "outputs": [],
   "source": [
    "#Creation of matrix with names, paths and variables\n",
    "machines = { 'names' : [\"GENROU\",\"GENSAL\", \"GENCLS\", \"GENROE\", \"GENSAE\", \"CSVGN1\"],\n",
    "            'path' : [\"OpenIPSL.Examples.Machines.PSSE.GENROU\", \"OpenIPSL.Examples.Machines.PSSE.GENSAL\",\n",
    "                      \"OpenIPSL.Examples.Machines.PSSE.GENCLS\", \"OpenIPSL.Examples.Machines.PSSE.GENROE\", \n",
    "                      \"OpenIPSL.Examples.Machines.PSSE.GENSAE\", \"OpenIPSL.Examples.Machines.PSSE.CSVGN1\"],\n",
    "            'delta' : ['gENROU.delta', 'gENSAL.delta', 'gENCLS.delta', 'gENROE.delta', 'gENSAE.delta', 'cSVGN1.delta'],\n",
    "           'pelec' : ['gENROU.PELEC', 'gENSAL.PELEC', 'gENCLS.PELEC', 'gENROE.PELEC', 'gENSAE.PELEC', 'cSVGN1.PELEC'],\n",
    "           'speed' : ['gENROU.SPEED', 'gENSAL.SPEED', 'gENCLS.SPEED', 'gENROE.SPEED', 'gENSAE.SPEED', 'cSVGN1.SPEED'],\n",
    "           'pmech' : ['gENROU.PMECH', 'gENSAL.PMECH', 'gENCLS.PMECH', 'gENROE.PMECH', 'gENSAE.PMECH', 'cSVGN1.PMECH']}\n",
    "\n"
   ]
  },
  {
   "cell_type": "code",
   "execution_count": 6,
   "metadata": {},
   "outputs": [],
   "source": [
    "#Delete old results\n",
    "shutil.rmtree('/home/manuelnvro/dev/Gitted/NYPAModelTransformation/OpenIPSLVerification/VerificationRoutines/Dymola/WorkingDir/LoadVariation/Machines/')\n",
    "#Create Exciters folder\n",
    "os.makedirs('/home/manuelnvro/dev/Gitted/NYPAModelTransformation/OpenIPSLVerification/VerificationRoutines/Dymola/WorkingDir/LoadVariation/Machines/')\n",
    "os.chdir(f\"/home/manuelnvro/dev/Gitted/NYPAModelTransformation/OpenIPSLVerification/VerificationRoutines/Dymola/WorkingDir/LoadVariation/Machines/\")\n",
    "for machineNumber, machineName in enumerate(machines['names']):\n",
    "    os.makedirs(f'{machineName}')"
   ]
  },
  {
   "cell_type": "code",
   "execution_count": 7,
   "metadata": {},
   "outputs": [
    {
     "name": "stdout",
     "output_type": "stream",
     "text": [
      "Load Variation GENROU Simulation Start...\n",
      "Editing SMIB Partial Model for Load Variation Testing...\n",
      "GENROU Simulation OK...\n",
      ".csv Writing Start...\n",
      "GENROU Variables OK...\n",
      "GENROU Write OK...\n",
      "Load Variation GENSAL Simulation Start...\n",
      "Editing SMIB Partial Model for Load Variation Testing...\n",
      "GENSAL Simulation OK...\n",
      ".csv Writing Start...\n",
      "GENSAL Variables OK...\n",
      "GENSAL Write OK...\n",
      "Load Variation GENCLS Simulation Start...\n",
      "Editing SMIB Partial Model for Load Variation Testing...\n",
      "Simulation failed or model was not found. Below is the translation log:\n",
      "\n",
      "Translation of <a href=\"Modelica://OpenIPSL.Examples.Machines.PSSE.GENCLS\">OpenIPSL.Examples.Machines.PSSE.GENCLS</a>:\n",
      "Did not find model OpenIPSL.Examples.Machines.PSSE.GENCLS\n",
      "Error: ERRORS have been issued.\n",
      "\n",
      "Load Variation GENROE Simulation Start...\n",
      "Editing SMIB Partial Model for Load Variation Testing...\n",
      "GENROE Simulation OK...\n",
      ".csv Writing Start...\n",
      "GENROE Variables OK...\n",
      "GENROE Write OK...\n",
      "Load Variation GENSAE Simulation Start...\n",
      "Editing SMIB Partial Model for Load Variation Testing...\n",
      "GENSAE Simulation OK...\n",
      ".csv Writing Start...\n",
      "GENSAE Variables OK...\n",
      "GENSAE Write OK...\n",
      "Load Variation CSVGN1 Simulation Start...\n",
      "Editing SMIB Partial Model for Load Variation Testing...\n",
      "Simulation failed or model was not found. Below is the translation log:\n",
      "\n",
      "Translation of <a href=\"Modelica://OpenIPSL.Examples.Machines.PSSE.CSVGN1\">OpenIPSL.Examples.Machines.PSSE.CSVGN1</a>:\n",
      "Did not find model OpenIPSL.Examples.Machines.PSSE.CSVGN1\n",
      "Error: ERRORS have been issued.\n",
      "\n",
      "Load Variation Machine Examples Simulation OK...\n"
     ]
    }
   ],
   "source": [
    "#For loop that will iterate between machines, simulate, and create the .csv file\n",
    "for machineNumber, machineName in enumerate(machines['names']):\n",
    "    try:\n",
    "        print(f\"Load Variation {machineName} Simulation Start...\")\n",
    "        print(\"Editing SMIB Partial Model for Load Variation Testing...\")\n",
    "        resultPath = f\"//home/manuelnvro/dev/Gitted/NYPAModelTransformation/OpenIPSLVerification/VerificationRoutines/Dymola/WorkingDir/LoadVariation/Machines/{machineName}/\" + machineName\n",
    "        dymola.translateModel(machines['path'][machineNumber])\n",
    "        #Get rid of the Fault\n",
    "        dymola.ExecuteCommand(\"pwFault.t1 = 20;\")\n",
    "        dymola.ExecuteCommand(\"pwFault.t2 = 20.15;\")\n",
    "        #Adjust Load Variation\n",
    "        dymola.ExecuteCommand(\"constantLoad.d_P = 1;\")\n",
    "        dymola.ExecuteCommand(\"constantLoad.t1 = 0.5;\")\n",
    "        dymola.ExecuteCommand(\"constantLoad.d_t = 20;\")\n",
    "        result = dymola.simulateModel(machines['path'][machineNumber], \n",
    "                                      stopTime=10.0, \n",
    "                                      method=\"Rkfix2\", \n",
    "                                      tolerance=1e-06, \n",
    "                                      numberOfIntervals = 5000, \n",
    "                                      resultFile = resultPath) \n",
    "        if not result:\n",
    "            print(\"Simulation failed or model was not found. Below is the translation log:\\n\")\n",
    "            log = dymola.getLastErrorLog()\n",
    "            print(log)\n",
    "        else:\n",
    "            print(f\"{machineName} Simulation OK...\")\n",
    "            print(\".csv Writing Start...\")\n",
    "            #Selecting Result File\n",
    "            sim = SimRes(f\"/home/manuelnvro/dev/Gitted/NYPAModelTransformation/OpenIPSLVerification/VerificationRoutines/Dymola/WorkingDir/LoadVariation/Machines/{machineName}/{machineName}.mat\")\n",
    "            #Selecting Variables\n",
    "            variables = ['Time', machines['delta'][machineNumber], machines['pelec'][machineNumber], machines['pmech'][machineNumber], machines['speed'][machineNumber], 'GEN1.V', 'LOAD.V', 'GEN2.V', 'FAULT.V' ]\n",
    "            df_variables = pd.DataFrame([], columns = variables)\n",
    "            for var in variables:\n",
    "                df_variables.drop(var, axis = 1, inplace = True)\n",
    "                #Change from Radians to Degrees\n",
    "                if var == machines['delta'][machineNumber]:\n",
    "                    df_variables[var] = np.array(sim[var].values()*(180/np.pi))    \n",
    "                else:\n",
    "                    #check if a variable does not change during the simulation and then and make a ones array and multiply by the value\n",
    "                    try:\n",
    "                        df_variables[var] = np.array(sim[var].values())\n",
    "                    except:\n",
    "                        first = np.array(sim[var].values())\n",
    "                        df_variables[var] = first[0] * np.ones(df_variables['Time'].size)\n",
    "            print(f\"{machineName} Variables OK...\")\n",
    "            #Changing current directory\n",
    "            os.chdir(f\"/home/manuelnvro/dev/Gitted/NYPAModelTransformation/OpenIPSLVerification/VerificationRoutines/Dymola/WorkingDir/LoadVariation/Machines/\")\n",
    "            df_variables.to_csv(f'{machineName}.csv', index = False)          \n",
    "            print(f\"{machineName} Write OK...\")       \n",
    "        try:\n",
    "            pass\n",
    "            #shutil.rmtree(f\"/home/manuelnvro/dev/Gitted/NYPAModelTransformation/OpenIPSLVerification/VerificationRoutines/Dymola/WorkingDir/LoadVariation/Machines/{machineName}/\")\n",
    "            #print(\"Delete OK...\\n\")\n",
    "        except:\n",
    "            pass          \n",
    "    except DymolaException as ex:\n",
    "        print(\"Error: \" + str(ex))\n",
    "print('Load Variation Machine Examples Simulation OK...')\n"
   ]
  }
 ],
 "metadata": {
  "kernelspec": {
   "display_name": "Python 3",
   "language": "python",
   "name": "python3"
  },
  "language_info": {
   "codemirror_mode": {
    "name": "ipython",
    "version": 3
   },
   "file_extension": ".py",
   "mimetype": "text/x-python",
   "name": "python",
   "nbconvert_exporter": "python",
   "pygments_lexer": "ipython3",
   "version": "3.7.4"
  }
 },
 "nbformat": 4,
 "nbformat_minor": 2
}
